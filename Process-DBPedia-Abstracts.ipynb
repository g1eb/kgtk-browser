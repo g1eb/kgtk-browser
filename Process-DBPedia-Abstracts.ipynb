{
 "cells": [
  {
   "cell_type": "code",
   "execution_count": 1,
   "id": "ed15f501-6248-47bf-863f-a3f5f38919e3",
   "metadata": {},
   "outputs": [],
   "source": [
    "import pandas as pd\n",
    "import bz2\n",
    "import csv\n",
    "\n",
    "import os\n",
    "import sys\n",
    "from kgtk.configure_kgtk_notebooks import ConfigureKGTK\n",
    "from kgtk.functions import kgtk, kypher"
   ]
  },
  {
   "cell_type": "code",
   "execution_count": 7,
   "id": "0e929d42-5213-4b5f-9add-f1e21e7965cb",
   "metadata": {},
   "outputs": [],
   "source": [
    "# Parameters\n",
    "\n",
    "input_path = \"/Volumes/saggu-ssd/wikidata-dwd-v3\"\n",
    "output_path = \"/Volumes/saggu-ssd/wikidata-dwd-v3\"\n",
    "kgtk_path = \"/Users/amandeep/Github/kgtk\"\n",
    "\n",
    "graph_cache_path = None\n",
    "\n",
    "\n",
    "project_name = \"dbpedia-abstracts\"\n",
    "files = 'sitelinks'\n",
    "debug=True"
   ]
  },
  {
   "cell_type": "code",
   "execution_count": 8,
   "id": "02d90cad-c3ae-4ec7-a066-362d13d279df",
   "metadata": {},
   "outputs": [],
   "source": [
    "files = files.split(\",\")"
   ]
  },
  {
   "cell_type": "code",
   "execution_count": 9,
   "id": "ffafde46-fcdd-41c8-86c7-436963429e6a",
   "metadata": {},
   "outputs": [
    {
     "name": "stdout",
     "output_type": "stream",
     "text": [
      "User home: /Users/amandeep\n",
      "Current dir: /Users/amandeep/Github/kgtk-browser\n",
      "KGTK dir: /Users/amandeep/Github/kgtk\n",
      "Use-cases dir: /Users/amandeep/Github/kgtk/use-cases\n"
     ]
    }
   ],
   "source": [
    "ck = ConfigureKGTK(files, kgtk_path=kgtk_path)\n",
    "ck.configure_kgtk(input_graph_path=input_path,\n",
    "                  output_path=output_path,\n",
    "                  project_name=project_name,\n",
    "                 graph_cache_path=graph_cache_path)"
   ]
  },
  {
   "cell_type": "code",
   "execution_count": 10,
   "id": "60032cb6-9909-483f-ba34-ef61fde5e46d",
   "metadata": {},
   "outputs": [
    {
     "name": "stdout",
     "output_type": "stream",
     "text": [
      "KGTK_GRAPH_CACHE: /Volumes/saggu-ssd/wikidata-dwd-v3/dbpedia-abstracts/temp.dbpedia-abstracts/wikidata.sqlite3.db\n",
      "USE_CASES_DIR: /Users/amandeep/Github/kgtk/use-cases\n",
      "STORE: /Volumes/saggu-ssd/wikidata-dwd-v3/dbpedia-abstracts/temp.dbpedia-abstracts/wikidata.sqlite3.db\n",
      "KGTK_LABEL_FILE: /Volumes/saggu-ssd/wikidata-dwd-v3/labels.en.tsv.gz\n",
      "kgtk: kgtk\n",
      "TEMP: /Volumes/saggu-ssd/wikidata-dwd-v3/dbpedia-abstracts/temp.dbpedia-abstracts\n",
      "EXAMPLES_DIR: /Users/amandeep/Github/kgtk/examples\n",
      "kypher: kgtk query --graph-cache /Volumes/saggu-ssd/wikidata-dwd-v3/dbpedia-abstracts/temp.dbpedia-abstracts/wikidata.sqlite3.db\n",
      "KGTK_OPTION_DEBUG: false\n",
      "OUT: /Volumes/saggu-ssd/wikidata-dwd-v3/dbpedia-abstracts\n",
      "GRAPH: /Volumes/saggu-ssd/wikidata-dwd-v3\n",
      "sitelinks: /Volumes/saggu-ssd/wikidata-dwd-v3/sitelinks.tsv.gz\n"
     ]
    }
   ],
   "source": [
    "ck.print_env_variables()"
   ]
  },
  {
   "cell_type": "code",
   "execution_count": 11,
   "id": "de51accd-ab9c-4e24-a530-34ab8c9deab9",
   "metadata": {},
   "outputs": [
    {
     "name": "stdout",
     "output_type": "stream",
     "text": [
      "kgtk query --graph-cache /Volumes/saggu-ssd/wikidata-dwd-v3/dbpedia-abstracts/temp.dbpedia-abstracts/wikidata.sqlite3.db -i \"/Volumes/saggu-ssd/wikidata-dwd-v3/sitelinks.tsv.gz\" --as sitelinks  --limit 3\n",
      "id\tnode1\tlabel\tnode2\tlang\trank\tnode2;wikidatatype\n",
      "Q1-addl_wikipedia_sitelink-19e42a-0\tQ1\taddl_wikipedia_sitelink\thttp://enwikiquote.org/wiki/Universe\ten\t\t\n",
      "Q1-addl_wikipedia_sitelink-1a91c7-0\tQ1\taddl_wikipedia_sitelink\thttp://itwikibooks.org/wiki/Universo\tit\t\t\n",
      "Q1-addl_wikipedia_sitelink-1c8e7b-0\tQ1\taddl_wikipedia_sitelink\thttp://ptwikiquote.org/wiki/Universo\tpt\t\t\n"
     ]
    }
   ],
   "source": [
    "if graph_cache_path is None:\n",
    "    ck.load_files_into_cache()"
   ]
  },
  {
   "cell_type": "markdown",
   "id": "99ff92d8-c301-40c5-9380-9484da3b674a",
   "metadata": {},
   "source": [
    "### Converts `en` dbpedia urls to `en` wikipedia urls"
   ]
  },
  {
   "cell_type": "code",
   "execution_count": 14,
   "id": "87eedc8e-3ab4-4885-8009-aa198dbc3664",
   "metadata": {},
   "outputs": [],
   "source": [
    "def convert_db_to_wiki_url(db_url: str, kgtk_format=True):\n",
    "    # val = db_url.split('/')[-1]\n",
    "    val = db_url[28:]\n",
    "    if kgtk_format:\n",
    "            return f\"http://en.wikipedia.org/wiki/{val}\"\n",
    "    return f\"https://en.wikipedia.org/wiki/{val}\""
   ]
  },
  {
   "cell_type": "markdown",
   "id": "517f54e9-e6ee-470a-81ff-422d4d1946d0",
   "metadata": {},
   "source": [
    "### Parse DBPedia abstracts ttl quad to JSON"
   ]
  },
  {
   "cell_type": "markdown",
   "id": "ec5a0c35-7b18-4621-8b71-f0157f2dde17",
   "metadata": {},
   "source": [
    "Sample ttl quad\n",
    "```\n",
    "<http://dbpedia.org/resource/!!!> <http://dbpedia.org/ontology/abstract> \"!!! (/tʃ(ɪ)k.tʃ(ɪ)k.tʃ(ɪ)k/ ch(i)k-ch(i)k-ch(i)k), also known as Chk Chk Chk, is an American rock band from Sacramento, California, formed in 1996 by lead singer Nic Offer. Members of !!! came from other local bands such as the Yah Mos, Black Liquorice and Pope Smashers. They are currently based in New York City. The band's eighth album, Wallop, was released in August 2019.\"@en .\n",
    "```"
   ]
  },
  {
   "cell_type": "code",
   "execution_count": 16,
   "id": "3a953e19-346f-472d-bb1d-2cbd290f3055",
   "metadata": {},
   "outputs": [],
   "source": [
    "def parse_dbpedia_abstract_ttl(db_string_s):\n",
    "    db_uri = ''\n",
    "    abstract = ''\n",
    "    token_counter = 1\n",
    "    accumulate = ''\n",
    "    uri_started = False\n",
    "    abstract_started = False\n",
    "    db_string = db_string_s.replace('\\\\\\\\', '')\n",
    "                                  \n",
    "    for i in range(len(db_string)):\n",
    "        c = db_string[i]\n",
    "        if c == '<' and not abstract_started:\n",
    "            uri_started = True\n",
    "            continue\n",
    "\n",
    "        if c == '>' and not abstract_started:\n",
    "            uri_started = False\n",
    "            if token_counter == 1:\n",
    "                db_uri = accumulate\n",
    "            accumulate = ''\n",
    "            token_counter += 1\n",
    "        if c == '\"' and not abstract_started:\n",
    "            abstract_started = True\n",
    "            continue\n",
    "        if c == '\"' and abstract_started and (i > 0 and db_string[i-1] != \"\\\\\"):\n",
    "            abstract_started = False\n",
    "            if token_counter == 3:\n",
    "                abstract = accumulate\n",
    "            accumulate = ''\n",
    "            token_counter += 1\n",
    "        if uri_started or abstract_started:\n",
    "            accumulate += c\n",
    "    if len(abstract) < 5:\n",
    "        print(db_uri, abstract, convert_db_to_wiki_url(db_uri))\n",
    "\n",
    "    return {'node1': convert_db_to_wiki_url(db_uri), 'label': 'abstract',\n",
    "            'node2': f'\"{abstract}\"@en'} if db_uri != '' else None\n"
   ]
  },
  {
   "cell_type": "code",
   "execution_count": 17,
   "id": "242bceff-d289-4c8b-8f81-4c8c6aeabdf9",
   "metadata": {},
   "outputs": [],
   "source": [
    "def process(i_file, o_file):\n",
    "    f = bz2.open(i_file, mode='rt')\n",
    "    r = []\n",
    "    count = 1\n",
    "    for line in f:\n",
    "        if count % 100000 == 0:\n",
    "            print(count)\n",
    "        r.append(parse_dbpedia_abstract_ttl(line))\n",
    "        count += 1\n",
    "    print(f'Total lines: {count}')\n",
    "    df = pd.DataFrame(r)\n",
    "    df.to_csv(o_file, sep='\\t', index=False, quoting=csv.QUOTE_NONE)"
   ]
  },
  {
   "cell_type": "markdown",
   "id": "47dbd687-1f69-49d4-a609-9297c5f64d87",
   "metadata": {},
   "source": [
    "### Download dbpedial long abstracts file from https://databus.dbpedia.org/dbpedia/text/long-abstracts/"
   ]
  },
  {
   "cell_type": "code",
   "execution_count": 18,
   "id": "85f1446f-213a-41c9-b78e-e5c1f50f7faa",
   "metadata": {},
   "outputs": [],
   "source": [
    "input_dbpedia_ttl_file = 'dbpedia_data/long-abstracts_lang=en.ttl.bz2'\n",
    "input_dbpedia_short_abstracts = 'dbpedia_data/short-abstracts_lang=en.ttl.bz2'\n",
    "output_file = 'dbpedia_data/long_abstracts.tsv.gz'\n",
    "output_short_abstracts = 'dbpedia_data/short_abstracts.tsv.gz'"
   ]
  },
  {
   "cell_type": "code",
   "execution_count": 21,
   "id": "68fb9fc9-2b49-4154-9be0-d3a7bdfc55e9",
   "metadata": {},
   "outputs": [
    {
     "name": "stdout",
     "output_type": "stream",
     "text": [
      "100000\n",
      "200000\n",
      "300000\n",
      "400000\n",
      "500000\n",
      "600000\n",
      "700000\n",
      "800000\n",
      "900000\n",
      "1000000\n",
      "1100000\n",
      "1200000\n",
      "http://dbpedia.org/resource/Cher_Special_Gigs . http://en.wikipedia.org/wiki/Cher_Special_Gigs\n",
      "1300000\n",
      "1400000\n",
      "1500000\n",
      "1600000\n",
      "1700000\n",
      "1800000\n",
      "1900000\n",
      "2000000\n",
      "2100000\n",
      "2200000\n",
      "2300000\n",
      "2400000\n",
      "2500000\n",
      "2600000\n",
      "2700000\n",
      "2800000\n",
      "http://dbpedia.org/resource/Jonathon_W._G._Wills | http://en.wikipedia.org/wiki/Jonathon_W._G._Wills\n",
      "2900000\n",
      "3000000\n",
      "3100000\n",
      "3200000\n",
      "3300000\n",
      "http://dbpedia.org/resource/List_of_World_War_II_firearms_of_Germany . http://en.wikipedia.org/wiki/List_of_World_War_II_firearms_of_Germany\n",
      "http://dbpedia.org/resource/List_of_educational_institutions_in_Palakkad_district . http://en.wikipedia.org/wiki/List_of_educational_institutions_in_Palakkad_district\n",
      "http://dbpedia.org/resource/List_of_royal_consorts_of_Haiti ] http://en.wikipedia.org/wiki/List_of_royal_consorts_of_Haiti\n",
      "http://dbpedia.org/resource/List_of_rulers_of_the_Ngoni_Dynasty_of_Jere_(Qeko)  http://en.wikipedia.org/wiki/List_of_rulers_of_the_Ngoni_Dynasty_of_Jere_(Qeko)\n",
      "http://dbpedia.org/resource/List_of_settlements_in_the_Federation_of_Bosnia_and_Herzegovina/O , http://en.wikipedia.org/wiki/O\n",
      "http://dbpedia.org/resource/List_of_topics_related_to_Barack_Obama }} http://en.wikipedia.org/wiki/List_of_topics_related_to_Barack_Obama\n",
      "http://dbpedia.org/resource/List_of_wind_tunnels 7. - http://en.wikipedia.org/wiki/List_of_wind_tunnels\n",
      "3400000\n",
      "3500000\n",
      "3600000\n",
      "3700000\n",
      "http://dbpedia.org/resource/Miss_Kentucky_United_States [[]] http://en.wikipedia.org/wiki/Miss_Kentucky_United_States\n",
      "3800000\n",
      "http://dbpedia.org/resource/Nandhini_(anti-liquor-activist) is http://en.wikipedia.org/wiki/Nandhini_(anti-liquor-activist)\n",
      "3900000\n",
      "4000000\n",
      "4100000\n",
      "4200000\n",
      "4300000\n",
      "4400000\n",
      "4500000\n",
      "4600000\n",
      "4700000\n",
      "4800000\n",
      "4900000\n",
      "5000000\n",
      "5100000\n",
      "5200000\n",
      "http://dbpedia.org/resource/Tag_management \\n* http://en.wikipedia.org/wiki/Tag_management\n",
      "5300000\n",
      "5400000\n",
      "http://dbpedia.org/resource/Timeline_of_Maharashtra_history v http://en.wikipedia.org/wiki/Timeline_of_Maharashtra_history\n",
      "http://dbpedia.org/resource/Timeline_of_agriculture_and_food_technology . http://en.wikipedia.org/wiki/Timeline_of_agriculture_and_food_technology\n",
      "5500000\n",
      "5600000\n",
      "http://dbpedia.org/resource/Vijay_Award_for_Favourite_Heroine nmO http://en.wikipedia.org/wiki/Vijay_Award_for_Favourite_Heroine\n",
      "5700000\n",
      "5800000\n",
      "5900000\n",
      "6000000\n",
      "Total lines: 6006667\n"
     ]
    }
   ],
   "source": [
    "process(input_dbpedia_ttl_file, output_file)"
   ]
  },
  {
   "cell_type": "code",
   "execution_count": 22,
   "id": "d273508f-1e9c-45ee-aa6a-a2253b01eed9",
   "metadata": {},
   "outputs": [
    {
     "name": "stdout",
     "output_type": "stream",
     "text": [
      "node1\tlabel\tnode2\n",
      "http://en.wikipedia.org/wiki/!!!\tabstract\t\"!!! (/tʃ(ɪ)k.tʃ(ɪ)k.tʃ(ɪ)k/ ch(i)k-ch(i)k-ch(i)k), also known as Chk Chk Chk, is an American rock band from Sacramento, California, formed in 1996 by lead singer Nic Offer. Members of !!! came from other local bands such as the Yah Mos, Black Liquorice and Pope Smashers. They are currently based in New York City. The band's eighth album, Wallop, was released in August 2019.\"@en\n",
      "http://en.wikipedia.org/wiki/!!!_(album)\tabstract\t\"!!! is the eponymous debut studio album by the dance-punk band of the same name. It was released in 2000 on Gold Standard Laboratories on vinyl, and saw wide release on CD on 19 June 2001.\"@en\n",
      "http://en.wikipedia.org/wiki/!Action_Pact!\tabstract\t\"!Action Pact! was a London-based punk rock band, formed in 1981 by guitarist Wild Planet, bassist , , and drummer . They would later break up in 1986.\"@en\n",
      "http://en.wikipedia.org/wiki/!Arriba!_La_Pachanga\tabstract\t\"!Arriba! La Pachanga is an album by Mongo Santamaría, published by Fantasy Records in 1959.\"@en\n",
      "http://en.wikipedia.org/wiki/!Hero\tabstract\t\"!HERO is a 2003 Christian rock opera about Jesus. It is based on the question, \\\"What if Jesus was born in Bethlehem, Pennsylvania?\\\". After the original tour in 2003 ended, it was released on DVD, CD, and was written into a trilogy of novels and series of comic books.\"@en\n",
      "http://en.wikipedia.org/wiki/!Hero_(album)\tabstract\t\"!Hero is an album featuring the songs from the rock opera, !Hero. It is based on the question, \\\"What if Jesus was born in Bethlehem, Pennsylvania?\\\" The rock opera modernizes Jesus' last two years on earth and features a cast of many well-known Christian rock artists with Michael Tait, Rebecca St. James, and Mark Stuart as the three main characters: Hero (Jesus), Maggie (Mary Magdalene), and Petrov (Peter).\"@en\n",
      "http://en.wikipedia.org/wiki/!Kweiten-ta-ǀǀKen\tabstract\t\"!Kweiten-ta-||Ken (name derived from an unknown language local to the Katkop Mountains) (also known as Rachel or Griet) was a noted |xam (San) chronicler of ǀXam culture and knowledge. She played an important role in contributing to the Bleek and Lloyd archive of “Specimens of Bushman Folklore” providing a female perspective on the life, rituals, and beliefs of |xam society. She was the primary source on |xam folklore, customs, and coming-of-age rights. She travelled to the Cape in June 1874 with her family and stayed until January 1875 during which she was interviewed by Wilhelm Bleek and Lucy Lloyd. She was from the Katkop mountains north west of Brandvlei in what is today South Africa.\"@en\n",
      "http://en.wikipedia.org/wiki/!Oka_Tokat\tabstract\t\"!Oka Tokat was a Philippine paranormal drama which originally aired on ABS-CBN from June 24, 1997 to May 7, 2002 every Tuesday night. It starred Ricky Davao, Diether Ocampo, Jericho Rosales, Angelika Dela Cruz, Rica Peralejo, Paolo Contis and Agot Isidro. Its title is the reverse spelling of the phrase Takot ako! (I'm scared!); hence, the exclamation point at the beginning. In 2001, the series was reformatted and it starred by the several child stars. It was the longest-running horror series on Philippine television. The show revolves around a media crew led by Rona del Fierro (played by Isidro) who investigate paranormal cases with the help del Fierro's premonitions. Most of the story arcs feature creatures in Filipino mythology, including the dwende (dwarf), tikbalang, diwata and the engkanto. It was re-aired on ABS-CBN's cable channel, Jeepney TV.\"@en\n",
      "http://en.wikipedia.org/wiki/!PAUS3\tabstract\t\"!PAUS3, or THEE PAUSE, (born July 27, 1981) is an international platinum selling musician and artist, who began his career in his early teens in the former Soviet Bloc nations of Ukraine, Romania and Bulgaria.\"@en\n",
      "gzcat: error writing to output: Broken pipe\n",
      "gzcat: dbpedia_data/long_abstracts.tsv.gz: uncompress failed\n"
     ]
    }
   ],
   "source": [
    "!gzcat dbpedia_data/long_abstracts.tsv.gz | head -10"
   ]
  },
  {
   "cell_type": "code",
   "execution_count": 19,
   "id": "f69dbf07-46f8-4d22-b44f-c4e9fb42c57b",
   "metadata": {},
   "outputs": [
    {
     "name": "stdout",
     "output_type": "stream",
     "text": [
      "100000\n",
      "200000\n",
      "300000\n",
      "400000\n",
      "500000\n",
      "600000\n",
      "700000\n",
      "800000\n",
      "900000\n",
      "1000000\n",
      "1100000\n",
      "1200000\n",
      "http://dbpedia.org/resource/Cher_Special_Gigs . http://en.wikipedia.org/wiki/Cher_Special_Gigs\n",
      "1300000\n",
      "1400000\n",
      "1500000\n",
      "1600000\n",
      "1700000\n",
      "1800000\n",
      "1900000\n",
      "2000000\n",
      "2100000\n",
      "2200000\n",
      "2300000\n",
      "2400000\n",
      "2500000\n",
      "2600000\n",
      "2700000\n",
      "2800000\n",
      "http://dbpedia.org/resource/Jonathon_W._G._Wills | http://en.wikipedia.org/wiki/Jonathon_W._G._Wills\n",
      "2900000\n",
      "3000000\n",
      "3100000\n",
      "3200000\n",
      "3300000\n",
      "http://dbpedia.org/resource/List_of_World_War_II_firearms_of_Germany . http://en.wikipedia.org/wiki/List_of_World_War_II_firearms_of_Germany\n",
      "http://dbpedia.org/resource/List_of_educational_institutions_in_Palakkad_district . http://en.wikipedia.org/wiki/List_of_educational_institutions_in_Palakkad_district\n",
      "http://dbpedia.org/resource/List_of_royal_consorts_of_Haiti ] http://en.wikipedia.org/wiki/List_of_royal_consorts_of_Haiti\n",
      "http://dbpedia.org/resource/List_of_rulers_of_the_Ngoni_Dynasty_of_Jere_(Qeko)  http://en.wikipedia.org/wiki/List_of_rulers_of_the_Ngoni_Dynasty_of_Jere_(Qeko)\n",
      "http://dbpedia.org/resource/List_of_settlements_in_the_Federation_of_Bosnia_and_Herzegovina/O , http://en.wikipedia.org/wiki/List_of_settlements_in_the_Federation_of_Bosnia_and_Herzegovina/O\n",
      "http://dbpedia.org/resource/List_of_topics_related_to_Barack_Obama }} http://en.wikipedia.org/wiki/List_of_topics_related_to_Barack_Obama\n",
      "http://dbpedia.org/resource/List_of_wind_tunnels 7. - http://en.wikipedia.org/wiki/List_of_wind_tunnels\n",
      "3400000\n",
      "3500000\n",
      "3600000\n",
      "3700000\n",
      "http://dbpedia.org/resource/Miss_Kentucky_United_States [[]] http://en.wikipedia.org/wiki/Miss_Kentucky_United_States\n",
      "3800000\n",
      "http://dbpedia.org/resource/Nandhini_(anti-liquor-activist) is http://en.wikipedia.org/wiki/Nandhini_(anti-liquor-activist)\n",
      "3900000\n",
      "4000000\n",
      "4100000\n",
      "4200000\n",
      "4300000\n",
      "4400000\n",
      "4500000\n",
      "4600000\n",
      "4700000\n",
      "4800000\n",
      "4900000\n",
      "5000000\n",
      "5100000\n",
      "5200000\n",
      "http://dbpedia.org/resource/Tag_management \\n* http://en.wikipedia.org/wiki/Tag_management\n",
      "5300000\n",
      "5400000\n",
      "http://dbpedia.org/resource/Timeline_of_Maharashtra_history v http://en.wikipedia.org/wiki/Timeline_of_Maharashtra_history\n",
      "http://dbpedia.org/resource/Timeline_of_agriculture_and_food_technology . http://en.wikipedia.org/wiki/Timeline_of_agriculture_and_food_technology\n",
      "5500000\n",
      "5600000\n",
      "http://dbpedia.org/resource/Vijay_Award_for_Favourite_Heroine nmO http://en.wikipedia.org/wiki/Vijay_Award_for_Favourite_Heroine\n",
      "5700000\n",
      "5800000\n",
      "5900000\n",
      "6000000\n",
      "Total lines: 6006667\n"
     ]
    }
   ],
   "source": [
    "process(input_dbpedia_short_abstracts, output_short_abstracts)"
   ]
  },
  {
   "cell_type": "code",
   "execution_count": 20,
   "id": "f84f4574-6184-47aa-92c9-51751b5395e8",
   "metadata": {},
   "outputs": [
    {
     "name": "stdout",
     "output_type": "stream",
     "text": [
      "node1\tlabel\tnode2\n",
      "http://en.wikipedia.org/wiki/!!!\tabstract\t\"!!! (/tʃ(ɪ)k.tʃ(ɪ)k.tʃ(ɪ)k/ ch(i)k-ch(i)k-ch(i)k), also known as Chk Chk Chk, is an American rock band from Sacramento, California, formed in 1996 by lead singer Nic Offer. Members of !!! came from other local bands such as the Yah Mos, Black Liquorice and Pope Smashers. They are currently based in New York City. The band's eighth album, Wallop, was released in August 2019.\"@en\n",
      "http://en.wikipedia.org/wiki/!!!_(album)\tabstract\t\"!!! is the eponymous debut studio album by the dance-punk band of the same name. It was released in 2000 on Gold Standard Laboratories on vinyl, and saw wide release on CD on 19 June 2001.\"@en\n",
      "http://en.wikipedia.org/wiki/!Action_Pact!\tabstract\t\"!Action Pact! was a London-based punk rock band, formed in 1981 by guitarist Wild Planet, bassist , , and drummer . They would later break up in 1986.\"@en\n",
      "http://en.wikipedia.org/wiki/!Arriba!_La_Pachanga\tabstract\t\"!Arriba! La Pachanga is an album by Mongo Santamaría, published by Fantasy Records in 1959.\"@en\n",
      "http://en.wikipedia.org/wiki/!Hero\tabstract\t\"!HERO is a 2003 Christian rock opera about Jesus. It is based on the question, \\\"What if Jesus was born in Bethlehem, Pennsylvania?\\\". After the original tour in 2003 ended, it was released on DVD, CD, and was written into a trilogy of novels and series of comic books.\"@en\n",
      "http://en.wikipedia.org/wiki/!Hero_(album)\tabstract\t\"!Hero is an album featuring the songs from the rock opera, !Hero. It is based on the question, \\\"What if Jesus was born in Bethlehem, Pennsylvania?\\\" The rock opera modernizes Jesus' last two years on earth and features a cast of many well-known Christian rock artists with Michael Tait, Rebecca St. James, and Mark Stuart as the three main characters: Hero (Jesus), Maggie (Mary Magdalene), and Petrov (Peter).\"@en\n",
      "http://en.wikipedia.org/wiki/!Kweiten-ta-ǀǀKen\tabstract\t\"!Kweiten-ta-||Ken (name derived from an unknown language local to the Katkop Mountains) (also known as Rachel or Griet) was a noted |xam (San) chronicler of ǀXam culture and knowledge. She played an important role in contributing to the Bleek and Lloyd archive of “Specimens of Bushman Folklore” providing a female perspective on the life, rituals, and beliefs of |xam society. She was the primary source on |xam folklore, customs, and coming-of-age rights. She travelled to the Cape in June 1874 with her family and stayed until January 1875 during which she was interviewed by Wilhelm Bleek and Lucy Lloyd. She was from the Katkop mountains north west of Brandvlei in what is today South Africa.\"@en\n",
      "http://en.wikipedia.org/wiki/!Oka_Tokat\tabstract\t\"!Oka Tokat was a Philippine paranormal drama which originally aired on ABS-CBN from June 24, 1997 to May 7, 2002 every Tuesday night. It starred Ricky Davao, Diether Ocampo, Jericho Rosales, Angelika Dela Cruz, Rica Peralejo, Paolo Contis and Agot Isidro. Its title is the reverse spelling of the phrase Takot ako! (I'm scared!); hence, the exclamation point at the beginning. In 2001, the series was reformatted and it starred by the several child stars. It was the longest-running horror series on Philippine television. It was re-aired on ABS-CBN's cable channel, Jeepney TV.\"@en\n",
      "http://en.wikipedia.org/wiki/!PAUS3\tabstract\t\"!PAUS3, or THEE PAUSE, (born July 27, 1981) is an international platinum selling musician and artist, who began his career in his early teens in the former Soviet Bloc nations of Ukraine, Romania and Bulgaria.\"@en\n",
      "gzcat: error writing to output: Broken pipe\n",
      "gzcat: dbpedia_data/short_abstracts.tsv.gz: uncompress failed\n"
     ]
    }
   ],
   "source": [
    "!gzcat dbpedia_data/short_abstracts.tsv.gz | head -10"
   ]
  },
  {
   "cell_type": "code",
   "execution_count": 23,
   "id": "548006d6-8d4a-4a00-9785-461ff33b94dc",
   "metadata": {},
   "outputs": [],
   "source": [
    "!kgtk add-id --id-style wikidata -i dbpedia_data/long_abstracts.tsv.gz -o dbpedia_data/long_abstracts_ids.tsv.gz"
   ]
  },
  {
   "cell_type": "code",
   "execution_count": 21,
   "id": "e1a0d2d9-5b53-482c-8296-f0baf898ef98",
   "metadata": {},
   "outputs": [],
   "source": [
    "!kgtk add-id --id-style wikidata -i dbpedia_data/short_abstracts.tsv.gz -o dbpedia_data/short_abstracts_ids.tsv.gz"
   ]
  },
  {
   "cell_type": "code",
   "execution_count": 31,
   "id": "fdcb1b2b-af8a-47cf-9c37-64b4179473bd",
   "metadata": {},
   "outputs": [],
   "source": [
    "!kgtk query --gc $STORE \\\n",
    "    -i sitelinks -i dbpedia_data/long_abstracts_ids.tsv.gz \\\n",
    "    --match 'sitelinks: (n1)-[l:wikipedia_sitelink]->(n2), abstracts: (n2)-[]->(abstract)' \\\n",
    "    --return 'n1 as node1, \"Plong_abstract\" as label, abstract as node2' \\\n",
    "    -o $OUT/downloaded.wikipedia.long_abstracts.tsv.gz"
   ]
  },
  {
   "cell_type": "code",
   "execution_count": 22,
   "id": "9e48d284-fecf-4af4-88b7-09a290a140e2",
   "metadata": {},
   "outputs": [],
   "source": [
    "!kgtk query --gc $STORE \\\n",
    "    -i sitelinks -i dbpedia_data/short_abstracts_ids.tsv.gz \\\n",
    "    --match 'sitelinks: (n1)-[l:wikipedia_sitelink]->(n2), abstracts: (n2)-[]->(abstract)' \\\n",
    "    --return 'n1 as node1, \"Pshort_abstract\" as label, abstract as node2' \\\n",
    "    -o $OUT/downloaded.wikipedia.short_abstracts.tsv.gz"
   ]
  },
  {
   "cell_type": "code",
   "execution_count": 23,
   "id": "f8cc7768-91a5-4f47-a0b8-b65e14a5a731",
   "metadata": {},
   "outputs": [],
   "source": [
    "def analyze(abstract_file):\n",
    "    d = {}\n",
    "    f = gzip.open(abstract_file, 'rt')\n",
    "    for line in f:\n",
    "        vals = line.strip().split('\\t')\n",
    "        node1 = vals[0]\n",
    "        node2 = vals[2]\n",
    "        if node1 not in d:\n",
    "            d[node1] = list()\n",
    "        d[node1].append(node2)\n",
    "    for qnode in d:\n",
    "        if len(d[qnode]) > 1:\n",
    "            print(qnode, d[qnode])\n",
    "    print('done')"
   ]
  },
  {
   "cell_type": "code",
   "execution_count": 27,
   "id": "2049d13e-f6b4-4474-b059-0a39f45579bb",
   "metadata": {},
   "outputs": [],
   "source": [
    "import gzip"
   ]
  },
  {
   "cell_type": "code",
   "execution_count": 28,
   "id": "22b5edf7-9640-4e49-bf4b-6ad5172b8ffd",
   "metadata": {},
   "outputs": [
    {
     "name": "stdout",
     "output_type": "stream",
     "text": [
      "Q7948577 ['\"WDSE may refer to: \\\\n* WDSE (TV), a PBS member station in Duluth, Minnesota, United States \\\\n* WDSE-FM, an adult album alternative radio station in Duluth, Minnesota, United States This disambiguation page lists articles about radio and/or television stations with the same/similar call signs or branding.If an internal link led you here, you may wish to change the link to point directly to the intended article.\"@en', '\"WDSE, virtual and VHF digital channel 8, is a Public Broadcasting Service (PBS) member television station licensed to Duluth, Minnesota, United States, serving northeastern Minnesota, northwestern Wisconsin, and the far western portion of the Upper Peninsula of Michigan. Owned by the Duluth–Superior Area Educational Television Corporation, it is sister to adult album alternative radio station WDSE-FM (103.3). The two outlets share studios on rented space at the University of Minnesota Duluth; the television station\\'s transmitter is located west of downtown Duluth in Hilltop Park.\"@en']\n",
      "done\n"
     ]
    }
   ],
   "source": [
    "analyze(f\"{os.environ['OUT']}/downloaded.wikipedia.short_abstracts.tsv.gz\")"
   ]
  },
  {
   "cell_type": "code",
   "execution_count": null,
   "id": "68187b01-6799-4f27-9be1-e8c52a251ec5",
   "metadata": {},
   "outputs": [],
   "source": []
  }
 ],
 "metadata": {
  "kernelspec": {
   "display_name": "kgtk-env",
   "language": "python",
   "name": "kgtk-env"
  },
  "language_info": {
   "codemirror_mode": {
    "name": "ipython",
    "version": 3
   },
   "file_extension": ".py",
   "mimetype": "text/x-python",
   "name": "python",
   "nbconvert_exporter": "python",
   "pygments_lexer": "ipython3",
   "version": "3.9.7"
  }
 },
 "nbformat": 4,
 "nbformat_minor": 5
}
