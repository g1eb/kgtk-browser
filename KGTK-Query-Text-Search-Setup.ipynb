{
 "cells": [
  {
   "cell_type": "markdown",
   "id": "c4ee8736-2cae-487b-b722-78dbbe2f556d",
   "metadata": {},
   "source": [
    "# KGTK Browser Cache Setup"
   ]
  },
  {
   "cell_type": "markdown",
   "id": "d8198f9d-7aad-417d-972b-b10514faf242",
   "metadata": {},
   "source": [
    "This note book will create the SQLite DB Cache and the required indices for KGTK Browser.\n",
    "\n",
    "The required input parameters are:\n",
    "- input_path: Path where the following files should be present\n",
    "    1. labels.en.tsv.gz\n",
    "    2. aliases.en.tsv.gz\n",
    "    3. descriptions.en.tsv.gz\n",
    "    4. claims.tsv.gz\n",
    "    5. metadata.property.datatypes.tsv.gz\n",
    "    6. qualifiers.tsv.gz\n",
    "    7. metadata.pagerank.undirected.tsv.gz\n",
    "    8. derived.isastar.tsv.gz\n",
    "\n",
    "The files `metadata.pagerank.undirected.tsv.gz` and `derived.isastar.tsv.gz` are created by running [this](https://github.com/usc-isi-i2/kgtk/blob/dev/use-cases/Wikidata%20Useful%20Files.ipynb) notebook\n",
    "- output_path: Output path \n",
    "- project_name: folder inside the `output_path` where the required files and cache will be created\n",
    "- es_host: ES host, default `localhost`\n",
    "- es_port: ES port, default `9200`\n",
    "- es_index: name of the desired elasticsearch index, default `wikidata-dwd-kgtk-search-01`\n",
    "- create_db: variable to control creation of sqlite database cache. `yes|no`, default `yes`\n",
    "- create_es: variable to control creation of the ES index. `yes|no`, defaut `no`\n",
    "**Cache file location:** `<output_path>/<project_name>/temp.<project_name>/wikidata.sqlite3.db`"
   ]
  },
  {
   "cell_type": "code",
   "execution_count": 1,
   "id": "1a557f86-0d8a-4e89-9e76-4cedfafbf15a",
   "metadata": {},
   "outputs": [],
   "source": [
    "import os\n",
    "import pandas as pd\n",
    "from kgtk.configure_kgtk_notebooks import ConfigureKGTK\n",
    "import kgtk.kypher.api as kapi"
   ]
  },
  {
   "cell_type": "code",
   "execution_count": 2,
   "id": "3442d8b8-4db0-40a9-a6aa-2db2e4d5b377",
   "metadata": {},
   "outputs": [],
   "source": [
    "input_path = \"/Users/amandeep/Github/kgtk-notebooks/datasets/arnold\"\n",
    "output_path = \"/Volumes/saggu-ssd/wikidata-dwd-v2\"\n",
    "\n",
    "project_name = \"kgtk-search-arnold\"\n",
    "\n",
    "files = 'label,pagerank_undirected,alias,description,claims,datatypes,qualifiers'\n",
    "\n",
    "es_host = \"http://localhost\"\n",
    "es_port = 9200\n",
    "es_index = \"wikidata-dwd-kgtk-search-01\"\n",
    "\n",
    "create_db = 'yes'\n",
    "create_es = 'no'"
   ]
  },
  {
   "cell_type": "code",
   "execution_count": 3,
   "id": "9d7e7730-53a9-4307-b448-c5d4e0946968",
   "metadata": {},
   "outputs": [],
   "source": [
    "files = files.split(',')\n",
    "\n",
    "create_sqlite_cache = create_db.lower() == 'yes'\n",
    "create_es_index = create_es.lower() == 'yes'"
   ]
  },
  {
   "cell_type": "code",
   "execution_count": 4,
   "id": "5d7adfbe-aa7e-46d2-ad76-e78f39434bda",
   "metadata": {},
   "outputs": [
    {
     "name": "stdout",
     "output_type": "stream",
     "text": [
      "User home: /Users/amandeep\n",
      "Current dir: /Users/amandeep/Github/kgtk-browser\n",
      "KGTK dir: /Users/amandeep/Github\n",
      "Use-cases dir: /Users/amandeep/Github/use-cases\n"
     ]
    }
   ],
   "source": [
    "ck = ConfigureKGTK(files)\n",
    "ck.configure_kgtk(input_graph_path=input_path,\n",
    "                  output_path=output_path,\n",
    "                  project_name=project_name)"
   ]
  },
  {
   "cell_type": "code",
   "execution_count": 5,
   "id": "36bcea63-6cff-48fc-b06c-d0acc8346c80",
   "metadata": {},
   "outputs": [
    {
     "name": "stdout",
     "output_type": "stream",
     "text": [
      "EXAMPLES_DIR: /Users/amandeep/Github/examples\n",
      "GRAPH: /Users/amandeep/Github/kgtk-notebooks/datasets/arnold\n",
      "USE_CASES_DIR: /Users/amandeep/Github/use-cases\n",
      "STORE: /Volumes/saggu-ssd/wikidata-dwd-v2/kgtk-search-arnold/temp.kgtk-search-arnold/wikidata.sqlite3.db\n",
      "KGTK_OPTION_DEBUG: false\n",
      "TEMP: /Volumes/saggu-ssd/wikidata-dwd-v2/kgtk-search-arnold/temp.kgtk-search-arnold\n",
      "KGTK_GRAPH_CACHE: /Volumes/saggu-ssd/wikidata-dwd-v2/kgtk-search-arnold/temp.kgtk-search-arnold/wikidata.sqlite3.db\n",
      "kgtk: kgtk\n",
      "KGTK_LABEL_FILE: /Users/amandeep/Github/kgtk-notebooks/datasets/arnold/labels.en.tsv.gz\n",
      "kypher: kgtk query --graph-cache /Volumes/saggu-ssd/wikidata-dwd-v2/kgtk-search-arnold/temp.kgtk-search-arnold/wikidata.sqlite3.db\n",
      "OUT: /Volumes/saggu-ssd/wikidata-dwd-v2/kgtk-search-arnold\n",
      "label: /Users/amandeep/Github/kgtk-notebooks/datasets/arnold/labels.en.tsv.gz\n",
      "pagerank_undirected: /Users/amandeep/Github/kgtk-notebooks/datasets/arnold/metadata.pagerank.undirected.tsv.gz\n",
      "alias: /Users/amandeep/Github/kgtk-notebooks/datasets/arnold/aliases.en.tsv.gz\n",
      "description: /Users/amandeep/Github/kgtk-notebooks/datasets/arnold/descriptions.en.tsv.gz\n",
      "claims: /Users/amandeep/Github/kgtk-notebooks/datasets/arnold/claims.tsv.gz\n",
      "datatypes: /Users/amandeep/Github/kgtk-notebooks/datasets/arnold/metadata.property.datatypes.tsv.gz\n",
      "qualifiers: /Users/amandeep/Github/kgtk-notebooks/datasets/arnold/qualifiers.tsv.gz\n"
     ]
    }
   ],
   "source": [
    "ck.print_env_variables()"
   ]
  },
  {
   "cell_type": "markdown",
   "id": "99a8c8ef-3617-4f40-adfd-f2da816216c2",
   "metadata": {},
   "source": [
    "## Load the files into cache"
   ]
  },
  {
   "cell_type": "code",
   "execution_count": 8,
   "id": "a7683f2e-49ee-4b4c-861e-587173380a6d",
   "metadata": {},
   "outputs": [
    {
     "name": "stdout",
     "output_type": "stream",
     "text": [
      "kgtk query --graph-cache /Volumes/saggu-ssd/wikidata-dwd-v2/kgtk-search-arnold/temp.kgtk-search-arnold/wikidata.sqlite3.db -i \"/Users/amandeep/Github/kgtk-notebooks/datasets/arnold/labels.en.tsv.gz\" --as label  -i \"/Users/amandeep/Github/kgtk-notebooks/datasets/arnold/metadata.pagerank.undirected.tsv.gz\" --as pagerank_undirected  -i \"/Users/amandeep/Github/kgtk-notebooks/datasets/arnold/aliases.en.tsv.gz\" --as alias  -i \"/Users/amandeep/Github/kgtk-notebooks/datasets/arnold/descriptions.en.tsv.gz\" --as description  -i \"/Users/amandeep/Github/kgtk-notebooks/datasets/arnold/claims.tsv.gz\" --as claims  -i \"/Users/amandeep/Github/kgtk-notebooks/datasets/arnold/metadata.property.datatypes.tsv.gz\" --as datatypes  -i \"/Users/amandeep/Github/kgtk-notebooks/datasets/arnold/qualifiers.tsv.gz\" --as qualifiers  --limit 3\n",
      "node1\tlabel\tnode2\tid\n",
      "P10\tlabel\t'video'@en\tP10-label-en\n",
      "P1000\tlabel\t'record held'@en\tP1000-label-en\n",
      "P1001\tlabel\t'applies to jurisdiction'@en\tP1001-label-en\n"
     ]
    }
   ],
   "source": [
    "if create_sqlite_cache:\n",
    "    ck.load_files_into_cache()"
   ]
  },
  {
   "cell_type": "markdown",
   "id": "bb65acc2-2a3d-4c8c-8e4f-d5167f9f84ae",
   "metadata": {},
   "source": [
    "## Define the Kypher API"
   ]
  },
  {
   "cell_type": "code",
   "execution_count": 9,
   "id": "ba6552ee-2a6a-4893-b468-c1e15efd6885",
   "metadata": {},
   "outputs": [],
   "source": [
    "_kapi2 = kapi.KypherApi(graphcache=os.environ['STORE'], loglevel=1, index='auto',\n",
    "                      maxresults=100, maxcache=0)"
   ]
  },
  {
   "cell_type": "markdown",
   "id": "97479a01-92b4-489c-91cc-e301907548ad",
   "metadata": {},
   "source": [
    "## Create a file with `label`, `undirected_pagerank` and `description`"
   ]
  },
  {
   "cell_type": "code",
   "execution_count": 12,
   "id": "4fbcb99b-a4d9-4a24-aea3-93b0e7bbbc64",
   "metadata": {},
   "outputs": [],
   "source": [
    "if create_sqlite_cache:\n",
    "    !kgtk query --gc $STORE \\\n",
    "        -i label pagerank_undirected description\\\n",
    "        --match 'label: (qnode)-[l]->(y), pagerank: (qnode)-[:Pundirected_pagerank]->(pr)' \\\n",
    "        --opt 'description: (qnode)-[:description]->(d)' \\\n",
    "        --return 'qnode as node1, l.label as label, y as node2, upper(y) as `node2;upper`, pr as `node1;pagerank`, ifnull(d, \"\") as `node1;description`' \\\n",
    "        --order-by 'qnode' \\\n",
    "        -o $OUT/label_pagerank_undirected_description.tsv.gz"
   ]
  },
  {
   "cell_type": "markdown",
   "id": "d0ecdfcc-1ea4-4c83-8890-588349a6b57c",
   "metadata": {},
   "source": [
    "### Load this file into cache as well"
   ]
  },
  {
   "cell_type": "code",
   "execution_count": 13,
   "id": "6ca3f1c3-91cd-4941-b6db-f6d0a887f35b",
   "metadata": {},
   "outputs": [
    {
     "name": "stdout",
     "output_type": "stream",
     "text": [
      "node1\tlabel\tnode2\tnode2;upper\tnode1;pagerank\tnode1;description\n",
      "P10\tlabel\t'video'@en\t'VIDEO'@EN\t5.200871258153172e-06\t'relevant video. For images, use the property P18. For film trailers, qualify with \\\"object has role\\\" (P3831)=\\\"trailer\\\" (Q622550)'@en\n",
      "P1000\tlabel\t'record held'@en\t'RECORD HELD'@EN\t4.481127621934422e-06\t'notable record achieved by a person or entity, include qualifiers for dates held'@en\n",
      "P1001\tlabel\t'applies to jurisdiction'@en\t'APPLIES TO JURISDICTION'@EN\t1.8972311563210392e-05\t'the item (an institution, law, public office ...) or statement belongs to or has power over or applies to the value (a territorial jurisdiction: a country, state, municipality, ...)'@en\n",
      "P1004\tlabel\t'MusicBrainz place ID'@en\t'MUSICBRAINZ PLACE ID'@EN\t1.132879689825124e-05\t'Identifier for a place in the MusicBrainz open music encyclopedia'@en\n",
      "P1005\tlabel\t'Portuguese National Library ID'@en\t'PORTUGUESE NATIONAL LIBRARY ID'@EN\t5.363115706968723e-06\t'identifier for the Biblioteca Nacional de Portugal'@en\n",
      "P1006\tlabel\t'Nationale Thesaurus voor Auteurs ID'@en\t'NATIONALE THESAURUS VOOR AUTEURS ID'@EN\t8.21269906651734e-06\t'identifier for persons (not:works) from the Dutch National Thesaurus for Author names (which also contains non-authors)'@en\n",
      "P1007\tlabel\t'Lattes Platform number'@en\t'LATTES PLATFORM NUMBER'@EN\t8.074808263263172e-06\t'number for the Lattes Platform entry on the person or group. Relationship between entry and subject must be supported by a source'@en\n",
      "P101\tlabel\t'field of work'@en\t'FIELD OF WORK'@EN\t7.697304560251717e-06\t'specialization of a person or organization; see P106 for the occupation'@en\n",
      "P1012\tlabel\t'including'@en\t'INCLUDING'@EN\t1.013293261533094e-05\t'usually used as a qualifier'@en\n",
      "P1013\tlabel\t'criterion used'@en\t'CRITERION USED'@EN\t7.635227844048704e-06\t'property by which a distinction or classification is made'@en\n"
     ]
    }
   ],
   "source": [
    "if create_sqlite_cache:\n",
    "    !kgtk query --gc $STORE -i $OUT/label_pagerank_undirected_description.tsv.gz --as l_d_pgr_ud --limit 10"
   ]
  },
  {
   "cell_type": "markdown",
   "id": "49ba5559-1550-4c53-b5cd-7a7084164b61",
   "metadata": {},
   "source": [
    "## Create the required indices"
   ]
  },
  {
   "cell_type": "code",
   "execution_count": 14,
   "id": "03aa07dd-5a8d-4451-acaf-41337978ce13",
   "metadata": {},
   "outputs": [
    {
     "name": "stdout",
     "output_type": "stream",
     "text": [
      "[2021-12-03 10:56:09 query]: SQL Translation:\n",
      "---------------------------------------------\n",
      "  SELECT *\n",
      "     FROM graph_8 AS graph_8_c1\n",
      "     LIMIT ?\n",
      "  PARAS: [5]\n",
      "---------------------------------------------\n",
      "[2021-12-03 10:56:09 sqlstore]: CREATE INDEX \"graph_8_node1_idx\" ON \"graph_8\" (\"node1\")\n",
      "[2021-12-03 10:56:09 sqlstore]: ANALYZE \"graph_8_node1_idx\"\n",
      "[2021-12-03 10:56:09 sqlstore]: CREATE INDEX \"graph_8_node2;upper_idx\" ON \"graph_8\" (\"node2;upper\")\n",
      "[2021-12-03 10:56:09 sqlstore]: ANALYZE \"graph_8_node2;upper_idx\"\n",
      "[2021-12-03 10:56:09 sqlstore]: CREATE INDEX \"graph_8_label_idx\" ON \"graph_8\" (\"label\")\n",
      "[2021-12-03 10:56:09 sqlstore]: ANALYZE \"graph_8_label_idx\"\n",
      "[2021-12-03 10:56:09 sqlstore]: CREATE VIRTUAL TABLE \"graph_8_txtidx_ldpgridx\" USING FTS5 (\"node2\", tokenize=\"trigram\", content=\"graph_8\")\n",
      "[2021-12-03 10:56:09 sqlstore]: INSERT INTO \"graph_8_txtidx_ldpgridx\" (\"node2\") SELECT \"node2\" FROM graph_8\n",
      "node1\tlabel\tnode2\tnode2;upper\tnode1;pagerank\tnode1;description\n",
      "P10\tlabel\t'video'@en\t'VIDEO'@EN\t5.200871258153172e-06\t'relevant video. For images, use the property P18. For film trailers, qualify with \\\"object has role\\\" (P3831)=\\\"trailer\\\" (Q622550)'@en\n",
      "P1000\tlabel\t'record held'@en\t'RECORD HELD'@EN\t4.481127621934422e-06\t'notable record achieved by a person or entity, include qualifiers for dates held'@en\n",
      "P1001\tlabel\t'applies to jurisdiction'@en\t'APPLIES TO JURISDICTION'@EN\t1.8972311563210392e-05\t'the item (an institution, law, public office ...) or statement belongs to or has power over or applies to the value (a territorial jurisdiction: a country, state, municipality, ...)'@en\n",
      "P1004\tlabel\t'MusicBrainz place ID'@en\t'MUSICBRAINZ PLACE ID'@EN\t1.132879689825124e-05\t'Identifier for a place in the MusicBrainz open music encyclopedia'@en\n",
      "P1005\tlabel\t'Portuguese National Library ID'@en\t'PORTUGUESE NATIONAL LIBRARY ID'@EN\t5.363115706968723e-06\t'identifier for the Biblioteca Nacional de Portugal'@en\n",
      "CPU times: user 29.3 ms, sys: 19.3 ms, total: 48.6 ms\n",
      "Wall time: 2.05 s\n"
     ]
    }
   ],
   "source": [
    "%%time \n",
    "if create_sqlite_cache:\n",
    "    !kgtk --debug query -i l_d_pgr_ud --idx node1 \"node2;upper\" label text:node2//name=ldpgridx --gc $STORE --limit 5"
   ]
  },
  {
   "cell_type": "code",
   "execution_count": 15,
   "id": "e33e4d9d-e0da-4d29-8abf-5bada3316b88",
   "metadata": {},
   "outputs": [
    {
     "name": "stdout",
     "output_type": "stream",
     "text": [
      "[2021-12-03 10:56:11 query]: SQL Translation:\n",
      "---------------------------------------------\n",
      "  SELECT *\n",
      "     FROM graph_1 AS graph_1_c1\n",
      "     LIMIT ?\n",
      "  PARAS: [5]\n",
      "---------------------------------------------\n",
      "[2021-12-03 10:56:11 sqlstore]: CREATE INDEX \"graph_1_label_idx\" ON \"graph_1\" (\"label\")\n",
      "[2021-12-03 10:56:11 sqlstore]: ANALYZE \"graph_1_label_idx\"\n",
      "node1\tlabel\tnode2\tid\n",
      "P10\tlabel\t'video'@en\tP10-label-en\n",
      "P1000\tlabel\t'record held'@en\tP1000-label-en\n",
      "P1001\tlabel\t'applies to jurisdiction'@en\tP1001-label-en\n",
      "P1003\tlabel\t'National Library of Romania ID'@en\tP1003-label-en\n",
      "P1004\tlabel\t'MusicBrainz place ID'@en\tP1004-label-en\n",
      "CPU times: user 19.5 ms, sys: 15.8 ms, total: 35.3 ms\n",
      "Wall time: 1.51 s\n"
     ]
    }
   ],
   "source": [
    "%%time\n",
    "if create_sqlite_cache:\n",
    "    !kgtk --debug query -i label --idx label --gc $STORE --limit 5"
   ]
  },
  {
   "cell_type": "code",
   "execution_count": 16,
   "id": "85f0a37f-0a55-4187-99d6-e251b7f095cf",
   "metadata": {},
   "outputs": [
    {
     "name": "stdout",
     "output_type": "stream",
     "text": [
      "[2021-12-03 10:56:12 query]: SQL Translation:\n",
      "---------------------------------------------\n",
      "  SELECT *\n",
      "     FROM graph_3 AS graph_3_c1\n",
      "     LIMIT ?\n",
      "  PARAS: [5]\n",
      "---------------------------------------------\n",
      "[2021-12-03 10:56:12 sqlstore]: CREATE INDEX \"graph_3_label_idx\" ON \"graph_3\" (\"label\")\n",
      "[2021-12-03 10:56:12 sqlstore]: ANALYZE \"graph_3_label_idx\"\n",
      "node1\tlabel\tnode2\tid\n",
      "P10\talias\t'gif'@en\tP10-alias-en-282226-0\n",
      "P10\talias\t'animation'@en\tP10-alias-en-2f86d8-0\n",
      "P10\talias\t'media'@en\tP10-alias-en-c1427e-0\n",
      "P10\talias\t'trailer (Commons)'@en\tP10-alias-en-c61ab1-0\n",
      "P1001\talias\t'belongs to jurisdiction'@en\tP1001-alias-en-0dd7ce-0\n",
      "CPU times: user 19.3 ms, sys: 16.3 ms, total: 35.6 ms\n",
      "Wall time: 1.4 s\n"
     ]
    }
   ],
   "source": [
    "%%time\n",
    "if create_sqlite_cache:\n",
    "    !kgtk --debug query -i alias --idx label --gc $STORE --limit 5"
   ]
  },
  {
   "cell_type": "code",
   "execution_count": 17,
   "id": "cd728937-6ffd-406f-988a-6dc7c38cb6ef",
   "metadata": {},
   "outputs": [
    {
     "name": "stdout",
     "output_type": "stream",
     "text": [
      "[2021-12-03 10:56:14 query]: SQL Translation:\n",
      "---------------------------------------------\n",
      "  SELECT *\n",
      "     FROM graph_4 AS graph_4_c1\n",
      "     LIMIT ?\n",
      "  PARAS: [5]\n",
      "---------------------------------------------\n",
      "[2021-12-03 10:56:14 sqlstore]: CREATE INDEX \"graph_4_id_idx\" ON \"graph_4\" (\"id\")\n",
      "[2021-12-03 10:56:14 sqlstore]: ANALYZE \"graph_4_id_idx\"\n",
      "node1\tlabel\tnode2\tid\n",
      "P10\tdescription\t'relevant video. For images, use the property P18. For film trailers, qualify with \\\"object has role\\\" (P3831)=\\\"trailer\\\" (Q622550)'@en\tP10-description-en\n",
      "P1000\tdescription\t'notable record achieved by a person or entity, include qualifiers for dates held'@en\tP1000-description-en\n",
      "P1001\tdescription\t'the item (an institution, law, public office ...) or statement belongs to or has power over or applies to the value (a territorial jurisdiction: a country, state, municipality, ...)'@en\tP1001-description-en\n",
      "P1003\tdescription\t'identifier for authority control used at the National Library of Romania'@en\tP1003-description-en\n",
      "P1004\tdescription\t'Identifier for a place in the MusicBrainz open music encyclopedia'@en\tP1004-description-en\n",
      "CPU times: user 20 ms, sys: 15.6 ms, total: 35.5 ms\n",
      "Wall time: 1.51 s\n"
     ]
    }
   ],
   "source": [
    "%%time\n",
    "if create_sqlite_cache:\n",
    "    !kgtk --debug query -i description --idx id --gc $STORE --limit 5"
   ]
  },
  {
   "cell_type": "code",
   "execution_count": 18,
   "id": "c67f7305-8008-4ac0-bd0c-dd76186a8720",
   "metadata": {},
   "outputs": [
    {
     "name": "stdout",
     "output_type": "stream",
     "text": [
      "[2021-12-03 10:56:15 query]: SQL Translation:\n",
      "---------------------------------------------\n",
      "  SELECT *\n",
      "     FROM graph_5 AS graph_5_c1\n",
      "     LIMIT ?\n",
      "  PARAS: [5]\n",
      "---------------------------------------------\n",
      "[2021-12-03 10:56:15 sqlstore]: CREATE INDEX \"graph_5_label_idx\" ON \"graph_5\" (\"label\")\n",
      "[2021-12-03 10:56:16 sqlstore]: ANALYZE \"graph_5_label_idx\"\n",
      "[2021-12-03 10:56:16 sqlstore]: CREATE INDEX \"graph_5_node1_idx\" ON \"graph_5\" (\"node1\")\n",
      "[2021-12-03 10:56:16 sqlstore]: ANALYZE \"graph_5_node1_idx\"\n",
      "[2021-12-03 10:56:16 sqlstore]: CREATE INDEX \"graph_5_node2_idx\" ON \"graph_5\" (\"node2\")\n",
      "[2021-12-03 10:56:16 sqlstore]: ANALYZE \"graph_5_node2_idx\"\n",
      "[2021-12-03 10:56:16 sqlstore]: CREATE INDEX \"graph_5_id_idx\" ON \"graph_5\" (\"id\")\n",
      "[2021-12-03 10:56:16 sqlstore]: ANALYZE \"graph_5_id_idx\"\n",
      "node1\tlabel\tnode2\tid\tnode2;wikidatatype\n",
      "P10\tP31\tQ18610173\tP10-P31-Q18610173-85ef4d24-0\twikibase-item\n",
      "P1000\tP31\tQ18608871\tP1000-P31-Q18608871-093affb5-0\twikibase-item\n",
      "P1001\tP1855\tQ11696\tP1001-P1855-Q11696-cdbf391b-0\twikibase-item\n",
      "P1001\tP1855\tQ12371988\tP1001-P1855-Q12371988-12c10bc0-0\twikibase-item\n",
      "P1001\tP1855\tQ181574\tP1001-P1855-Q181574-7f428c9b-0\twikibase-item\n",
      "CPU times: user 37.6 ms, sys: 20.5 ms, total: 58.1 ms\n",
      "Wall time: 2.66 s\n"
     ]
    }
   ],
   "source": [
    "%%time\n",
    "if create_sqlite_cache:\n",
    "    !kgtk --debug query -i claims --idx label node1 node2 id --gc $STORE --limit 5"
   ]
  },
  {
   "cell_type": "code",
   "execution_count": 19,
   "id": "726beb5e-05b0-45ca-b56f-738a147f5536",
   "metadata": {},
   "outputs": [
    {
     "name": "stdout",
     "output_type": "stream",
     "text": [
      "[2021-12-03 10:56:18 query]: SQL Translation:\n",
      "---------------------------------------------\n",
      "  SELECT *\n",
      "     FROM graph_6 AS graph_6_c1\n",
      "     LIMIT ?\n",
      "  PARAS: [5]\n",
      "---------------------------------------------\n",
      "[2021-12-03 10:56:18 sqlstore]: CREATE INDEX \"graph_6_label_idx\" ON \"graph_6\" (\"label\")\n",
      "[2021-12-03 10:56:18 sqlstore]: ANALYZE \"graph_6_label_idx\"\n",
      "[2021-12-03 10:56:18 sqlstore]: CREATE INDEX \"graph_6_node1_idx\" ON \"graph_6\" (\"node1\")\n",
      "[2021-12-03 10:56:18 sqlstore]: ANALYZE \"graph_6_node1_idx\"\n",
      "node1\tlabel\tnode2\tid\n",
      "Pisa\tlabel\t'is a'@en\tPisa-label-e79b73\n",
      "Pisa\talias\t'isa'@en\tPisa-alias-7773c5\n",
      "Pisa\tdescription\t'Instance or subclass relationship'@en\tPisa-description-0b5cdc\n",
      "Pisa\tP31\tQ18616576\tPisa-P31-Q18616576\n",
      "Pisa\tP31\tQ28326461\tPisa-P31-Q28326461\n",
      "CPU times: user 19 ms, sys: 14.8 ms, total: 33.7 ms\n",
      "Wall time: 1.46 s\n"
     ]
    }
   ],
   "source": [
    "%%time\n",
    "if create_sqlite_cache:\n",
    "    !kgtk --debug query -i datatypes --idx label node1 --gc $STORE --limit 5"
   ]
  },
  {
   "cell_type": "code",
   "execution_count": 20,
   "id": "a37dc7b4-16aa-468a-9de6-f58064bcfca3",
   "metadata": {},
   "outputs": [
    {
     "name": "stdout",
     "output_type": "stream",
     "text": [
      "[2021-12-03 10:56:19 query]: SQL Translation:\n",
      "---------------------------------------------\n",
      "  SELECT *\n",
      "     FROM graph_7 AS graph_7_c1\n",
      "     LIMIT ?\n",
      "  PARAS: [5]\n",
      "---------------------------------------------\n",
      "[2021-12-03 10:56:19 sqlstore]: CREATE INDEX \"graph_7_node2_idx\" ON \"graph_7\" (\"node2\")\n",
      "[2021-12-03 10:56:20 sqlstore]: ANALYZE \"graph_7_node2_idx\"\n",
      "[2021-12-03 10:56:20 sqlstore]: CREATE INDEX \"graph_7_node1_idx\" ON \"graph_7\" (\"node1\")\n",
      "[2021-12-03 10:56:20 sqlstore]: ANALYZE \"graph_7_node1_idx\"\n",
      "[2021-12-03 10:56:20 sqlstore]: CREATE INDEX \"graph_7_label_idx\" ON \"graph_7\" (\"label\")\n",
      "[2021-12-03 10:56:20 sqlstore]: ANALYZE \"graph_7_label_idx\"\n",
      "node1\tlabel\tnode2\tid\n",
      "P1001-P1855-Q11696-cdbf391b-0\tP1001\tQ30\tP1001-P1855-Q11696-cdbf391b-0-P1001-Q30-0\n",
      "P1001-P1855-Q12371988-12c10bc0-0\tP1001\tQ90\tP1001-P1855-Q12371988-12c10bc0-0-P1001-Q90-0\n",
      "P1001-P1855-Q181574-7f428c9b-0\tP1001\tQ16\tP1001-P1855-Q181574-7f428c9b-0-P1001-Q16-0\n",
      "P1001-P1855-Q181574-7f428c9b-0\tP1001\tQ30\tP1001-P1855-Q181574-7f428c9b-0-P1001-Q30-0\n",
      "P1001-P1855-Q181574-7f428c9b-0\tP1001\tQ96\tP1001-P1855-Q181574-7f428c9b-0-P1001-Q96-0\n",
      "CPU times: user 32 ms, sys: 19.3 ms, total: 51.3 ms\n",
      "Wall time: 2.28 s\n"
     ]
    }
   ],
   "source": [
    "%%time\n",
    "if create_sqlite_cache:\n",
    "    !kgtk --debug query -i qualifiers --idx node2 node1 label --gc $STORE --limit 5"
   ]
  },
  {
   "cell_type": "markdown",
   "id": "8f9680b8-0248-4ef2-ae50-4613e51e0a48",
   "metadata": {},
   "source": [
    "## Take a look at cache file content"
   ]
  },
  {
   "cell_type": "code",
   "execution_count": 21,
   "id": "b2090fe2-e018-4edb-a50f-49326479e1c2",
   "metadata": {},
   "outputs": [
    {
     "name": "stdout",
     "output_type": "stream",
     "text": [
      "Graph Cache:\n",
      "DB file: /Volumes/saggu-ssd/wikidata-dwd-v2/kgtk-search-arnold/temp.kgtk-search-arnold/wikidata.sqlite3.db\n",
      "  size:  175.40 MB   \tfree:  0 Bytes   \tmodified:  2021-12-03 10:56:20\n",
      "\n",
      "KGTK File Information:\n",
      "alias:\n",
      "  size:  1.29 MB   \tmodified:  2021-11-16 14:41:39   \tgraph:  graph_3\n",
      "claims:\n",
      "  size:  6.05 MB   \tmodified:  2021-12-03 10:55:11   \tgraph:  graph_5\n",
      "datatypes:\n",
      "  size:  22.58 KB   \tmodified:  2021-11-16 14:41:39   \tgraph:  graph_6\n",
      "description:\n",
      "  size:  1.29 MB   \tmodified:  2021-11-16 14:41:39   \tgraph:  graph_4\n",
      "l_d_pgr_ud:\n",
      "  size:  3.03 MB   \tmodified:  2021-12-03 10:56:02   \tgraph:  graph_8\n",
      "label:\n",
      "  size:  1.02 MB   \tmodified:  2021-11-16 14:41:39   \tgraph:  graph_1\n",
      "pagerank_undirected:\n",
      "  size:  2.11 MB   \tmodified:  2021-11-16 14:41:39   \tgraph:  graph_2\n",
      "qualifiers:\n",
      "  size:  5.96 MB   \tmodified:  2021-11-16 14:41:39   \tgraph:  graph_7\n",
      "\n",
      "Graph Table Information:\n",
      "graph_1:\n",
      "  size:  5.98 MB   \tcreated:  2021-12-03 10:54:35\n",
      "  header:  ['node1', 'label', 'node2', 'id']\n",
      "graph_2:\n",
      "  size:  19.31 MB   \tcreated:  2021-12-03 10:54:36\n",
      "  header:  ['node1', 'label', 'node2', 'id']\n",
      "graph_3:\n",
      "  size:  6.32 MB   \tcreated:  2021-12-03 10:54:36\n",
      "  header:  ['node1', 'label', 'node2', 'id']\n",
      "graph_4:\n",
      "  size:  9.65 MB   \tcreated:  2021-12-03 10:54:37\n",
      "  header:  ['node1', 'label', 'node2', 'id']\n",
      "graph_5:\n",
      "  size:  58.62 MB   \tcreated:  2021-12-03 10:55:33\n",
      "  header:  ['node1', 'label', 'node2', 'id', 'node2;wikidatatype']\n",
      "graph_6:\n",
      "  size:  320.00 KB   \tcreated:  2021-12-03 10:55:33\n",
      "  header:  ['node1', 'label', 'node2', 'id']\n",
      "graph_7:\n",
      "  size:  57.04 MB   \tcreated:  2021-12-03 10:55:36\n",
      "  header:  ['node1', 'label', 'node2', 'id']\n",
      "graph_8:\n",
      "  size:  18.14 MB   \tcreated:  2021-12-03 10:56:04\n",
      "  header:  ['node1', 'label', 'node2', 'node2;upper', 'node1;pagerank', 'node1;description']\n"
     ]
    }
   ],
   "source": [
    "!kgtk query --gc $STORE --show-cache "
   ]
  },
  {
   "cell_type": "markdown",
   "id": "b18dbed3-eed3-429c-bbb9-975d9380b18a",
   "metadata": {},
   "source": [
    "## Define a function to do a `textmatch` search"
   ]
  },
  {
   "cell_type": "code",
   "execution_count": 22,
   "id": "df5fa9ad-207a-46b8-9de6-b697f4e9e6e0",
   "metadata": {},
   "outputs": [],
   "source": [
    "def text_search_labels(search_text, limit=20):\n",
    "    text_search_labels_query = _kapi2.get_query(\n",
    "        doc=\"Doc string here\",\n",
    "        name=f\"text_search_labels_{search_text}\",\n",
    "        inputs='l_d_pgr_ud',\n",
    "        match='l_d_pgr_ud: (qnode)-[l:label]->(y)',\n",
    "        where=f'textmatch(y, \"{search_text}\")',\n",
    "       ret='distinct qnode as node1, y as label, 10*matchscore(y) as score, cast(l.`node1;pagerank`, float) as prank, l.`node1;description` as description',\n",
    "       order='score*prank',\n",
    "       limit=limit\n",
    "    )\n",
    "    results =  list([list(x) for x in text_search_labels_query.execute()])\n",
    "    df = pd.DataFrame(results, columns=['node1', 'label', 'score', 'pagerank', 'description'])\n",
    "    print(len(df))\n",
    "    return df\n",
    "    "
   ]
  },
  {
   "cell_type": "code",
   "execution_count": 24,
   "id": "0c4b31bc-b8cf-4dd1-9071-b9bb54b89b95",
   "metadata": {},
   "outputs": [
    {
     "name": "stderr",
     "output_type": "stream",
     "text": [
      "[2021-12-03 10:56:35 query]: SQL Translation:\n",
      "---------------------------------------------\n",
      "  SELECT DISTINCT graph_8_c1.\"node1\" \"_aLias.node1\", graph_8_c1.\"node2\" \"_aLias.label\", (? * BM25(txtidx_1.graph_8_txtidx_ldpgridx)) \"_aLias.score\", CAST(graph_8_c1.\"node1;pagerank\" AS float) \"_aLias.prank\", graph_8_c1.\"node1;description\" \"_aLias.description\"\n",
      "     FROM graph_8 AS graph_8_c1, graph_8_txtidx_ldpgridx AS txtidx_1\n",
      "     WHERE graph_8_c1.\"label\" = ?\n",
      "        AND txtidx_1.\"node2\" MATCH ? and txtidx_1.rowid = graph_8_c1.rowid\n",
      "     ORDER BY (\"_aLias.score\" * \"_aLias.prank\") ASC\n",
      "     LIMIT ?\n",
      "  PARAS: [10, 'label', 'arn sch', 20]\n",
      "---------------------------------------------\n"
     ]
    },
    {
     "name": "stdout",
     "output_type": "stream",
     "text": [
      "5\n"
     ]
    },
    {
     "data": {
      "text/html": [
       "<div>\n",
       "<style scoped>\n",
       "    .dataframe tbody tr th:only-of-type {\n",
       "        vertical-align: middle;\n",
       "    }\n",
       "\n",
       "    .dataframe tbody tr th {\n",
       "        vertical-align: top;\n",
       "    }\n",
       "\n",
       "    .dataframe thead th {\n",
       "        text-align: right;\n",
       "    }\n",
       "</style>\n",
       "<table border=\"1\" class=\"dataframe\">\n",
       "  <thead>\n",
       "    <tr style=\"text-align: right;\">\n",
       "      <th></th>\n",
       "      <th>node1</th>\n",
       "      <th>label</th>\n",
       "      <th>score</th>\n",
       "      <th>pagerank</th>\n",
       "      <th>description</th>\n",
       "    </tr>\n",
       "  </thead>\n",
       "  <tbody>\n",
       "    <tr>\n",
       "      <th>0</th>\n",
       "      <td>Q2685</td>\n",
       "      <td>'Arnold Schwarzenegger'@en</td>\n",
       "      <td>-96.680749</td>\n",
       "      <td>0.000086</td>\n",
       "      <td>'Austrian-American actor, businessman, bodybui...</td>\n",
       "    </tr>\n",
       "    <tr>\n",
       "      <th>1</th>\n",
       "      <td>Q1732802</td>\n",
       "      <td>'Karl Scharnagl'@en</td>\n",
       "      <td>-110.602797</td>\n",
       "      <td>0.000016</td>\n",
       "      <td>'German politician (1881-1963)'@en</td>\n",
       "    </tr>\n",
       "    <tr>\n",
       "      <th>2</th>\n",
       "      <td>Q103575</td>\n",
       "      <td>'Arnold Schaefer'@en</td>\n",
       "      <td>-108.373398</td>\n",
       "      <td>0.000016</td>\n",
       "      <td>'German historian'@en</td>\n",
       "    </tr>\n",
       "    <tr>\n",
       "      <th>3</th>\n",
       "      <td>Q432443</td>\n",
       "      <td>'Jan Arnoldus Schouten'@en</td>\n",
       "      <td>-96.680749</td>\n",
       "      <td>0.000011</td>\n",
       "      <td>'Dutch politician (1883-1971)'@en</td>\n",
       "    </tr>\n",
       "    <tr>\n",
       "      <th>4</th>\n",
       "      <td>Q80030407</td>\n",
       "      <td>'Karl-Scharnagl-Ring'@en</td>\n",
       "      <td>-100.287496</td>\n",
       "      <td>0.000007</td>\n",
       "      <td></td>\n",
       "    </tr>\n",
       "  </tbody>\n",
       "</table>\n",
       "</div>"
      ],
      "text/plain": [
       "       node1                       label       score  pagerank  \\\n",
       "0      Q2685  'Arnold Schwarzenegger'@en  -96.680749  0.000086   \n",
       "1   Q1732802         'Karl Scharnagl'@en -110.602797  0.000016   \n",
       "2    Q103575        'Arnold Schaefer'@en -108.373398  0.000016   \n",
       "3    Q432443  'Jan Arnoldus Schouten'@en  -96.680749  0.000011   \n",
       "4  Q80030407    'Karl-Scharnagl-Ring'@en -100.287496  0.000007   \n",
       "\n",
       "                                         description  \n",
       "0  'Austrian-American actor, businessman, bodybui...  \n",
       "1                 'German politician (1881-1963)'@en  \n",
       "2                              'German historian'@en  \n",
       "3                  'Dutch politician (1883-1971)'@en  \n",
       "4                                                     "
      ]
     },
     "execution_count": 24,
     "metadata": {},
     "output_type": "execute_result"
    }
   ],
   "source": [
    "text_search_labels('arn sch')"
   ]
  },
  {
   "cell_type": "markdown",
   "id": "14958805-395c-4282-9701-80095827a512",
   "metadata": {},
   "source": [
    "## Define a function to search for Qnodes Exactly"
   ]
  },
  {
   "cell_type": "code",
   "execution_count": 23,
   "id": "d6f0a3f1-f83a-4a30-a05a-51969d1762a3",
   "metadata": {},
   "outputs": [],
   "source": [
    "def exact_search_items(search_text, limit=20):\n",
    "    search_text = search_text.upper()\n",
    "    text_search_labels_query =  _kapi2.get_query(\n",
    "    doc=\"\"\"\n",
    "    Create the Kypher query used by 'BrowserBackend.get_node_labels()'\n",
    "    for case_independent searches.\n",
    "    Given parameters 'NODE' and 'LANG' retrieve labels for 'NODE' in\n",
    "    the specified language (using 'any' for 'LANG' retrieves all labels).\n",
    "    Return distinct 'node1', 'node_label' pairs as the result (we include\n",
    "    'NODE' as an output to make it easier to union result frames).\n",
    "    \"\"\",\n",
    "    name=f'exact_search_items{search_text}',\n",
    "    inputs='l_d_pgr_ud',\n",
    "    match='l_d_pgr_ud: (n)-[r:label]->(l)',\n",
    "    where=f'n=\"{search_text}\"',\n",
    "    ret='distinct n as node1, l as node_label, r.`node1;description` as description',\n",
    ")\n",
    "    results =  list([list(x) for x in text_search_labels_query.execute()])\n",
    "    df = pd.DataFrame(results, columns=['node1', 'label', 'description'])\n",
    "    print(len(df))\n",
    "    return df\n",
    "    "
   ]
  },
  {
   "cell_type": "code",
   "execution_count": 24,
   "id": "21de8b25-446f-43ed-83a4-36ac92e3410f",
   "metadata": {},
   "outputs": [
    {
     "name": "stderr",
     "output_type": "stream",
     "text": [
      "[2021-12-02 22:27:54 query]: SQL Translation:\n",
      "---------------------------------------------\n",
      "  SELECT DISTINCT graph_8_c1.\"node1\" \"_aLias.node1\", graph_8_c1.\"node2\" \"_aLias.node_label\", graph_8_c1.\"node1;description\" \"_aLias.description\"\n",
      "     FROM graph_8 AS graph_8_c1\n",
      "     WHERE graph_8_c1.\"label\" = ?\n",
      "        AND (graph_8_c1.\"node1\" = ?)\n",
      "     LIMIT ?\n",
      "  PARAS: ['label', 'Q30', 100]\n",
      "---------------------------------------------\n"
     ]
    },
    {
     "name": "stdout",
     "output_type": "stream",
     "text": [
      "1\n",
      "CPU times: user 67.9 ms, sys: 98.3 ms, total: 166 ms\n",
      "Wall time: 248 ms\n"
     ]
    },
    {
     "data": {
      "text/html": [
       "<div>\n",
       "<style scoped>\n",
       "    .dataframe tbody tr th:only-of-type {\n",
       "        vertical-align: middle;\n",
       "    }\n",
       "\n",
       "    .dataframe tbody tr th {\n",
       "        vertical-align: top;\n",
       "    }\n",
       "\n",
       "    .dataframe thead th {\n",
       "        text-align: right;\n",
       "    }\n",
       "</style>\n",
       "<table border=\"1\" class=\"dataframe\">\n",
       "  <thead>\n",
       "    <tr style=\"text-align: right;\">\n",
       "      <th></th>\n",
       "      <th>node1</th>\n",
       "      <th>label</th>\n",
       "      <th>description</th>\n",
       "    </tr>\n",
       "  </thead>\n",
       "  <tbody>\n",
       "    <tr>\n",
       "      <th>0</th>\n",
       "      <td>Q30</td>\n",
       "      <td>'United States of America'@en</td>\n",
       "      <td>'sovereign state in North America'@en</td>\n",
       "    </tr>\n",
       "  </tbody>\n",
       "</table>\n",
       "</div>"
      ],
      "text/plain": [
       "  node1                          label                            description\n",
       "0   Q30  'United States of America'@en  'sovereign state in North America'@en"
      ]
     },
     "execution_count": 24,
     "metadata": {},
     "output_type": "execute_result"
    }
   ],
   "source": [
    "%%time\n",
    "exact_search_items('q30')"
   ]
  },
  {
   "cell_type": "code",
   "execution_count": 25,
   "id": "25e06b83-e5d4-4de5-a0ad-2defd4caf18a",
   "metadata": {},
   "outputs": [
    {
     "name": "stderr",
     "output_type": "stream",
     "text": [
      "[2021-12-02 22:27:55 query]: SQL Translation:\n",
      "---------------------------------------------\n",
      "  SELECT DISTINCT graph_8_c1.\"node1\" \"_aLias.node1\", graph_8_c1.\"node2\" \"_aLias.node_label\", graph_8_c1.\"node1;description\" \"_aLias.description\"\n",
      "     FROM graph_8 AS graph_8_c1\n",
      "     WHERE graph_8_c1.\"label\" = ?\n",
      "        AND (graph_8_c1.\"node1\" = ?)\n",
      "     LIMIT ?\n",
      "  PARAS: ['label', 'Q140', 100]\n",
      "---------------------------------------------\n"
     ]
    },
    {
     "name": "stdout",
     "output_type": "stream",
     "text": [
      "1\n",
      "CPU times: user 17.3 ms, sys: 4.09 ms, total: 21.4 ms\n",
      "Wall time: 20.8 ms\n"
     ]
    },
    {
     "data": {
      "text/html": [
       "<div>\n",
       "<style scoped>\n",
       "    .dataframe tbody tr th:only-of-type {\n",
       "        vertical-align: middle;\n",
       "    }\n",
       "\n",
       "    .dataframe tbody tr th {\n",
       "        vertical-align: top;\n",
       "    }\n",
       "\n",
       "    .dataframe thead th {\n",
       "        text-align: right;\n",
       "    }\n",
       "</style>\n",
       "<table border=\"1\" class=\"dataframe\">\n",
       "  <thead>\n",
       "    <tr style=\"text-align: right;\">\n",
       "      <th></th>\n",
       "      <th>node1</th>\n",
       "      <th>label</th>\n",
       "      <th>description</th>\n",
       "    </tr>\n",
       "  </thead>\n",
       "  <tbody>\n",
       "    <tr>\n",
       "      <th>0</th>\n",
       "      <td>Q140</td>\n",
       "      <td>'lion'@en</td>\n",
       "      <td>'species of big cat'@en</td>\n",
       "    </tr>\n",
       "  </tbody>\n",
       "</table>\n",
       "</div>"
      ],
      "text/plain": [
       "  node1      label              description\n",
       "0  Q140  'lion'@en  'species of big cat'@en"
      ]
     },
     "execution_count": 25,
     "metadata": {},
     "output_type": "execute_result"
    }
   ],
   "source": [
    "%%time\n",
    "exact_search_items('Q140')"
   ]
  },
  {
   "cell_type": "markdown",
   "id": "b6478cb3-cd1f-4f6c-9056-5c78d889172b",
   "metadata": {},
   "source": [
    "## Define a function to search labels Exactly"
   ]
  },
  {
   "cell_type": "code",
   "execution_count": 26,
   "id": "1c882fd8-2797-4dc1-8dc1-6ee3db485464",
   "metadata": {},
   "outputs": [],
   "source": [
    "def exact_search_labels(search_text, limit=20):\n",
    "    search_text = f\"'{search_text.upper()}'@EN\"\n",
    "    text_search_labels_query =  _kapi2.get_query(\n",
    "    doc=\"\"\"\n",
    "     Exact Match case insensitive query\n",
    "    \"\"\",\n",
    "    name=f'exact_search_labels{search_text}',\n",
    "    inputs='l_d_pgr_ud',\n",
    "    match=f'l_d_pgr_ud: (n)-[r:label]->(l)',\n",
    "    where=f'r.`node2;upper`=\"{search_text}\"',\n",
    "    ret='distinct n as node1, l as node_label, cast(\"-1.0\", float) as score, cast(r.`node1;pagerank`, float) as prank, r.`node1;description` as description',\n",
    "    order='score*prank',\n",
    "    limit=limit\n",
    ")\n",
    "    results =  list([list(x) for x in text_search_labels_query.execute()])\n",
    "    df = pd.DataFrame(results, columns=['node1', 'label', 'score', 'prank', 'description'])\n",
    "    print(len(df))\n",
    "    return df"
   ]
  },
  {
   "cell_type": "code",
   "execution_count": 27,
   "id": "686b27db-8b2f-44df-aac8-f8d8224fa476",
   "metadata": {},
   "outputs": [
    {
     "name": "stderr",
     "output_type": "stream",
     "text": [
      "[2021-12-02 22:27:57 query]: SQL Translation:\n",
      "---------------------------------------------\n",
      "  SELECT DISTINCT graph_8_c1.\"node1\" \"_aLias.node1\", graph_8_c1.\"node2\" \"_aLias.node_label\", CAST(? AS float) \"_aLias.score\", CAST(graph_8_c1.\"node1;pagerank\" AS float) \"_aLias.prank\", graph_8_c1.\"node1;description\" \"_aLias.description\"\n",
      "     FROM graph_8 AS graph_8_c1\n",
      "     WHERE graph_8_c1.\"label\" = ?\n",
      "        AND (graph_8_c1.\"node2;upper\" = ?)\n",
      "     ORDER BY (\"_aLias.score\" * \"_aLias.prank\") ASC\n",
      "     LIMIT ?\n",
      "  PARAS: ['-1.0', 'label', \"'CANADA'@EN\", 20]\n",
      "---------------------------------------------\n"
     ]
    },
    {
     "name": "stdout",
     "output_type": "stream",
     "text": [
      "20\n"
     ]
    },
    {
     "data": {
      "text/html": [
       "<div>\n",
       "<style scoped>\n",
       "    .dataframe tbody tr th:only-of-type {\n",
       "        vertical-align: middle;\n",
       "    }\n",
       "\n",
       "    .dataframe tbody tr th {\n",
       "        vertical-align: top;\n",
       "    }\n",
       "\n",
       "    .dataframe thead th {\n",
       "        text-align: right;\n",
       "    }\n",
       "</style>\n",
       "<table border=\"1\" class=\"dataframe\">\n",
       "  <thead>\n",
       "    <tr style=\"text-align: right;\">\n",
       "      <th></th>\n",
       "      <th>node1</th>\n",
       "      <th>label</th>\n",
       "      <th>score</th>\n",
       "      <th>prank</th>\n",
       "      <th>description</th>\n",
       "    </tr>\n",
       "  </thead>\n",
       "  <tbody>\n",
       "    <tr>\n",
       "      <th>0</th>\n",
       "      <td>Q16</td>\n",
       "      <td>'Canada'@en</td>\n",
       "      <td>-1.0</td>\n",
       "      <td>1.097894e-03</td>\n",
       "      <td>'sovereign state in North America'@en</td>\n",
       "    </tr>\n",
       "    <tr>\n",
       "      <th>1</th>\n",
       "      <td>Q2569593</td>\n",
       "      <td>'Canada'@en</td>\n",
       "      <td>-1.0</td>\n",
       "      <td>8.178669e-08</td>\n",
       "      <td>'former French colony in New France between th...</td>\n",
       "    </tr>\n",
       "    <tr>\n",
       "      <th>2</th>\n",
       "      <td>Q13265725</td>\n",
       "      <td>'Canada'@en</td>\n",
       "      <td>-1.0</td>\n",
       "      <td>3.126547e-08</td>\n",
       "      <td>'family name'@en</td>\n",
       "    </tr>\n",
       "    <tr>\n",
       "      <th>3</th>\n",
       "      <td>Q13265795</td>\n",
       "      <td>'Canada'@en</td>\n",
       "      <td>-1.0</td>\n",
       "      <td>1.498003e-08</td>\n",
       "      <td>'2012 novel by American author Richard Ford'@en</td>\n",
       "    </tr>\n",
       "    <tr>\n",
       "      <th>4</th>\n",
       "      <td>Q2608363</td>\n",
       "      <td>'Canada'@en</td>\n",
       "      <td>-1.0</td>\n",
       "      <td>1.364988e-08</td>\n",
       "      <td>'village in Appelscha, in the Netherlands'@en</td>\n",
       "    </tr>\n",
       "    <tr>\n",
       "      <th>5</th>\n",
       "      <td>Q18612153</td>\n",
       "      <td>'Canada'@en</td>\n",
       "      <td>-1.0</td>\n",
       "      <td>1.364276e-08</td>\n",
       "      <td>'180th strip of the webcomic xkcd'@en</td>\n",
       "    </tr>\n",
       "    <tr>\n",
       "      <th>6</th>\n",
       "      <td>Q103921530</td>\n",
       "      <td>'Canada'@en</td>\n",
       "      <td>-1.0</td>\n",
       "      <td>1.331540e-08</td>\n",
       "      <td>'Shipwreck off the Scottish Coast, imported fr...</td>\n",
       "    </tr>\n",
       "    <tr>\n",
       "      <th>7</th>\n",
       "      <td>Q99292858</td>\n",
       "      <td>'Canada'@en</td>\n",
       "      <td>-1.0</td>\n",
       "      <td>1.269767e-08</td>\n",
       "      <td>'the country of Canada as depicted in Star Tre...</td>\n",
       "    </tr>\n",
       "    <tr>\n",
       "      <th>8</th>\n",
       "      <td>Q14624136</td>\n",
       "      <td>'Canada'@en</td>\n",
       "      <td>-1.0</td>\n",
       "      <td>1.255841e-08</td>\n",
       "      <td>'moth genus of Pteromalidae'@en</td>\n",
       "    </tr>\n",
       "    <tr>\n",
       "      <th>9</th>\n",
       "      <td>Q5029265</td>\n",
       "      <td>'Canada'@en</td>\n",
       "      <td>-1.0</td>\n",
       "      <td>1.234508e-08</td>\n",
       "      <td>'unincorporated community in Kansas, United St...</td>\n",
       "    </tr>\n",
       "    <tr>\n",
       "      <th>10</th>\n",
       "      <td>Q257304</td>\n",
       "      <td>'Canada'@en</td>\n",
       "      <td>-1.0</td>\n",
       "      <td>1.207966e-08</td>\n",
       "      <td>'Wikimedia disambiguation page'@en</td>\n",
       "    </tr>\n",
       "    <tr>\n",
       "      <th>11</th>\n",
       "      <td>Q57662949</td>\n",
       "      <td>'Canada'@en</td>\n",
       "      <td>-1.0</td>\n",
       "      <td>1.015284e-08</td>\n",
       "      <td>'Canada in the Marvel universe'@en</td>\n",
       "    </tr>\n",
       "    <tr>\n",
       "      <th>12</th>\n",
       "      <td>Q1031917</td>\n",
       "      <td>'Canada'@en</td>\n",
       "      <td>-1.0</td>\n",
       "      <td>1.005487e-08</td>\n",
       "      <td>'town'@en</td>\n",
       "    </tr>\n",
       "    <tr>\n",
       "      <th>13</th>\n",
       "      <td>Q18982533</td>\n",
       "      <td>'Canada'@en</td>\n",
       "      <td>-1.0</td>\n",
       "      <td>9.828202e-09</td>\n",
       "      <td>'street in Elsloo, the Netherlands'@en</td>\n",
       "    </tr>\n",
       "    <tr>\n",
       "      <th>14</th>\n",
       "      <td>Q5029289</td>\n",
       "      <td>'Canada'@en</td>\n",
       "      <td>-1.0</td>\n",
       "      <td>9.748028e-09</td>\n",
       "      <td>'music group from Ann Arbor, Michigan, U.S.'@en</td>\n",
       "    </tr>\n",
       "    <tr>\n",
       "      <th>15</th>\n",
       "      <td>Q93287969</td>\n",
       "      <td>'Canada'@en</td>\n",
       "      <td>-1.0</td>\n",
       "      <td>9.152866e-09</td>\n",
       "      <td>'hamlet in Hampshire, UK'@en</td>\n",
       "    </tr>\n",
       "    <tr>\n",
       "      <th>16</th>\n",
       "      <td>Q28457929</td>\n",
       "      <td>'Canada'@en</td>\n",
       "      <td>-1.0</td>\n",
       "      <td>8.179876e-09</td>\n",
       "      <td>'1786 ship'@en</td>\n",
       "    </tr>\n",
       "    <tr>\n",
       "      <th>17</th>\n",
       "      <td>Q27722117</td>\n",
       "      <td>'Canada'@en</td>\n",
       "      <td>-1.0</td>\n",
       "      <td>8.027033e-09</td>\n",
       "      <td>'scientific journal'@en</td>\n",
       "    </tr>\n",
       "    <tr>\n",
       "      <th>18</th>\n",
       "      <td>Q64520319</td>\n",
       "      <td>'Canada'@en</td>\n",
       "      <td>-1.0</td>\n",
       "      <td>7.911912e-09</td>\n",
       "      <td>'painting by Martin Mull'@en</td>\n",
       "    </tr>\n",
       "    <tr>\n",
       "      <th>19</th>\n",
       "      <td>Q1031920</td>\n",
       "      <td>'canada'@en</td>\n",
       "      <td>-1.0</td>\n",
       "      <td>7.899617e-09</td>\n",
       "      <td>'unit of liquid volume in ancient Portuguese m...</td>\n",
       "    </tr>\n",
       "  </tbody>\n",
       "</table>\n",
       "</div>"
      ],
      "text/plain": [
       "         node1        label  score         prank  \\\n",
       "0          Q16  'Canada'@en   -1.0  1.097894e-03   \n",
       "1     Q2569593  'Canada'@en   -1.0  8.178669e-08   \n",
       "2    Q13265725  'Canada'@en   -1.0  3.126547e-08   \n",
       "3    Q13265795  'Canada'@en   -1.0  1.498003e-08   \n",
       "4     Q2608363  'Canada'@en   -1.0  1.364988e-08   \n",
       "5    Q18612153  'Canada'@en   -1.0  1.364276e-08   \n",
       "6   Q103921530  'Canada'@en   -1.0  1.331540e-08   \n",
       "7    Q99292858  'Canada'@en   -1.0  1.269767e-08   \n",
       "8    Q14624136  'Canada'@en   -1.0  1.255841e-08   \n",
       "9     Q5029265  'Canada'@en   -1.0  1.234508e-08   \n",
       "10     Q257304  'Canada'@en   -1.0  1.207966e-08   \n",
       "11   Q57662949  'Canada'@en   -1.0  1.015284e-08   \n",
       "12    Q1031917  'Canada'@en   -1.0  1.005487e-08   \n",
       "13   Q18982533  'Canada'@en   -1.0  9.828202e-09   \n",
       "14    Q5029289  'Canada'@en   -1.0  9.748028e-09   \n",
       "15   Q93287969  'Canada'@en   -1.0  9.152866e-09   \n",
       "16   Q28457929  'Canada'@en   -1.0  8.179876e-09   \n",
       "17   Q27722117  'Canada'@en   -1.0  8.027033e-09   \n",
       "18   Q64520319  'Canada'@en   -1.0  7.911912e-09   \n",
       "19    Q1031920  'canada'@en   -1.0  7.899617e-09   \n",
       "\n",
       "                                          description  \n",
       "0               'sovereign state in North America'@en  \n",
       "1   'former French colony in New France between th...  \n",
       "2                                    'family name'@en  \n",
       "3     '2012 novel by American author Richard Ford'@en  \n",
       "4       'village in Appelscha, in the Netherlands'@en  \n",
       "5               '180th strip of the webcomic xkcd'@en  \n",
       "6   'Shipwreck off the Scottish Coast, imported fr...  \n",
       "7   'the country of Canada as depicted in Star Tre...  \n",
       "8                     'moth genus of Pteromalidae'@en  \n",
       "9   'unincorporated community in Kansas, United St...  \n",
       "10                 'Wikimedia disambiguation page'@en  \n",
       "11                 'Canada in the Marvel universe'@en  \n",
       "12                                          'town'@en  \n",
       "13             'street in Elsloo, the Netherlands'@en  \n",
       "14    'music group from Ann Arbor, Michigan, U.S.'@en  \n",
       "15                       'hamlet in Hampshire, UK'@en  \n",
       "16                                     '1786 ship'@en  \n",
       "17                            'scientific journal'@en  \n",
       "18                       'painting by Martin Mull'@en  \n",
       "19  'unit of liquid volume in ancient Portuguese m...  "
      ]
     },
     "execution_count": 27,
     "metadata": {},
     "output_type": "execute_result"
    }
   ],
   "source": [
    "exact_search_labels('canada')"
   ]
  },
  {
   "cell_type": "markdown",
   "id": "fe55f563-b3c1-4073-928a-2e1073e32635",
   "metadata": {},
   "source": [
    "## Define a function to fo a `textlike` search"
   ]
  },
  {
   "cell_type": "code",
   "execution_count": 28,
   "id": "902c863f-cd5b-4897-a587-b041203d0398",
   "metadata": {},
   "outputs": [],
   "source": [
    "def text_like_search_labels(search_text, limit=20):\n",
    "    search_label = f\"%{'%'.join(search_text.split(' '))}%\"\n",
    "    print(search_text)\n",
    "    text_search_labels_query = _kapi2.get_query(\n",
    "        doc=\"Doc string here\",\n",
    "        name=f\"text_like_search_labels_{search_text}\",\n",
    "        inputs='l_d_pgr_ud',\n",
    "        match='l_d_pgr_ud: (qnode)-[l:label]->(y)',\n",
    "        where=f'textlike(y, \"{search_label}\")',\n",
    "       ret='distinct qnode as node1, y as label, matchscore(y) as score, cast(l.`node1;pagerank`, float) as prank, l.`node1;description` as description',\n",
    "       order='score*prank',\n",
    "       limit=limit\n",
    "    )\n",
    "    results =  list([list(x) for x in text_search_labels_query.execute()])\n",
    "    df = pd.DataFrame(results, columns=['node1', 'label', 'score', 'pagerank', 'description'])\n",
    "    print(len(df))\n",
    "    return df\n",
    "    "
   ]
  },
  {
   "cell_type": "code",
   "execution_count": 29,
   "id": "c55f4cdf-c9ef-4b4a-a0a0-665393b50b09",
   "metadata": {},
   "outputs": [
    {
     "name": "stderr",
     "output_type": "stream",
     "text": [
      "[2021-12-02 22:28:01 query]: SQL Translation:\n",
      "---------------------------------------------\n",
      "  SELECT DISTINCT graph_8_c1.\"node1\" \"_aLias.node1\", graph_8_c1.\"node2\" \"_aLias.label\", BM25(txtidx_1.graph_8_txtidx_ldpgridx) \"_aLias.score\", CAST(graph_8_c1.\"node1;pagerank\" AS float) \"_aLias.prank\", graph_8_c1.\"node1;description\" \"_aLias.description\"\n",
      "     FROM graph_8 AS graph_8_c1, graph_8_txtidx_ldpgridx AS txtidx_1\n",
      "     WHERE graph_8_c1.\"label\" = ?\n",
      "        AND txtidx_1.\"node2\" LIKE ? and txtidx_1.rowid = graph_8_c1.rowid\n",
      "     ORDER BY (\"_aLias.score\" * \"_aLias.prank\") ASC\n",
      "     LIMIT ?\n",
      "  PARAS: ['label', '%fifa%group%b%', 20]\n",
      "---------------------------------------------\n"
     ]
    },
    {
     "name": "stdout",
     "output_type": "stream",
     "text": [
      "fifa group b\n",
      "20\n"
     ]
    },
    {
     "data": {
      "text/html": [
       "<div>\n",
       "<style scoped>\n",
       "    .dataframe tbody tr th:only-of-type {\n",
       "        vertical-align: middle;\n",
       "    }\n",
       "\n",
       "    .dataframe tbody tr th {\n",
       "        vertical-align: top;\n",
       "    }\n",
       "\n",
       "    .dataframe thead th {\n",
       "        text-align: right;\n",
       "    }\n",
       "</style>\n",
       "<table border=\"1\" class=\"dataframe\">\n",
       "  <thead>\n",
       "    <tr style=\"text-align: right;\">\n",
       "      <th></th>\n",
       "      <th>node1</th>\n",
       "      <th>label</th>\n",
       "      <th>score</th>\n",
       "      <th>pagerank</th>\n",
       "      <th>description</th>\n",
       "    </tr>\n",
       "  </thead>\n",
       "  <tbody>\n",
       "    <tr>\n",
       "      <th>0</th>\n",
       "      <td>Q31189406</td>\n",
       "      <td>'2018 FIFA World Cup Group B'@en</td>\n",
       "      <td>-14.896818</td>\n",
       "      <td>4.302684e-08</td>\n",
       "      <td></td>\n",
       "    </tr>\n",
       "    <tr>\n",
       "      <th>1</th>\n",
       "      <td>Q10260332</td>\n",
       "      <td>'2014 FIFA World Cup Group B'@en</td>\n",
       "      <td>-14.896818</td>\n",
       "      <td>2.856620e-08</td>\n",
       "      <td></td>\n",
       "    </tr>\n",
       "    <tr>\n",
       "      <th>2</th>\n",
       "      <td>Q17115977</td>\n",
       "      <td>'Category:2014 FIFA World Cup group table temp...</td>\n",
       "      <td>-11.105398</td>\n",
       "      <td>2.377329e-08</td>\n",
       "      <td>'Wikimedia category'@en</td>\n",
       "    </tr>\n",
       "    <tr>\n",
       "      <th>3</th>\n",
       "      <td>Q18608402</td>\n",
       "      <td>'Category:2015 FIFA Women\\'s World Cup group t...</td>\n",
       "      <td>-10.099565</td>\n",
       "      <td>2.085697e-08</td>\n",
       "      <td>'Wikimedia category'@en</td>\n",
       "    </tr>\n",
       "    <tr>\n",
       "      <th>4</th>\n",
       "      <td>Q20730977</td>\n",
       "      <td>'2018 FIFA World Cup qualification – UEFA Grou...</td>\n",
       "      <td>-11.356739</td>\n",
       "      <td>1.593900e-08</td>\n",
       "      <td></td>\n",
       "    </tr>\n",
       "    <tr>\n",
       "      <th>5</th>\n",
       "      <td>Q187411</td>\n",
       "      <td>'2010 FIFA World Cup Group B'@en</td>\n",
       "      <td>-14.896818</td>\n",
       "      <td>1.178271e-08</td>\n",
       "      <td>'football tournament'@en</td>\n",
       "    </tr>\n",
       "    <tr>\n",
       "      <th>6</th>\n",
       "      <td>Q39134591</td>\n",
       "      <td>'Template:2018 FIFA World Cup Group B table'@en</td>\n",
       "      <td>-12.183998</td>\n",
       "      <td>1.340353e-08</td>\n",
       "      <td>'Wikimedia template'@en</td>\n",
       "    </tr>\n",
       "    <tr>\n",
       "      <th>7</th>\n",
       "      <td>Q39134633</td>\n",
       "      <td>'Template:2018 FIFA World Cup Group C table'@en</td>\n",
       "      <td>-12.183998</td>\n",
       "      <td>1.337304e-08</td>\n",
       "      <td>'Wikimedia template'@en</td>\n",
       "    </tr>\n",
       "    <tr>\n",
       "      <th>8</th>\n",
       "      <td>Q39395683</td>\n",
       "      <td>'Template:2018 FIFA World Cup Group D table'@en</td>\n",
       "      <td>-12.183998</td>\n",
       "      <td>1.336062e-08</td>\n",
       "      <td>'Wikimedia template'@en</td>\n",
       "    </tr>\n",
       "    <tr>\n",
       "      <th>9</th>\n",
       "      <td>Q39134549</td>\n",
       "      <td>'Template:2018 FIFA World Cup Group A table'@en</td>\n",
       "      <td>-12.183998</td>\n",
       "      <td>1.334831e-08</td>\n",
       "      <td>'Wikimedia template'@en</td>\n",
       "    </tr>\n",
       "    <tr>\n",
       "      <th>10</th>\n",
       "      <td>Q39395642</td>\n",
       "      <td>'Template:2018 FIFA World Cup Group E table'@en</td>\n",
       "      <td>-12.183998</td>\n",
       "      <td>1.334740e-08</td>\n",
       "      <td>'Wikimedia template'@en</td>\n",
       "    </tr>\n",
       "    <tr>\n",
       "      <th>11</th>\n",
       "      <td>Q39395551</td>\n",
       "      <td>'Template:2018 FIFA World Cup Group G table'@en</td>\n",
       "      <td>-12.183998</td>\n",
       "      <td>1.334021e-08</td>\n",
       "      <td>'Wikimedia template'@en</td>\n",
       "    </tr>\n",
       "    <tr>\n",
       "      <th>12</th>\n",
       "      <td>Q39395510</td>\n",
       "      <td>'Template:2018 FIFA World Cup Group H table'@en</td>\n",
       "      <td>-12.183998</td>\n",
       "      <td>1.332399e-08</td>\n",
       "      <td>'Wikimedia template'@en</td>\n",
       "    </tr>\n",
       "    <tr>\n",
       "      <th>13</th>\n",
       "      <td>Q39395600</td>\n",
       "      <td>'Template:2018 FIFA World Cup Group F table'@en</td>\n",
       "      <td>-12.183998</td>\n",
       "      <td>1.332215e-08</td>\n",
       "      <td>'Wikimedia template'@en</td>\n",
       "    </tr>\n",
       "    <tr>\n",
       "      <th>14</th>\n",
       "      <td>Q601980</td>\n",
       "      <td>'2014 FIFA World Cup qualification – UEFA Grou...</td>\n",
       "      <td>-11.356739</td>\n",
       "      <td>1.425484e-08</td>\n",
       "      <td></td>\n",
       "    </tr>\n",
       "    <tr>\n",
       "      <th>15</th>\n",
       "      <td>Q13452545</td>\n",
       "      <td>'2013 FIFA Confederations Cup Group B'@en</td>\n",
       "      <td>-13.141245</td>\n",
       "      <td>1.094711e-08</td>\n",
       "      <td></td>\n",
       "    </tr>\n",
       "    <tr>\n",
       "      <th>16</th>\n",
       "      <td>Q12415572</td>\n",
       "      <td>'Template:2006 FIFA World Cup Group B'@en</td>\n",
       "      <td>-13.141245</td>\n",
       "      <td>1.069444e-08</td>\n",
       "      <td>'Wikimedia template'@en</td>\n",
       "    </tr>\n",
       "    <tr>\n",
       "      <th>17</th>\n",
       "      <td>Q15838739</td>\n",
       "      <td>'Template:1994 FIFA World Cup Group B'@en</td>\n",
       "      <td>-13.141245</td>\n",
       "      <td>1.069444e-08</td>\n",
       "      <td>'Wikimedia template'@en</td>\n",
       "    </tr>\n",
       "    <tr>\n",
       "      <th>18</th>\n",
       "      <td>Q17348977</td>\n",
       "      <td>'Template:2002 FIFA World Cup Group B'@en</td>\n",
       "      <td>-13.141245</td>\n",
       "      <td>1.069444e-08</td>\n",
       "      <td>'Wikimedia template'@en</td>\n",
       "    </tr>\n",
       "    <tr>\n",
       "      <th>19</th>\n",
       "      <td>Q25735803</td>\n",
       "      <td>'Template:1998 FIFA World Cup Group B'@en</td>\n",
       "      <td>-13.141245</td>\n",
       "      <td>1.069444e-08</td>\n",
       "      <td>'Wikimedia template'@en</td>\n",
       "    </tr>\n",
       "  </tbody>\n",
       "</table>\n",
       "</div>"
      ],
      "text/plain": [
       "        node1                                              label      score  \\\n",
       "0   Q31189406                   '2018 FIFA World Cup Group B'@en -14.896818   \n",
       "1   Q10260332                   '2014 FIFA World Cup Group B'@en -14.896818   \n",
       "2   Q17115977  'Category:2014 FIFA World Cup group table temp... -11.105398   \n",
       "3   Q18608402  'Category:2015 FIFA Women\\'s World Cup group t... -10.099565   \n",
       "4   Q20730977  '2018 FIFA World Cup qualification – UEFA Grou... -11.356739   \n",
       "5     Q187411                   '2010 FIFA World Cup Group B'@en -14.896818   \n",
       "6   Q39134591    'Template:2018 FIFA World Cup Group B table'@en -12.183998   \n",
       "7   Q39134633    'Template:2018 FIFA World Cup Group C table'@en -12.183998   \n",
       "8   Q39395683    'Template:2018 FIFA World Cup Group D table'@en -12.183998   \n",
       "9   Q39134549    'Template:2018 FIFA World Cup Group A table'@en -12.183998   \n",
       "10  Q39395642    'Template:2018 FIFA World Cup Group E table'@en -12.183998   \n",
       "11  Q39395551    'Template:2018 FIFA World Cup Group G table'@en -12.183998   \n",
       "12  Q39395510    'Template:2018 FIFA World Cup Group H table'@en -12.183998   \n",
       "13  Q39395600    'Template:2018 FIFA World Cup Group F table'@en -12.183998   \n",
       "14    Q601980  '2014 FIFA World Cup qualification – UEFA Grou... -11.356739   \n",
       "15  Q13452545          '2013 FIFA Confederations Cup Group B'@en -13.141245   \n",
       "16  Q12415572          'Template:2006 FIFA World Cup Group B'@en -13.141245   \n",
       "17  Q15838739          'Template:1994 FIFA World Cup Group B'@en -13.141245   \n",
       "18  Q17348977          'Template:2002 FIFA World Cup Group B'@en -13.141245   \n",
       "19  Q25735803          'Template:1998 FIFA World Cup Group B'@en -13.141245   \n",
       "\n",
       "        pagerank               description  \n",
       "0   4.302684e-08                            \n",
       "1   2.856620e-08                            \n",
       "2   2.377329e-08   'Wikimedia category'@en  \n",
       "3   2.085697e-08   'Wikimedia category'@en  \n",
       "4   1.593900e-08                            \n",
       "5   1.178271e-08  'football tournament'@en  \n",
       "6   1.340353e-08   'Wikimedia template'@en  \n",
       "7   1.337304e-08   'Wikimedia template'@en  \n",
       "8   1.336062e-08   'Wikimedia template'@en  \n",
       "9   1.334831e-08   'Wikimedia template'@en  \n",
       "10  1.334740e-08   'Wikimedia template'@en  \n",
       "11  1.334021e-08   'Wikimedia template'@en  \n",
       "12  1.332399e-08   'Wikimedia template'@en  \n",
       "13  1.332215e-08   'Wikimedia template'@en  \n",
       "14  1.425484e-08                            \n",
       "15  1.094711e-08                            \n",
       "16  1.069444e-08   'Wikimedia template'@en  \n",
       "17  1.069444e-08   'Wikimedia template'@en  \n",
       "18  1.069444e-08   'Wikimedia template'@en  \n",
       "19  1.069444e-08   'Wikimedia template'@en  "
      ]
     },
     "execution_count": 29,
     "metadata": {},
     "output_type": "execute_result"
    }
   ],
   "source": [
    "text_like_search_labels(\"fifa group b\")"
   ]
  },
  {
   "cell_type": "markdown",
   "id": "69230f55-63f5-40d8-b587-e30c99e3a029",
   "metadata": {},
   "source": [
    "# Create the JSON lines file required for KGTK search Elasticsearch Index"
   ]
  },
  {
   "cell_type": "markdown",
   "id": "6febbadd-6a3f-4ff1-9d88-3515a208c5cb",
   "metadata": {},
   "source": [
    "## Concatenate all the input files"
   ]
  },
  {
   "cell_type": "code",
   "execution_count": null,
   "id": "4bcdea12-082b-4878-a5c8-8a6b7808d26a",
   "metadata": {},
   "outputs": [],
   "source": [
    "if create_es_index:\n",
    "    kgtk(\"\"\" cat \n",
    "        -i \"$GRAPH/labels.en.tsv.gz\"\n",
    "        -i \"$GRAPH/aliases.en.tsv.gz\"\n",
    "        -i \"$GRAPH/descriptions.en.tsv.gz\"\n",
    "        -i \"$GRAPH/claims.tsv.gz\"\n",
    "        -i \"$GRAPH/qualifiers.tsv.gz\"\n",
    "        -i \"$GRAPH/metadata.pagerank.undirected.tsv.gz\"\n",
    "        -i \"$GRAPH/derived.isastar.tsv.gz\"\n",
    "        -o \"$OUT\"/kgtk.search.unsorted.tsv.gz\"\"\")"
   ]
  },
  {
   "cell_type": "markdown",
   "id": "62912bbd-4b4b-4cc8-a36e-60fff53722f3",
   "metadata": {},
   "source": [
    "## Sort"
   ]
  },
  {
   "cell_type": "code",
   "execution_count": null,
   "id": "6d52fa08-1b89-4846-817a-5ac73b2c74e5",
   "metadata": {},
   "outputs": [],
   "source": [
    "if create_es_index:\n",
    "    kgtk(f\"\"\"sort --column node1  \n",
    "        -X \"--parallel 8 --buffer-size 60% --temporary-directory {os.environ['TEMP']}\" \n",
    "        -o \"$OUT/kgtk.search.sorted.tsv.gz\" \"\"\")"
   ]
  },
  {
   "cell_type": "markdown",
   "id": "c9ad12a1-9af3-49bd-9192-c9a0ffb68140",
   "metadata": {},
   "source": [
    "## Run `kgtk build-kgtk-search-input` command to create the json lines file"
   ]
  },
  {
   "cell_type": "code",
   "execution_count": null,
   "id": "f10c50d5-72c4-4923-94e5-ef1fcaa19fe7",
   "metadata": {},
   "outputs": [],
   "source": [
    "if create_es_index:\n",
    "    kgtk(\"\"\"build-kgtk-search-input --input-file \"$OUT/kgtk.search.sorted.tsv.gz\"\n",
    "            --output-file \"$OUT\"/kgtk.search.sorted.jl \n",
    "            --label-properties label \n",
    "            --alias-properties alias \n",
    "            --extra-alias-properties P1448,P1705,P1477,P1810,P742,P1449 \n",
    "            --description-properties description \n",
    "            --pagerank-properties Pundirected_pagerank \n",
    "            --mapping-file \"$OUT\"/wikidata_es_kgtk_search_mapping.json \n",
    "            --property-datatype-file \"$GRAPH\"/metadata.property.datatypes.tsv.gz\"\"\")"
   ]
  },
  {
   "cell_type": "markdown",
   "id": "efd306a3-764b-4dfe-a5cc-8555fe3e7529",
   "metadata": {},
   "source": [
    "## Create the Elasticsearch Index"
   ]
  },
  {
   "cell_type": "code",
   "execution_count": null,
   "id": "4bcb7008-4eeb-4908-9ace-b8c056e02f9e",
   "metadata": {},
   "outputs": [],
   "source": [
    "if create_es_index:\n",
    "    os.environ['ESURL'] = f\"{es_host}:{es_port}\"\n",
    "    os.environ['ESINDEX'] = es_index"
   ]
  },
  {
   "cell_type": "code",
   "execution_count": null,
   "id": "2175ecb8-dac6-476e-a110-b8c568fee417",
   "metadata": {},
   "outputs": [],
   "source": [
    "if create_es_index:\n",
    "    !curl -H \"Content-Type: application/json\" -XPUT $ESURL/$ESINDEX -d @\"$OUT/wikidata_es_kgtk_search_mapping.json\""
   ]
  },
  {
   "cell_type": "markdown",
   "id": "6208de41-7657-421b-ac61-bdbd22104fb1",
   "metadata": {},
   "source": [
    "## Load the json lines file to the ES Index"
   ]
  },
  {
   "cell_type": "markdown",
   "id": "5aceeeba-9a3b-4eb4-a382-27e38dcf63bd",
   "metadata": {},
   "source": [
    "The following command requires [table-linker](https://github.com/usc-isi-i2/table-linker) to be installed in the current virtual environment."
   ]
  },
  {
   "cell_type": "code",
   "execution_count": null,
   "id": "733bb061-f13c-4b21-bea8-fff70de620d1",
   "metadata": {},
   "outputs": [],
   "source": [
    "if create_es_index:\n",
    "    !tl load-elasticsearch-index --es-url $ESURL --es-index $ESINDEX --es-version 7 --kgtk-jl-path \"$OUT\"/kgtk.search.sorted.jl"
   ]
  }
 ],
 "metadata": {
  "kernelspec": {
   "display_name": "kgtk-env",
   "language": "python",
   "name": "kgtk-env"
  },
  "language_info": {
   "codemirror_mode": {
    "name": "ipython",
    "version": 3
   },
   "file_extension": ".py",
   "mimetype": "text/x-python",
   "name": "python",
   "nbconvert_exporter": "python",
   "pygments_lexer": "ipython3",
   "version": "3.9.7"
  }
 },
 "nbformat": 4,
 "nbformat_minor": 5
}
