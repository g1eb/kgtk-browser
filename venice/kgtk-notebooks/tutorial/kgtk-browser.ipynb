{
 "cells": [
  {
   "cell_type": "markdown",
   "id": "cbe89b7e-e368-4f1b-b40c-bdd24df44ffc",
   "metadata": {},
   "source": [
    "# KGTK BROWSER Setup"
   ]
  },
  {
   "cell_type": "markdown",
   "id": "a42082e3-754f-4c94-883d-9ca80c3b4590",
   "metadata": {},
   "source": [
    "We will setup the files required for KGTK Browser command to run. KGTK Browser provides an interface to browse your knowledge graph."
   ]
  },
  {
   "cell_type": "markdown",
   "id": "08ae6aaa-44c4-4682-843f-2b933eae7ab7",
   "metadata": {},
   "source": [
    "### Get the latest kgtk-browser from GitHub"
   ]
  },
  {
   "cell_type": "code",
   "execution_count": null,
   "id": "objective-choir",
   "metadata": {},
   "outputs": [],
   "source": [
    "!rm -rf kgtk-browser && git clone https://github.com/usc-isi-i2/kgtk-browser\n",
    "!pip install -r kgtk-browser/requirements.txt"
   ]
  },
  {
   "cell_type": "markdown",
   "id": "51249c5c-18aa-4a39-b52f-aa143ed161a6",
   "metadata": {},
   "source": [
    "### Install papermill to run a Jupyter notebook via command line"
   ]
  },
  {
   "cell_type": "code",
   "execution_count": null,
   "id": "6fe057eb-2410-40d4-85d7-05668d058307",
   "metadata": {},
   "outputs": [],
   "source": [
    "!pip install papermill"
   ]
  },
  {
   "cell_type": "markdown",
   "id": "3032cd4e-3437-45c3-8658-4392848d78e3",
   "metadata": {},
   "source": [
    "### Import required modules"
   ]
  },
  {
   "cell_type": "code",
   "execution_count": 3,
   "id": "adjusted-moldova",
   "metadata": {},
   "outputs": [],
   "source": [
    "from kgtk.functions import kgtk, kypher\n",
    "from kgtk.configure_kgtk_notebooks import ConfigureKGTK\n",
    "import json\n",
    "import os\n",
    "from google.colab.output import eval_js"
   ]
  },
  {
   "cell_type": "markdown",
   "id": "d2e62a8e-a2fb-4857-ade5-442ae93fa2b2",
   "metadata": {},
   "source": [
    "### Setup Input Parameters"
   ]
  },
  {
   "cell_type": "code",
   "execution_count": null,
   "id": "direct-element",
   "metadata": {},
   "outputs": [],
   "source": [
    "files = 'label,pagerank_undirected,alias,description,claims,datatypes,qualifiers'.split(\",\")\n",
    "\n",
    "input_files_url=\"https://github.com/usc-isi-i2/kgtk-tutorial-files/raw/main/datasets/kgtk-browser\"\n",
    "\n",
    "input_path = None\n",
    "output_path = '/tmp/projects'\n",
    "project_name = 'kgtk-browser'\n",
    "\n",
    "\n",
    "ck = ConfigureKGTK(files, input_files_url=input_files_url)\n",
    "ck.configure_kgtk(input_graph_path=input_path,\n",
    "                  output_path=output_path,\n",
    "                  project_name=project_name)\n"
   ]
  },
  {
   "cell_type": "markdown",
   "id": "738ea5df-1e47-4557-96f5-22cba1baaa95",
   "metadata": {},
   "source": [
    "Take a look at the environment variables"
   ]
  },
  {
   "cell_type": "code",
   "execution_count": 5,
   "id": "compound-number",
   "metadata": {},
   "outputs": [
    {
     "name": "stdout",
     "output_type": "stream",
     "text": [
      "GRAPH: /Users/amandeep/isi-kgtk-tutorial/kgtk-browser_input\n",
      "TEMP: /tmp/projects/kgtk-browser/temp.kgtk-browser\n",
      "STORE: /tmp/projects/kgtk-browser/temp.kgtk-browser/wikidata.sqlite3.db\n",
      "kypher: kgtk query --graph-cache /tmp/projects/kgtk-browser/temp.kgtk-browser/wikidata.sqlite3.db\n",
      "USE_CASES_DIR: /Users/amandeep/Github/kgtk-notebooks/use-cases\n",
      "KGTK_OPTION_DEBUG: false\n",
      "EXAMPLES_DIR: /Users/amandeep/Github/kgtk-notebooks/examples\n",
      "KGTK_LABEL_FILE: /Users/amandeep/isi-kgtk-tutorial/kgtk-browser_input/labels.en.tsv.gz\n",
      "OUT: /tmp/projects/kgtk-browser\n",
      "KGTK_GRAPH_CACHE: /tmp/projects/kgtk-browser/temp.kgtk-browser/wikidata.sqlite3.db\n",
      "kgtk: kgtk\n",
      "label: /Users/amandeep/isi-kgtk-tutorial/kgtk-browser_input/labels.en.tsv.gz\n",
      "pagerank_undirected: /Users/amandeep/isi-kgtk-tutorial/kgtk-browser_input/metadata.pagerank.undirected.tsv.gz\n",
      "alias: /Users/amandeep/isi-kgtk-tutorial/kgtk-browser_input/aliases.en.tsv.gz\n",
      "description: /Users/amandeep/isi-kgtk-tutorial/kgtk-browser_input/descriptions.en.tsv.gz\n",
      "claims: /Users/amandeep/isi-kgtk-tutorial/kgtk-browser_input/claims.tsv.gz\n",
      "datatypes: /Users/amandeep/isi-kgtk-tutorial/kgtk-browser_input/metadata.property.datatypes.tsv.gz\n",
      "qualifiers: /Users/amandeep/isi-kgtk-tutorial/kgtk-browser_input/qualifiers.tsv.gz\n"
     ]
    }
   ],
   "source": [
    "ck.print_env_variables()"
   ]
  },
  {
   "cell_type": "markdown",
   "id": "2da4c94e-be20-46a7-87df-7bcb7aa28cf2",
   "metadata": {},
   "source": [
    "### Setup Cache file for KGTK Browser"
   ]
  },
  {
   "cell_type": "code",
   "execution_count": 6,
   "id": "fc783086-449c-4650-aa90-3a9ca49dabac",
   "metadata": {},
   "outputs": [
    {
     "name": "stdout",
     "output_type": "stream",
     "text": [
      "Input Notebook:  kgtk-browser/KGTK-Query-Text-Search-Setup.ipynb\n",
      "Output Notebook: kgtk-browser/KGTK-Query-Text-Search-Setup-OUT.ipynb\n",
      "Black is not installed, parameters wont be formatted\n",
      "Executing:   0%|                                       | 0/64 [00:00<?, ?cell/s]Executing notebook with kernel: kgtk-env\n",
      "Executing: 100%|██████████████████████████████| 64/64 [01:48<00:00,  1.69s/cell]\n"
     ]
    }
   ],
   "source": [
    "!papermill kgtk-browser/KGTK-Query-Text-Search-Setup.ipynb kgtk-browser/KGTK-Query-Text-Search-Setup-OUT.ipynb \\\n",
    "-p input_path $GRAPH \\\n",
    "-p output_path $OUT \\\n",
    "-p project_name kgtk-browser-files \\\n",
    "-p create_db yes \\\n",
    "-p create_es no \\\n",
    "-p create_class_viz no "
   ]
  },
  {
   "cell_type": "code",
   "execution_count": 7,
   "id": "307a4d11-c3ff-43bb-b008-adae1733d6e2",
   "metadata": {},
   "outputs": [],
   "source": [
    "os.environ['STORE']=f\"{os.environ['OUT']}/kgtk-browser-files/temp.kgtk-browser-files/wikidata.sqlite3.db\""
   ]
  },
  {
   "cell_type": "markdown",
   "id": "63e2e9ad-0782-496d-a529-afbe7a5f8311",
   "metadata": {},
   "source": [
    "### Lets take a look at the tables in the Cache"
   ]
  },
  {
   "cell_type": "code",
   "execution_count": 8,
   "id": "fuzzy-directive",
   "metadata": {},
   "outputs": [
    {
     "name": "stdout",
     "output_type": "stream",
     "text": [
      "Graph Cache:\n",
      "DB file: /tmp/projects/kgtk-browser/kgtk-browser-files/temp.kgtk-browser-files/wikidata.sqlite3.db\n",
      "  size:  526.05 MB   \tfree:  0 Bytes   \tmodified:  2022-03-23 11:32:59\n",
      "\n",
      "KGTK File Information:\n",
      "alias:\n",
      "  size:  1.28 MB   \tmodified:  2022-03-23 11:31:24   \tgraph:  graph_3\n",
      "claims:\n",
      "  size:  31.25 MB   \tmodified:  2022-03-23 11:31:28   \tgraph:  graph_5\n",
      "datatypes:\n",
      "  size:  20.69 KB   \tmodified:  2022-03-23 11:31:29   \tgraph:  graph_6\n",
      "description:\n",
      "  size:  1.28 MB   \tmodified:  2022-03-23 11:31:25   \tgraph:  graph_4\n",
      "l_d_pgr_ud:\n",
      "  size:  3.04 MB   \tmodified:  2022-03-23 11:32:19   \tgraph:  graph_8\n",
      "label:\n",
      "  size:  1.02 MB   \tmodified:  2022-03-23 11:31:21   \tgraph:  graph_1\n",
      "pagerank_undirected:\n",
      "  size:  13.45 MB   \tmodified:  2022-03-23 11:31:22   \tgraph:  graph_2\n",
      "qualifiers:\n",
      "  size:  8.10 MB   \tmodified:  2022-03-23 11:31:31   \tgraph:  graph_7\n",
      "\n",
      "Graph Table Information:\n",
      "graph_1:\n",
      "  size:  5.96 MB   \tcreated:  2022-03-23 11:31:47\n",
      "  header:  ['node1', 'label', 'node2', 'id']\n",
      "graph_2:\n",
      "  size:  127.42 MB   \tcreated:  2022-03-23 11:31:54\n",
      "  header:  ['node1', 'label', 'node2', 'id']\n",
      "graph_3:\n",
      "  size:  6.27 MB   \tcreated:  2022-03-23 11:31:54\n",
      "  header:  ['node1', 'label', 'node2', 'id']\n",
      "graph_4:\n",
      "  size:  9.61 MB   \tcreated:  2022-03-23 11:31:55\n",
      "  header:  ['node1', 'label', 'node2', 'id']\n",
      "graph_5:\n",
      "  size:  281.04 MB   \tcreated:  2022-03-23 11:32:06\n",
      "  header:  ['node1', 'label', 'node2', 'id']\n",
      "graph_6:\n",
      "  size:  300.00 KB   \tcreated:  2022-03-23 11:32:06\n",
      "  header:  ['node1', 'label', 'node2', 'id']\n",
      "graph_7:\n",
      "  size:  77.35 MB   \tcreated:  2022-03-23 11:32:12\n",
      "  header:  ['node1', 'label', 'node2', 'id']\n",
      "graph_8:\n",
      "  size:  18.09 MB   \tcreated:  2022-03-23 11:32:23\n",
      "  header:  ['node1', 'label', 'node2', 'node2;upper', 'node1;pagerank', 'node1;description']\n"
     ]
    }
   ],
   "source": [
    "!kgtk query --gc $STORE --show-cache"
   ]
  },
  {
   "cell_type": "code",
   "execution_count": 9,
   "id": "a431d3dd-6d59-43f4-b0e7-f33cee5ab1ee",
   "metadata": {},
   "outputs": [],
   "source": [
    "os.environ['KGTK_BROWSER_GRAPH_CACHE'] = os.environ['STORE']"
   ]
  },
  {
   "cell_type": "code",
   "execution_count": null,
   "id": "objective-immigration",
   "metadata": {},
   "outputs": [],
   "source": [
    "# Get a unique link pointing to this google colab environment\n",
    "\n",
    "print(eval_js(\"google.colab.kernel.proxyPort(8000)\") + \"browser\")"
   ]
  },
  {
   "cell_type": "code",
   "execution_count": null,
   "id": "viral-diving",
   "metadata": {},
   "outputs": [],
   "source": [
    "# Set the environment variables for flask\n",
    "os.environ['FLASK_ENV'] = 'production'\n",
    "os.environ['FLASK_APP'] = 'kgtk-browser/kgtk_browser_app.py'\n",
    "os.environ['KGTK_BROWSER_CONFIG'] = 'kgtk-browser/browser/backend/kgtk_browser_config.py'\n",
    "\n",
    "# Run the kgtk-browser app\n",
    "!flask run --port 8000"
   ]
  }
 ],
 "metadata": {
  "kernelspec": {
   "display_name": "kgtk-env",
   "language": "python",
   "name": "kgtk-env"
  },
  "language_info": {
   "codemirror_mode": {
    "name": "ipython",
    "version": 3
   },
   "file_extension": ".py",
   "mimetype": "text/x-python",
   "name": "python",
   "nbconvert_exporter": "python",
   "pygments_lexer": "ipython3",
   "version": "3.9.7"
  }
 },
 "nbformat": 4,
 "nbformat_minor": 5
}
