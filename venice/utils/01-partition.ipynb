{
 "cells": [
  {
   "cell_type": "markdown",
   "metadata": {},
   "source": [
    "# Partitioning a subset of Wikidata\n",
    "\n",
    "This notebook illustrates how to partition a Wikidata KGTK edges file.\n",
    "\n",
    "Parameters are set up in the first cell so that we can run this notebook in batch mode. Example invocation command:\n",
    "\n",
    "```\n",
    "papermill partition-wikidata.ipynb partition-wikidata.out.ipynb \\\n",
    "-p wikidata_input_path /data3/rogers/kgtk/gd/kgtk_public_graphs/cache/wikidata-20201130/data/all.tsv.gz \\\n",
    "-p wikidata_parts_path /data3/rogers/kgtk/gd/kgtk_public_graphs/cache/wikidata-20201130/parts \\\n",
    "```\n",
    "\n",
    "Here is a sample of the records that might appear in the input KGTK file:\n",
    "```\n",
    "id\tnode1\tlabel\tnode2\trank\tnode2;wikidatatype\tlang\n",
    "Q1-P1036-418bc4-78f5a565-0\tQ1\tP1036\t\"113\"\tnormal\texternal-id\t\n",
    "Q1-P1343-Q19190511-ab132b87-0   Q1      P1343   Q19190511       normal  wikibase-item   \n",
    "Q1-P18-92a7b3-0dcac501-0        Q1      P18     \"Hubble ultra deep field.jpg\"   normal  commonsMedia    \n",
    "Q1-P2386-cedfb0-0fdbd641-0      Q1      P2386   +880000000000000000000000Q828224        normal  quantity        \n",
    "Q1-P580-a2fccf-63cf4743-0       Q1      P580    ^-13798000000-00-00T00:00:00Z/3 normal  time    \n",
    "Q1-P920-47c0f2-52689c4e-0       Q1      P920    \"LEM201201756\"  normal  string  \n",
    "Q1-P1343-Q19190511-ab132b87-0-P805-Q84065667-0  Q1-P1343-Q19190511-ab132b87-0   P805    Q84065667               wikibase-item   \n",
    "Q1-P1343-Q88672152-5080b9e2-0-P304-5724c3-0     Q1-P1343-Q88672152-5080b9e2-0   P304    \"13-36\"         string  \n",
    "Q1-P2670-Q18343-030eb87e-0-P1107-ce87f8-0       Q1-P2670-Q18343-030eb87e-0      P1107   +0.70           quantity        \n",
    "Q1-P793-Q273508-1900d69c-0-P585-a2fccf-0        Q1-P793-Q273508-1900d69c-0      P585    ^-13798000000-00-00T00:00:00Z/3         time    \n",
    "P10-alias-en-282226-0   P10     alias   'gif'@en\n",
    "P10-description-en      P10     description     'relevant video. For images, use the property P18. For film trailers, qualify with \\\"object has role\\\" (P3831)=\\\"trailer\\\" (Q622550)'@en                        en\n",
    "P10-label-en    P10     label   'video'@en                      en\n",
    "Q1-addl_wikipedia_sitelink-19e42a-0     Q1      addl_wikipedia_sitelink http://enwikiquote.org/wiki/Universe                    en\n",
    "Q1-addl_wikipedia_sitelink-19e42a-0-language-0  Q1-addl_wikipedia_sitelink-19e42a-0     sitelink-language       en                      en\n",
    "Q1-addl_wikipedia_sitelink-19e42a-0-site-0      Q1-addl_wikipedia_sitelink-19e42a-0     sitelink-site   enwikiquote                     en\n",
    "Q1-addl_wikipedia_sitelink-19e42a-0-title-0     Q1-addl_wikipedia_sitelink-19e42a-0     sitelink-title  \"Universe\"                      en\n",
    "Q1-wikipedia_sitelink-5e459a-0  Q1      wikipedia_sitelink      http://en.wikipedia.org/wiki/Universe                   en\n",
    "Q1-wikipedia_sitelink-5e459a-0-badge-Q17437798  Q1-wikipedia_sitelink-5e459a-0  sitelink-badge  Q17437798                       en\n",
    "Q1-wikipedia_sitelink-5e459a-0-language-0       Q1-wikipedia_sitelink-5e459a-0  sitelink-language       en                      en\n",
    "Q1-wikipedia_sitelink-5e459a-0-site-0   Q1-wikipedia_sitelink-5e459a-0  sitelink-site   enwiki                  en\n",
    "Q1-wikipedia_sitelink-5e459a-0-title-0  Q1-wikipedia_sitelink-5e459a-0  sitelink-title  \"Universe\"                      en\n",
    "```\n",
    "Here are some contraints on the contents of the input file:\n",
    "- The input file starts with a KGTK header record.\n",
    "  - In addition to the `id`, `node1`, `label`, and `node2` columns, the file may contain the `node2;wikidatatype` column.\n",
    "  - The `node2;wikidatatype` column is used to partition claims by Wikidata property datatype.\n",
    "  - If it does not exist, it will be created during the partitioning process and populated using `datatype` relationships.\n",
    "  - If it does exist, any empty values in the column will be populated using `datatype` relationships.\n",
    "- The `id` column must contain a nonempty value.\n",
    "- The first section of an `id` value must be the `node` value for the record.\n",
    "  - The qualifier extraction operations depend upon this constraint. \n",
    "- In addition to the claims and qualifiers, the input file is expected to contain:\n",
    "  - English language labels for all property entities appearing in the file.\n",
    "- The input file ought to contain the following:\n",
    "  - claims records,\n",
    "  - qualifier records,\n",
    "  - alias records in appropriate languages,\n",
    "  - description records in appropriate languages,\n",
    "  - label records in appropriate languages, and\n",
    "  - sitelink records in appropriate languages.\n",
    "  - `datatype` records that map Wikidata property entities to Wikidata property datatypes. These records are required if the input file does not contain the `node2;wikidatatype` column.\n",
    "- Additionally, this script provides for the appearance of `type` records in the input file.\n",
    "  - `type` records that list all `entityId` values and identify them as properties or items. These records provides a correctness check on the operation of `kgtk import-wikidata`, and may be deprecated in the future.\n",
    "- The input file is assumed to be unsorted. If it is already sorted on the (`id` `node1` `label` `node2`) columns , then set the `presorted` parameter to `True` to shorten the execution time of this script."
   ]
  },
  {
   "cell_type": "markdown",
   "metadata": {},
   "source": [
    "### Parameters for invoking the notebook\n",
    "\n",
    "| Parameter | Description | Default |\n",
    "| --------- | ----------- | ------- |\n",
    "| `wikidata_input_path` | A folder containing the Wikidata KGTK edges to partition. | '/data4/rogers/elicit/cache/datasets/wikidata-20200803/data/all.tsv.gz' |\n",
    "| `wikidata_parts_path` | A folder to receive the partitioned Wikidata files, such as `part.wikibase-item.tsv.gz` | '/data4/rogers/elicit/cache/datasets/wikidata-20200803/parts' |\n",
    "| `temp_folder_path` |    A folder that may be used for temporary files. | wikidata_parts_path + '/temp' |\n",
    "| `gzip_command` |        The compression command for sorting. | 'pigz'  (Note: use version 2.4 or later)|\n",
    "| `kgtk_command` |        The kgtk commmand. | 'time kgtk' |\n",
    "| `kgtk_options` |        The kgtk commmand options. | '--debug --timing' |\n",
    "| `kgtk_extension` |      The file extension for generated KGTK files. Appending `.gz` implies gzip compression. | 'tsv.gz' |\n",
    "| `presorted` |           When True, the input file is already sorted on the (`id` `node1` `label` `node2`) columns. | 'False' |\n",
    "| `sort_extras` |         Extra parameters for the sort program.  The default specifies a path for temporary files. Other useful parameters include '--buffer-size' and '--parallel'. | '--parallel 24 --buffer-size 30% --temporary-directory ' + temp_folder_path |\n",
    "| `use_mgzip` |           When True, use the mgzip program where appropriate for faster compression. | 'True' |\n",
    "| `verbose` |             When True, produce additional feedback messages. | 'True' |\n",
    "\n",
    "Note: if `pigz` version 2.4 (or later) is not available on your system, use `gzip`.\n"
   ]
  },
  {
   "cell_type": "code",
   "execution_count": 1,
   "metadata": {
    "tags": [
     "parameters"
    ]
   },
   "outputs": [],
   "source": [
    "# Parameters\n",
    "wikidata_input_path = '/data3/rogers/kgtk/gd/kgtk_public_graphs/cache/wikidata-20201130/data/all.tsv.gz'\n",
    "wikidata_parts_path = '/data3/rogers/kgtk/gd/kgtk_public_graphs/cache/wikidata-20201130/parts'\n",
    "temp_folder_path =    wikidata_parts_path + '/temp'\n",
    "gzip_command =        'gzip'\n",
    "kgtk_command =        'time kgtk'\n",
    "kgtk_options =        '--debug --timing'\n",
    "kgtk_extension =      'tsv.gz'\n",
    "presorted =           'False'\n",
    "sort_extras =         '--parallel 24 --buffer-size 30% --temporary-directory ' + temp_folder_path\n",
    "use_mgzip =           'True'\n",
    "verbose =             'True'\n"
   ]
  },
  {
   "cell_type": "code",
   "execution_count": 23,
   "metadata": {},
   "outputs": [
    {
     "name": "stdout",
     "output_type": "stream",
     "text": [
      "wikidata_input_path = '/mnt/data01/gleb/col_data/lexis_nexis/20230714_venice.tsv'\n",
      "wikidata_parts_path = '/mnt/data01/gleb/venice-kgtk-browser/venice/temp'\n",
      "temp_folder_path = '/mnt/data01/gleb/venice-kgtk-browser/venice/temp'\n",
      "gzip_command = 'gzip'\n",
      "kgtk_command = 'time kgtk'\n",
      "kgtk_options = '--debug --timing'\n",
      "kgtk_extension = 'tsv.gz'\n",
      "presorted = 'False'\n",
      "sort_extras = '--parallel 24 --buffer-size 30% --temporary-directory /data3/rogers/kgtk/gd/kgtk_public_graphs/cache/wikidata-20201130/parts/temp'\n",
      "use_mgzip = 'True'\n",
      "verbose = 'True'\n"
     ]
    }
   ],
   "source": [
    "print('wikidata_input_path = %s' % repr(wikidata_input_path))\n",
    "print('wikidata_parts_path = %s' % repr(wikidata_parts_path))\n",
    "print('temp_folder_path = %s' % repr(temp_folder_path))\n",
    "print('gzip_command = %s' % repr(gzip_command))\n",
    "print('kgtk_command = %s' % repr(kgtk_command))\n",
    "print('kgtk_options = %s' % repr(kgtk_options))\n",
    "print('kgtk_extension = %s' % repr(kgtk_extension))\n",
    "print('presorted = %s' % repr(presorted))\n",
    "print('sort_extras = %s' % repr(sort_extras))\n",
    "print('use_mgzip = %s' % repr(use_mgzip))\n",
    "print('verbose = %s' % repr(verbose))\n"
   ]
  },
  {
   "cell_type": "markdown",
   "metadata": {},
   "source": [
    "### Create working folders and empty them"
   ]
  },
  {
   "cell_type": "code",
   "execution_count": 24,
   "metadata": {},
   "outputs": [
    {
     "name": "stdout",
     "output_type": "stream",
     "text": [
      "mkdir: cannot create directory ‘/mnt/data01/gleb/venice-kgtk-browser/venice/temp’: File exists\n"
     ]
    }
   ],
   "source": [
    "!mkdir {wikidata_parts_path}\n",
    "!mkdir {temp_folder_path}"
   ]
  },
  {
   "cell_type": "code",
   "execution_count": 25,
   "metadata": {},
   "outputs": [
    {
     "name": "stdout",
     "output_type": "stream",
     "text": [
      "rm: cannot remove '/mnt/data01/gleb/venice-kgtk-browser/venice/temp/*.tsv': No such file or directory\n",
      "rm: cannot remove '/mnt/data01/gleb/venice-kgtk-browser/venice/temp/*.tsv.gz': No such file or directory\n",
      "rm: cannot remove '/mnt/data01/gleb/venice-kgtk-browser/venice/temp/*.tsv': No such file or directory\n",
      "rm: cannot remove '/mnt/data01/gleb/venice-kgtk-browser/venice/temp/*.tsv.gz': No such file or directory\n"
     ]
    }
   ],
   "source": [
    "!rm {wikidata_parts_path}/*.tsv {wikidata_parts_path}/*.tsv.gz\n",
    "!rm {temp_folder_path}/*.tsv {temp_folder_path}/*.tsv.gz"
   ]
  },
  {
   "cell_type": "markdown",
   "metadata": {},
   "source": [
    "### Sort the Input Data Unless Presorted\n",
    "Sort the input data file by (id, node1, label, node2).\n",
    "This may take a while."
   ]
  },
  {
   "cell_type": "code",
   "execution_count": 26,
   "metadata": {},
   "outputs": [
    {
     "name": "stdout",
     "output_type": "stream",
     "text": [
      "Sorting the input file '/mnt/data01/gleb/col_data/lexis_nexis/20230714_venice.tsv'.\n",
      "Starting 'sort2' on pid 9132.\n",
      "Using the sort command 'sort'\n",
      "header pipe: read_fd=4 write_fd=5\n",
      "sort options pipe: read_fd=6 write_fd=7\n",
      "gzip output file: '/mnt/data01/gleb/venice-kgtk-browser/venice/temp/all.tsv.gz'\n",
      "sort command: { IFS= read -r header ;  { printf \"%s\\n\" \"$header\" >&5 ; } ;  printf \"%s\\n\" \"$header\" ;  IFS= read -u 6 -r options ;  LC_ALL=C sort -t '\t' $options ; }  | gzip - > '/mnt/data01/gleb/venice-kgtk-browser/venice/temp/all.tsv.gz'\n",
      "input file: '/mnt/data01/gleb/col_data/lexis_nexis/20230714_venice.tsv'\n",
      "full command: cat '/mnt/data01/gleb/col_data/lexis_nexis/20230714_venice.tsv' | { IFS= read -r header ;  { printf \"%s\\n\" \"$header\" >&5 ; } ;  printf \"%s\\n\" \"$header\" ;  IFS= read -u 6 -r options ;  LC_ALL=C sort -t '\t' $options ; }  | gzip - > '/mnt/data01/gleb/venice-kgtk-browser/venice/temp/all.tsv.gz'\n",
      "Monitoring the cat command (pid=9206).\n",
      "Running the sort script (pid=9209).\n",
      "Reading the KGTK input file header line with KgtkReader\n",
      "input format: kgtk\n",
      "KgtkReader: OK to use the fast read path.\n",
      "KgtkReader: reading file descriptor 4\n",
      "header: node1\tlabel\tnode2\tid\n",
      "column names: ['node1', 'label', 'node2', 'id']\n",
      "node1 column found, this is a KGTK edge file\n",
      "KgtkReader: is_edge_file=True is_node_file=False\n",
      "KgtkReader: Special columns: node1=0 label=1 node2=2 id=3\n",
      "KgtkReader: Reading a kgtk file using the fast path.\n",
      "KGTK header: node1 label node2 id\n",
      "sort options:  --parallel 24 --buffer-size 30% --temporary-directory /data3/rogers/kgtk/gd/kgtk_public_graphs/cache/wikidata-20201130/parts/temp -k 4,4 -k 1,1 -k 2,2 -k 3,3\n",
      "\n",
      "Waiting for the sort command to complete.\n",
      "\n",
      "\n",
      "Done reading the input file\n",
      "Monitoring the sort command (pid=9214)\n",
      "Cleanup.\n",
      "Timing: elapsed=0:00:06.266078 CPU=0:00:09.543690 (152.3%): sort2 --verbose=True --gzip-command=gzip --input-file /mnt/data01/gleb/col_data/lexis_nexis/20230714_venice.tsv --output-file /mnt/data01/gleb/venice-kgtk-browser/venice/temp/all.tsv.gz --columns id node1 label node2 --extra --parallel 24 --buffer-size 30% --temporary-directory /data3/rogers/kgtk/gd/kgtk_public_graphs/cache/wikidata-20201130/parts/temp\n",
      "\n",
      "real\t0m6.514s\n",
      "user\t0m7.902s\n",
      "sys\t0m8.451s\n"
     ]
    }
   ],
   "source": [
    "if presorted.lower() == \"true\": \n",
    "    print('Using a presorted input file %s.' % repr(wikidata_input_path))\n",
    "    partition_input_file = wikidata_input_path \n",
    "else: \n",
    "    print('Sorting the input file %s.' % repr(wikidata_input_path))\n",
    "    partition_input_file = wikidata_parts_path + '/all.' + kgtk_extension \n",
    "    !{kgtk_command} {kgtk_options} sort2 --verbose={verbose} --gzip-command={gzip_command} \\\n",
    " --input-file {wikidata_input_path} \\\n",
    " --output-file {partition_input_file} \\\n",
    " --columns     id node1 label node2 \\\n",
    " --extra       \"{sort_extras}\""
   ]
  },
  {
   "cell_type": "markdown",
   "metadata": {},
   "source": [
    "### Partition the Claims, Qualifiers, and Entity Data\n",
    "Split out the entity data (alias, description, label, and sitelinks) and additional metadata (datatype, type).  Separate the qualifiers from the claims.\n"
   ]
  },
  {
   "cell_type": "code",
   "execution_count": 27,
   "metadata": {},
   "outputs": [
    {
     "data": {
      "text/plain": [
       "'/mnt/data01/gleb/venice-kgtk-browser/venice/temp/all.tsv.gz'"
      ]
     },
     "execution_count": 27,
     "metadata": {},
     "output_type": "execute_result"
    }
   ],
   "source": [
    "partition_input_file"
   ]
  },
  {
   "cell_type": "code",
   "execution_count": 28,
   "metadata": {},
   "outputs": [
    {
     "name": "stdout",
     "output_type": "stream",
     "text": [
      "Starting 'filter' on pid 9252.\n",
      "kgtk filter version: 2022-08-31T20:44:35.211458+00:00#u+yUIrg4l2PTfg7u5ta1F9DHS32Qw5fIK6T2ZNJeI1C6kONkQGC7Vt+IsnxLD5qyyfkHq/yW99VcJ08Nhs8wjQ==\n",
      "Opening the input file: /mnt/data01/gleb/venice-kgtk-browser/venice/temp/all.tsv.gz\n",
      "input format: kgtk\n",
      "KgtkReader: OK to use the fast read path.\n",
      "KgtkReader: File_path.suffix: .gz\n",
      "KgtkReader: reading mgzip with 3 threads: /mnt/data01/gleb/venice-kgtk-browser/venice/temp/all.tsv.gz\n",
      "header: node1\tlabel\tnode2\tid\n",
      "column names: ['node1', 'label', 'node2', 'id']\n",
      "node1 column found, this is a KGTK edge file\n",
      "KgtkReader: is_edge_file=True is_node_file=False\n",
      "KgtkReader: Special columns: node1=0 label=1 node2=2 id=3\n",
      "KgtkReader: Reading a kgtk file using the fast path.\n",
      "Opening the output file: /mnt/data01/gleb/venice-kgtk-browser/venice/temp/metadata.property.datatypes.tsv.gz\n",
      "File_path.suffix: .gz\n",
      "KgtkWriter: writing mgzip with 3 threads: /mnt/data01/gleb/venice-kgtk-browser/venice/temp/metadata.property.datatypes.tsv.gz\n",
      "header: node1\tlabel\tnode2\tid\n",
      "Opening the output file: /mnt/data01/gleb/venice-kgtk-browser/venice/temp/aliases.tsv.gz\n",
      "File_path.suffix: .gz\n",
      "KgtkWriter: writing mgzip with 3 threads: /mnt/data01/gleb/venice-kgtk-browser/venice/temp/aliases.tsv.gz\n",
      "header: node1\tlabel\tnode2\tid\n",
      "Opening the output file: /mnt/data01/gleb/venice-kgtk-browser/venice/temp/descriptions.tsv.gz\n",
      "File_path.suffix: .gz\n",
      "KgtkWriter: writing mgzip with 3 threads: /mnt/data01/gleb/venice-kgtk-browser/venice/temp/descriptions.tsv.gz\n",
      "header: node1\tlabel\tnode2\tid\n",
      "Opening the output file: /mnt/data01/gleb/venice-kgtk-browser/venice/temp/labels.tsv.gz\n",
      "File_path.suffix: .gz\n",
      "KgtkWriter: writing mgzip with 3 threads: /mnt/data01/gleb/venice-kgtk-browser/venice/temp/labels.tsv.gz\n",
      "header: node1\tlabel\tnode2\tid\n",
      "Opening the output file: /mnt/data01/gleb/venice-kgtk-browser/venice/temp/sitelinks.tsv.gz\n",
      "File_path.suffix: .gz\n",
      "KgtkWriter: writing mgzip with 3 threads: /mnt/data01/gleb/venice-kgtk-browser/venice/temp/sitelinks.tsv.gz\n",
      "header: node1\tlabel\tnode2\tid\n",
      "Opening the output file: /mnt/data01/gleb/venice-kgtk-browser/venice/temp/sitelinks.qualifiers.tsv.gz\n",
      "File_path.suffix: .gz\n",
      "KgtkWriter: writing mgzip with 3 threads: /mnt/data01/gleb/venice-kgtk-browser/venice/temp/sitelinks.qualifiers.tsv.gz\n",
      "header: node1\tlabel\tnode2\tid\n",
      "Opening the output file: /mnt/data01/gleb/venice-kgtk-browser/venice/temp/metadata.types.tsv.gz\n",
      "File_path.suffix: .gz\n",
      "KgtkWriter: writing mgzip with 3 threads: /mnt/data01/gleb/venice-kgtk-browser/venice/temp/metadata.types.tsv.gz\n",
      "header: node1\tlabel\tnode2\tid\n",
      "Opening the reject file: /mnt/data01/gleb/venice-kgtk-browser/venice/temp/claims-and-qualifiers.sorted-by-id.tsv.gz\n",
      "File_path.suffix: .gz\n",
      "KgtkWriter: writing mgzip with 3 threads: /mnt/data01/gleb/venice-kgtk-browser/venice/temp/claims-and-qualifiers.sorted-by-id.tsv.gz\n",
      "header: node1\tlabel\tnode2\tid\n",
      "Applying a dispatched multiple-output predicate filter\n",
      "Read 3083219 rows, rejected 2928357 rows, wrote 154862 rows.\n",
      "Closing output files.\n",
      "KgtkWriter: closing the output file\n",
      "KgtkWriter: closing the output file\n",
      "KgtkWriter: closing the output file\n",
      "KgtkWriter: closing the output file\n",
      "KgtkWriter: closing the output file\n",
      "KgtkWriter: closing the output file\n",
      "KgtkWriter: closing the output file\n",
      "KgtkWriter: closing the output file\n",
      "All output files have been closed.\n",
      "Timing: elapsed=0:00:15.955789 CPU=0:00:32.470857 (203.5%): filter --verbose=True --use-mgzip=True --first-match-only --input-file /mnt/data01/gleb/venice-kgtk-browser/venice/temp/all.tsv.gz -p ; datatype ; -o /mnt/data01/gleb/venice-kgtk-browser/venice/temp/metadata.property.datatypes.tsv.gz -p ; alias ; -o /mnt/data01/gleb/venice-kgtk-browser/venice/temp/aliases.tsv.gz -p ; description ; -o /mnt/data01/gleb/venice-kgtk-browser/venice/temp/descriptions.tsv.gz -p ; label ; -o /mnt/data01/gleb/venice-kgtk-browser/venice/temp/labels.tsv.gz -p ; addl_wikipedia_sitelink,wikipedia_sitelink ; -o /mnt/data01/gleb/venice-kgtk-browser/venice/temp/sitelinks.tsv.gz -p ; sitelink-badge,sitelink-language,sitelink-site,sitelink-title ; -o /mnt/data01/gleb/venice-kgtk-browser/venice/temp/sitelinks.qualifiers.tsv.gz -p ; type ; -o /mnt/data01/gleb/venice-kgtk-browser/venice/temp/metadata.types.tsv.gz --reject-file /mnt/data01/gleb/venice-kgtk-browser/venice/temp/claims-and-qualifiers.sorted-by-id.tsv.gz\n",
      "\n",
      "real\t0m16.169s\n",
      "user\t0m24.941s\n",
      "sys\t0m7.716s\n"
     ]
    }
   ],
   "source": [
    "!{kgtk_command} {kgtk_options} filter --verbose={verbose} --use-mgzip={use_mgzip} --first-match-only \\\n",
    " --input-file {partition_input_file} \\\n",
    " -p '; datatype ;'        -o {wikidata_parts_path}/metadata.property.datatypes.{kgtk_extension} \\\n",
    " -p '; alias ;'           -o {wikidata_parts_path}/aliases.{kgtk_extension} \\\n",
    " -p '; description ;'     -o {wikidata_parts_path}/descriptions.{kgtk_extension} \\\n",
    " -p '; label ;'           -o {wikidata_parts_path}/labels.{kgtk_extension} \\\n",
    " -p '; addl_wikipedia_sitelink,wikipedia_sitelink ;' \\\n",
    "                          -o {wikidata_parts_path}/sitelinks.{kgtk_extension} \\\n",
    " -p '; sitelink-badge,sitelink-language,sitelink-site,sitelink-title ;' \\\n",
    "                          -o {wikidata_parts_path}/sitelinks.qualifiers.{kgtk_extension} \\\n",
    " -p '; type ;'            -o {wikidata_parts_path}/metadata.types.{kgtk_extension} \\\n",
    " --reject-file {temp_folder_path}/claims-and-qualifiers.sorted-by-id.{kgtk_extension}"
   ]
  },
  {
   "cell_type": "markdown",
   "metadata": {},
   "source": [
    "### Sort the claims and qualifiers on Node1\n",
    "Sort the combined claims and qualifiers file by the node1 column.\n",
    "This may take a while."
   ]
  },
  {
   "cell_type": "code",
   "execution_count": 29,
   "metadata": {},
   "outputs": [
    {
     "name": "stdout",
     "output_type": "stream",
     "text": [
      "Starting 'sort2' on pid 9401.\n",
      "Using the sort command 'sort'\n",
      "header pipe: read_fd=4 write_fd=5\n",
      "sort options pipe: read_fd=6 write_fd=7\n",
      "gzip output file: '/mnt/data01/gleb/venice-kgtk-browser/venice/temp/claims-and-qualifiers.sorted-by-node1.tsv.gz'\n",
      "sort command: { IFS= read -r header ;  { printf \"%s\\n\" \"$header\" >&5 ; } ;  printf \"%s\\n\" \"$header\" ;  IFS= read -u 6 -r options ;  LC_ALL=C sort -t '\t' $options ; }  | gzip - > '/mnt/data01/gleb/venice-kgtk-browser/venice/temp/claims-and-qualifiers.sorted-by-node1.tsv.gz'\n",
      "gunzip input file: '/mnt/data01/gleb/venice-kgtk-browser/venice/temp/claims-and-qualifiers.sorted-by-id.tsv.gz'\n",
      "full command: gzip -dc '/mnt/data01/gleb/venice-kgtk-browser/venice/temp/claims-and-qualifiers.sorted-by-id.tsv.gz' | { IFS= read -r header ;  { printf \"%s\\n\" \"$header\" >&5 ; } ;  printf \"%s\\n\" \"$header\" ;  IFS= read -u 6 -r options ;  LC_ALL=C sort -t '\t' $options ; }  | gzip - > '/mnt/data01/gleb/venice-kgtk-browser/venice/temp/claims-and-qualifiers.sorted-by-node1.tsv.gz'\n",
      "Monitoring the cat command (pid=9473).\n",
      "Running the sort script (pid=9476).\n",
      "Reading the KGTK input file header line with KgtkReader\n",
      "input format: kgtk\n",
      "KgtkReader: OK to use the fast read path.\n",
      "KgtkReader: reading file descriptor 4\n",
      "header: node1\tlabel\tnode2\tid\n",
      "column names: ['node1', 'label', 'node2', 'id']\n",
      "node1 column found, this is a KGTK edge file\n",
      "KgtkReader: is_edge_file=True is_node_file=False\n",
      "KgtkReader: Special columns: node1=0 label=1 node2=2 id=3\n",
      "KgtkReader: Reading a kgtk file using the fast path.\n",
      "KGTK header: node1 label node2 id\n",
      "sort options:  --parallel 24 --buffer-size 30% --temporary-directory /data3/rogers/kgtk/gd/kgtk_public_graphs/cache/wikidata-20201130/parts/temp -k 1,1\n",
      "\n",
      "Waiting for the sort command to complete.\n",
      "\n",
      "\n",
      "Done reading the input file\n",
      "Monitoring the sort command (pid=9481)\n",
      "Cleanup.\n",
      "Timing: elapsed=0:00:05.833799 CPU=0:00:09.338585 (160.1%): sort2 --verbose=True --gzip-command=gzip --input-file /mnt/data01/gleb/venice-kgtk-browser/venice/temp/claims-and-qualifiers.sorted-by-id.tsv.gz --output-file /mnt/data01/gleb/venice-kgtk-browser/venice/temp/claims-and-qualifiers.sorted-by-node1.tsv.gz --columns node1 --extra --parallel 24 --buffer-size 30% --temporary-directory /data3/rogers/kgtk/gd/kgtk_public_graphs/cache/wikidata-20201130/parts/temp\n",
      "\n",
      "real\t0m6.023s\n",
      "user\t0m8.991s\n",
      "sys\t0m8.501s\n"
     ]
    }
   ],
   "source": [
    "!{kgtk_command} {kgtk_options} sort2 --verbose={verbose} --gzip-command={gzip_command} \\\n",
    " --input-file {temp_folder_path}/claims-and-qualifiers.sorted-by-id.{kgtk_extension} \\\n",
    " --output-file {temp_folder_path}/claims-and-qualifiers.sorted-by-node1.{kgtk_extension}\\\n",
    " --columns     node1 \\\n",
    " --extra       \"{sort_extras}\""
   ]
  },
  {
   "cell_type": "markdown",
   "metadata": {},
   "source": [
    "### Split the claims and qualifiers\n",
    "If row A's node1 value matches some other row's id value, the then row A is a qualifier."
   ]
  },
  {
   "cell_type": "code",
   "execution_count": 30,
   "metadata": {},
   "outputs": [
    {
     "name": "stdout",
     "output_type": "stream",
     "text": [
      "Starting 'ifexists' on pid 9535.\n",
      "KgtkIfEfexists version: 2020-12-03T17:23:24.872146+00:00#U5P2iPrj3w+Az10+UMbGGMcK/SHBl0wuwe3R1sFky9gXILt9e5oSjHFhPMQEWYVnQtoPd7FUqsZZqR3PfFWaAg==\n",
      "Opening the input file: /mnt/data01/gleb/venice-kgtk-browser/venice/temp/claims-and-qualifiers.sorted-by-node1.tsv.gz\n",
      "input format: kgtk\n",
      "KgtkReader: OK to use the fast read path.\n",
      "KgtkReader: File_path.suffix: .gz\n",
      "KgtkReader: reading mgzip with 3 threads: /mnt/data01/gleb/venice-kgtk-browser/venice/temp/claims-and-qualifiers.sorted-by-node1.tsv.gz\n",
      "header: node1\tlabel\tnode2\tid\n",
      "column names: ['node1', 'label', 'node2', 'id']\n",
      "node1 column found, this is a KGTK edge file\n",
      "KgtkReader: is_edge_file=True is_node_file=False\n",
      "KgtkReader: Special columns: node1=0 label=1 node2=2 id=3\n",
      "KgtkReader: Reading a kgtk file using the fast path.\n",
      "Opening the filter input file: /mnt/data01/gleb/venice-kgtk-browser/venice/temp/claims-and-qualifiers.sorted-by-id.tsv.gz\n",
      "input format: kgtk\n",
      "KgtkReader: OK to use the fast read path.\n",
      "KgtkReader: File_path.suffix: .gz\n",
      "KgtkReader: reading mgzip with 3 threads: /mnt/data01/gleb/venice-kgtk-browser/venice/temp/claims-and-qualifiers.sorted-by-id.tsv.gz\n",
      "header: node1\tlabel\tnode2\tid\n",
      "column names: ['node1', 'label', 'node2', 'id']\n",
      "node1 column found, this is a KGTK edge file\n",
      "KgtkReader: is_edge_file=True is_node_file=False\n",
      "KgtkReader: Special columns: node1=0 label=1 node2=2 id=3\n",
      "KgtkReader: Reading a kgtk file using the fast path.\n",
      "Input  key columns: node1\n",
      "Filter key columns: id\n",
      "Opening the output file: /mnt/data01/gleb/venice-kgtk-browser/venice/temp/qualifiers.sorted-by-node1.tsv.gz\n",
      "File_path.suffix: .gz\n",
      "KgtkWriter: writing mgzip with 3 threads: /mnt/data01/gleb/venice-kgtk-browser/venice/temp/qualifiers.sorted-by-node1.tsv.gz\n",
      "header: node1\tlabel\tnode2\tid\n",
      "Opening the reject file: /mnt/data01/gleb/venice-kgtk-browser/venice/temp/claims.sorted-by-node1.tsv.gz\n",
      "File_path.suffix: .gz\n",
      "KgtkWriter: writing mgzip with 3 threads: /mnt/data01/gleb/venice-kgtk-browser/venice/temp/claims.sorted-by-node1.tsv.gz\n",
      "header: node1\tlabel\tnode2\tid\n",
      "Processing presorted files.\n",
      "Read 2928357 input records, accepted 1046522 records, rejected 1881835 records.\n",
      "Read 2928357 filter records, 1046522 found matching input records, 1881835 did not find matches.\n",
      "KgtkWriter: closing the output file\n",
      "KgtkWriter: closing the output file\n",
      "Timing: elapsed=0:00:22.271532 CPU=0:00:36.761371 (165.1%): ifexists --verbose=True --use-mgzip=True --presorted --input-file /mnt/data01/gleb/venice-kgtk-browser/venice/temp/claims-and-qualifiers.sorted-by-node1.tsv.gz --filter-file /mnt/data01/gleb/venice-kgtk-browser/venice/temp/claims-and-qualifiers.sorted-by-id.tsv.gz --output-file /mnt/data01/gleb/venice-kgtk-browser/venice/temp/qualifiers.sorted-by-node1.tsv.gz --reject-file /mnt/data01/gleb/venice-kgtk-browser/venice/temp/claims.sorted-by-node1.tsv.gz --input-keys node1 --filter-keys id\n",
      "\n",
      "real\t0m22.453s\n",
      "user\t0m28.906s\n",
      "sys\t0m8.010s\n"
     ]
    }
   ],
   "source": [
    "!{kgtk_command} {kgtk_options} ifexists --verbose={verbose} --use-mgzip={use_mgzip} --presorted \\\n",
    " --input-file {temp_folder_path}/claims-and-qualifiers.sorted-by-node1.{kgtk_extension} \\\n",
    " --filter-file {temp_folder_path}/claims-and-qualifiers.sorted-by-id.{kgtk_extension} \\\n",
    " --output-file {temp_folder_path}/qualifiers.sorted-by-node1.{kgtk_extension}\\\n",
    " --reject-file {temp_folder_path}/claims.sorted-by-node1.{kgtk_extension}\\\n",
    " --input-keys node1 \\\n",
    " --filter-keys id"
   ]
  },
  {
   "cell_type": "markdown",
   "metadata": {},
   "source": [
    "### Sort the claims by ID\n",
    "Sort the split claims by id, node1, label, node2.\n",
    "This may take a while."
   ]
  },
  {
   "cell_type": "code",
   "execution_count": 31,
   "metadata": {},
   "outputs": [
    {
     "name": "stdout",
     "output_type": "stream",
     "text": [
      "Starting 'sort2' on pid 9684.\n",
      "Using the sort command 'sort'\n",
      "header pipe: read_fd=4 write_fd=5\n",
      "sort options pipe: read_fd=6 write_fd=7\n",
      "gzip output file: '/mnt/data01/gleb/venice-kgtk-browser/venice/temp/claims.no-datatype.tsv.gz'\n",
      "sort command: { IFS= read -r header ;  { printf \"%s\\n\" \"$header\" >&5 ; } ;  printf \"%s\\n\" \"$header\" ;  IFS= read -u 6 -r options ;  LC_ALL=C sort -t '\t' $options ; }  | gzip - > '/mnt/data01/gleb/venice-kgtk-browser/venice/temp/claims.no-datatype.tsv.gz'\n",
      "gunzip input file: '/mnt/data01/gleb/venice-kgtk-browser/venice/temp/claims.sorted-by-node1.tsv.gz'\n",
      "full command: gzip -dc '/mnt/data01/gleb/venice-kgtk-browser/venice/temp/claims.sorted-by-node1.tsv.gz' | { IFS= read -r header ;  { printf \"%s\\n\" \"$header\" >&5 ; } ;  printf \"%s\\n\" \"$header\" ;  IFS= read -u 6 -r options ;  LC_ALL=C sort -t '\t' $options ; }  | gzip - > '/mnt/data01/gleb/venice-kgtk-browser/venice/temp/claims.no-datatype.tsv.gz'\n",
      "Monitoring the cat command (pid=9756).\n",
      "Running the sort script (pid=9759).\n",
      "Reading the KGTK input file header line with KgtkReader\n",
      "input format: kgtk\n",
      "KgtkReader: OK to use the fast read path.\n",
      "KgtkReader: reading file descriptor 4\n",
      "header: node1\tlabel\tnode2\tid\n",
      "column names: ['node1', 'label', 'node2', 'id']\n",
      "node1 column found, this is a KGTK edge file\n",
      "KgtkReader: is_edge_file=True is_node_file=False\n",
      "KgtkReader: Special columns: node1=0 label=1 node2=2 id=3\n",
      "KgtkReader: Reading a kgtk file using the fast path.\n",
      "KGTK header: node1 label node2 id\n",
      "sort options:  --parallel 24 --buffer-size 30% --temporary-directory /data3/rogers/kgtk/gd/kgtk_public_graphs/cache/wikidata-20201130/parts/temp -k 4,4 -k 1,1 -k 2,2 -k 3,3\n",
      "\n",
      "Waiting for the sort command to complete.\n",
      "\n",
      "\n",
      "Done reading the input file\n",
      "Monitoring the sort command (pid=9764)\n",
      "Cleanup.\n",
      "Timing: elapsed=0:00:03.963874 CPU=0:00:09.296177 (234.5%): sort2 --verbose=True --gzip-command=gzip --input-file /mnt/data01/gleb/venice-kgtk-browser/venice/temp/claims.sorted-by-node1.tsv.gz --output-file /mnt/data01/gleb/venice-kgtk-browser/venice/temp/claims.no-datatype.tsv.gz --columns id node1 label node2 --extra --parallel 24 --buffer-size 30% --temporary-directory /data3/rogers/kgtk/gd/kgtk_public_graphs/cache/wikidata-20201130/parts/temp\n",
      "\n",
      "real\t0m4.138s\n",
      "user\t0m6.109s\n",
      "sys\t0m7.940s\n"
     ]
    }
   ],
   "source": [
    "!{kgtk_command} {kgtk_options} sort2 --verbose={verbose} --gzip-command={gzip_command} \\\n",
    " --input-file {temp_folder_path}/claims.sorted-by-node1.{kgtk_extension} \\\n",
    " --output-file {temp_folder_path}/claims.no-datatype.{kgtk_extension}\\\n",
    " --columns     id node1 label node2 \\\n",
    " --extra       \"{sort_extras}\""
   ]
  },
  {
   "cell_type": "markdown",
   "metadata": {},
   "source": [
    "### Merge the Wikidata Property Datatypes into the claims\n",
    "Merge the Wikidata Property Datatypes into the claims row as node2;wikidatatype. This column will be used to partition the claims by Wikidata Property Datatype ina later step.  If the claims file already has a node2;wikidatatype column, lift only when that column has an empty value.\n"
   ]
  },
  {
   "cell_type": "code",
   "execution_count": 32,
   "metadata": {},
   "outputs": [
    {
     "name": "stdout",
     "output_type": "stream",
     "text": [
      "Starting 'lift' on pid 9791.\n",
      "Opening the input file: /mnt/data01/gleb/venice-kgtk-browser/venice/temp/claims.no-datatype.tsv.gz\n",
      "input format: kgtk\n",
      "KgtkReader: OK to use the fast read path.\n",
      "KgtkReader: File_path.suffix: .gz\n",
      "KgtkReader: reading mgzip with 3 threads: /mnt/data01/gleb/venice-kgtk-browser/venice/temp/claims.no-datatype.tsv.gz\n",
      "header: node1\tlabel\tnode2\tid\n",
      "column names: ['node1', 'label', 'node2', 'id']\n",
      "node1 column found, this is a KGTK edge file\n",
      "KgtkReader: is_edge_file=True is_node_file=False\n",
      "KgtkReader: Special columns: node1=0 label=1 node2=2 id=3\n",
      "KgtkReader: Reading a kgtk file using the fast path.\n",
      "Opening the label file: /mnt/data01/gleb/venice-kgtk-browser/venice/temp/metadata.property.datatypes.tsv.gz\n",
      "input format: kgtk\n",
      "KgtkReader: OK to use the fast read path.\n",
      "KgtkReader: File_path.suffix: .gz\n",
      "KgtkReader: reading mgzip with 3 threads: /mnt/data01/gleb/venice-kgtk-browser/venice/temp/metadata.property.datatypes.tsv.gz\n",
      "header: node1\tlabel\tnode2\tid\n",
      "column names: ['node1', 'label', 'node2', 'id']\n",
      "node1 column found, this is a KGTK edge file\n",
      "KgtkReader: is_edge_file=True is_node_file=False\n",
      "KgtkReader: Special columns: node1=0 label=1 node2=2 id=3\n",
      "KgtkReader: Reading a kgtk file using the fast path.\n",
      "Lifting with in-memory buffering.\n",
      "Loading labels from the label file.\n",
      "The label file is an edge file, defaulting to the node1 column (or alias) for the match column.\n",
      "The label file is an edge file, defaulting to the node2 column (or alias) for the value column.\n",
      "Loading labels from /mnt/data01/gleb/venice-kgtk-browser/venice/temp/metadata.property.datatypes.tsv.gz\n",
      "label_match_column_idx=0 (node1).\n",
      "label_select_column_idx=1 (label).\n",
      "label_value_column_idx=2 (node2).\n",
      "label_select_column_value='datatype'.\n",
      "Opening the output file: /mnt/data01/gleb/venice-kgtk-browser/venice/temp/claims.tsv.gz\n",
      "File_path.suffix: .gz\n",
      "KgtkWriter: writing mgzip with 3 threads: /mnt/data01/gleb/venice-kgtk-browser/venice/temp/claims.tsv.gz\n",
      "header: node1\tlabel\tnode2\tid\tnode2;wikidatatype\n",
      "Writing output records\n",
      "Read 1881835 non-label input records, 0 skipped.\n",
      "31 labels were found, 27 matched.\n",
      "Wrote 1881835 output records, 1881835 modified.\n",
      "KgtkWriter: closing the output file\n",
      "Timing: elapsed=0:00:13.743269 CPU=0:00:24.100335 (175.4%): lift --verbose=True --use-mgzip=True --input-file /mnt/data01/gleb/venice-kgtk-browser/venice/temp/claims.no-datatype.tsv.gz --columns-to-lift label --overwrite False --label-file /mnt/data01/gleb/venice-kgtk-browser/venice/temp/metadata.property.datatypes.tsv.gz --label-value datatype --output-file /mnt/data01/gleb/venice-kgtk-browser/venice/temp/claims.tsv.gz --columns-to-write node2;wikidatatype\n",
      "\n",
      "real\t0m13.951s\n",
      "user\t0m16.905s\n",
      "sys\t0m7.379s\n"
     ]
    }
   ],
   "source": [
    "!{kgtk_command} {kgtk_options} lift --verbose={verbose} --use-mgzip={use_mgzip} \\\n",
    " --input-file {temp_folder_path}/claims.no-datatype.{kgtk_extension} \\\n",
    " --columns-to-lift label \\\n",
    " --overwrite False \\\n",
    " --label-file {wikidata_parts_path}/metadata.property.datatypes.{kgtk_extension}\\\n",
    " --label-value datatype \\\n",
    " --output-file {wikidata_parts_path}/claims.{kgtk_extension}\\\n",
    " --columns-to-write 'node2;wikidatatype'"
   ]
  },
  {
   "cell_type": "markdown",
   "metadata": {},
   "source": [
    "### Sort the qualifiers by ID\n",
    "Sort the split qualifiers by id, node1, label, node2.\n",
    "This may take a while."
   ]
  },
  {
   "cell_type": "code",
   "execution_count": 33,
   "metadata": {},
   "outputs": [
    {
     "name": "stdout",
     "output_type": "stream",
     "text": [
      "Starting 'sort2' on pid 9899.\n",
      "Using the sort command 'sort'\n",
      "header pipe: read_fd=4 write_fd=5\n",
      "sort options pipe: read_fd=6 write_fd=7\n",
      "gzip output file: '/mnt/data01/gleb/venice-kgtk-browser/venice/temp/qualifiers.tsv.gz'\n",
      "sort command: { IFS= read -r header ;  { printf \"%s\\n\" \"$header\" >&5 ; } ;  printf \"%s\\n\" \"$header\" ;  IFS= read -u 6 -r options ;  LC_ALL=C sort -t '\t' $options ; }  | gzip - > '/mnt/data01/gleb/venice-kgtk-browser/venice/temp/qualifiers.tsv.gz'\n",
      "gunzip input file: '/mnt/data01/gleb/venice-kgtk-browser/venice/temp/qualifiers.sorted-by-node1.tsv.gz'\n",
      "full command: gzip -dc '/mnt/data01/gleb/venice-kgtk-browser/venice/temp/qualifiers.sorted-by-node1.tsv.gz' | { IFS= read -r header ;  { printf \"%s\\n\" \"$header\" >&5 ; } ;  printf \"%s\\n\" \"$header\" ;  IFS= read -u 6 -r options ;  LC_ALL=C sort -t '\t' $options ; }  | gzip - > '/mnt/data01/gleb/venice-kgtk-browser/venice/temp/qualifiers.tsv.gz'\n",
      "Monitoring the cat command (pid=9971).\n",
      "Running the sort script (pid=9974).\n",
      "Reading the KGTK input file header line with KgtkReader\n",
      "input format: kgtk\n",
      "KgtkReader: OK to use the fast read path.\n",
      "KgtkReader: reading file descriptor 4\n",
      "header: node1\tlabel\tnode2\tid\n",
      "column names: ['node1', 'label', 'node2', 'id']\n",
      "node1 column found, this is a KGTK edge file\n",
      "KgtkReader: is_edge_file=True is_node_file=False\n",
      "KgtkReader: Special columns: node1=0 label=1 node2=2 id=3\n",
      "KgtkReader: Reading a kgtk file using the fast path.\n",
      "KGTK header: node1 label node2 id\n",
      "sort options:  --parallel 24 --buffer-size 30% --temporary-directory /data3/rogers/kgtk/gd/kgtk_public_graphs/cache/wikidata-20201130/parts/temp -k 4,4 -k 1,1 -k 2,2 -k 3,3\n",
      "\n",
      "Waiting for the sort command to complete.\n",
      "\n",
      "\n",
      "Done reading the input file\n",
      "Monitoring the sort command (pid=9979)\n",
      "Cleanup.\n",
      "Timing: elapsed=0:00:03.545149 CPU=0:00:09.378029 (264.5%): sort2 --verbose=True --gzip-command=gzip --input-file /mnt/data01/gleb/venice-kgtk-browser/venice/temp/qualifiers.sorted-by-node1.tsv.gz --output-file /mnt/data01/gleb/venice-kgtk-browser/venice/temp/qualifiers.tsv.gz --columns id node1 label node2 --extra --parallel 24 --buffer-size 30% --temporary-directory /data3/rogers/kgtk/gd/kgtk_public_graphs/cache/wikidata-20201130/parts/temp\n",
      "\n",
      "real\t0m3.777s\n",
      "user\t0m4.727s\n",
      "sys\t0m7.540s\n"
     ]
    }
   ],
   "source": [
    "!{kgtk_command} {kgtk_options} sort2 --verbose={verbose} --gzip-command={gzip_command} \\\n",
    " --input-file {temp_folder_path}/qualifiers.sorted-by-node1.{kgtk_extension} \\\n",
    " --output-file {wikidata_parts_path}/qualifiers.{kgtk_extension}\\\n",
    " --columns     id node1 label node2 \\\n",
    " --extra       \"{sort_extras}\""
   ]
  },
  {
   "cell_type": "markdown",
   "metadata": {},
   "source": [
    "### Extract the English aliases, descriptions, labels, and sitelinks.\n",
    "Aliases, descriptions, and labels are extracted by selecting rows where the `node2` value ends in the language suffix for English (`@en`) in a KGTK language-qualified string. This is an abbreviated pattern; a more general pattern would include the single quotes used to delimit a KGTK language-qualified string. If `kgtk import-wikidata` has executed properly, the abbreviated pattern should be sufficient.\n",
    "\n",
    "Sitelink rows do not have a language-specific marker in the `node2` value. We use the `lang` column to provide the language code for English ('en').  The `lang` column is an additional column created by `kgtk import-wikidata`."
   ]
  },
  {
   "cell_type": "code",
   "execution_count": 34,
   "metadata": {},
   "outputs": [
    {
     "name": "stdout",
     "output_type": "stream",
     "text": [
      "Starting 'filter' on pid 9996.\n",
      "kgtk filter version: 2022-08-31T20:44:35.211458+00:00#u+yUIrg4l2PTfg7u5ta1F9DHS32Qw5fIK6T2ZNJeI1C6kONkQGC7Vt+IsnxLD5qyyfkHq/yW99VcJ08Nhs8wjQ==\n",
      "Opening the input file: /mnt/data01/gleb/venice-kgtk-browser/venice/temp/aliases.tsv.gz\n",
      "input format: kgtk\n",
      "KgtkReader: OK to use the fast read path.\n",
      "KgtkReader: File_path.suffix: .gz\n",
      "KgtkReader: reading mgzip with 3 threads: /mnt/data01/gleb/venice-kgtk-browser/venice/temp/aliases.tsv.gz\n",
      "header: node1\tlabel\tnode2\tid\n",
      "column names: ['node1', 'label', 'node2', 'id']\n",
      "node1 column found, this is a KGTK edge file\n",
      "KgtkReader: is_edge_file=True is_node_file=False\n",
      "KgtkReader: Special columns: node1=0 label=1 node2=2 id=3\n",
      "KgtkReader: Reading a kgtk file using the fast path.\n",
      "Opening the output file: /mnt/data01/gleb/venice-kgtk-browser/venice/temp/aliases.en.tsv.gz\n",
      "File_path.suffix: .gz\n",
      "KgtkWriter: writing mgzip with 3 threads: /mnt/data01/gleb/venice-kgtk-browser/venice/temp/aliases.en.tsv.gz\n",
      "header: node1\tlabel\tnode2\tid\n",
      "Applying a multiple-output general regex match filter\n",
      "Read 0 rows, rejected 0 rows, wrote 0 rows.\n",
      "Keep counts: subject=0, predicate=0, object=0.\n",
      "Reject counts: subject=0, predicate=0, object=0.\n",
      "Closing output files.\n",
      "KgtkWriter: closing the output file\n",
      "All output files have been closed.\n",
      "Timing: elapsed=0:00:00.979808 CPU=0:00:09.242923 (943.3%): filter --verbose=True --use-mgzip=True --regex --input-file /mnt/data01/gleb/venice-kgtk-browser/venice/temp/aliases.tsv.gz -p ;; ^.*@en$ -o /mnt/data01/gleb/venice-kgtk-browser/venice/temp/aliases.en.tsv.gz\n",
      "\n",
      "real\t0m1.141s\n",
      "user\t0m1.937s\n",
      "sys\t0m7.438s\n"
     ]
    }
   ],
   "source": [
    "!{kgtk_command} {kgtk_options} filter --verbose={verbose} --use-mgzip={use_mgzip} --regex \\\n",
    " --input-file {wikidata_parts_path}/aliases.{kgtk_extension} \\\n",
    " -p ';; ^.*@en$' -o {wikidata_parts_path}/aliases.en.{kgtk_extension}"
   ]
  },
  {
   "cell_type": "code",
   "execution_count": 35,
   "metadata": {},
   "outputs": [
    {
     "name": "stdout",
     "output_type": "stream",
     "text": [
      "Starting 'filter' on pid 10083.\n",
      "kgtk filter version: 2022-08-31T20:44:35.211458+00:00#u+yUIrg4l2PTfg7u5ta1F9DHS32Qw5fIK6T2ZNJeI1C6kONkQGC7Vt+IsnxLD5qyyfkHq/yW99VcJ08Nhs8wjQ==\n",
      "Opening the input file: /mnt/data01/gleb/venice-kgtk-browser/venice/temp/descriptions.tsv.gz\n",
      "input format: kgtk\n",
      "KgtkReader: OK to use the fast read path.\n",
      "KgtkReader: File_path.suffix: .gz\n",
      "KgtkReader: reading mgzip with 3 threads: /mnt/data01/gleb/venice-kgtk-browser/venice/temp/descriptions.tsv.gz\n",
      "header: node1\tlabel\tnode2\tid\n",
      "column names: ['node1', 'label', 'node2', 'id']\n",
      "node1 column found, this is a KGTK edge file\n",
      "KgtkReader: is_edge_file=True is_node_file=False\n",
      "KgtkReader: Special columns: node1=0 label=1 node2=2 id=3\n",
      "KgtkReader: Reading a kgtk file using the fast path.\n",
      "Opening the output file: /mnt/data01/gleb/venice-kgtk-browser/venice/temp/descriptions.en.tsv.gz\n",
      "File_path.suffix: .gz\n",
      "KgtkWriter: writing mgzip with 3 threads: /mnt/data01/gleb/venice-kgtk-browser/venice/temp/descriptions.en.tsv.gz\n",
      "header: node1\tlabel\tnode2\tid\n",
      "Applying a multiple-output general regex match filter\n",
      "Read 68 rows, rejected 10 rows, wrote 58 rows.\n",
      "Keep counts: subject=0, predicate=0, object=58.\n",
      "Reject counts: subject=0, predicate=0, object=10.\n",
      "Closing output files.\n",
      "KgtkWriter: closing the output file\n",
      "All output files have been closed.\n",
      "Timing: elapsed=0:00:01.065464 CPU=0:00:09.294093 (872.3%): filter --verbose=True --use-mgzip=True --regex --input-file /mnt/data01/gleb/venice-kgtk-browser/venice/temp/descriptions.tsv.gz -p ;; ^.*@en$ -o /mnt/data01/gleb/venice-kgtk-browser/venice/temp/descriptions.en.tsv.gz\n",
      "\n",
      "real\t0m1.232s\n",
      "user\t0m2.019s\n",
      "sys\t0m7.415s\n"
     ]
    }
   ],
   "source": [
    "!{kgtk_command} {kgtk_options} filter --verbose={verbose} --use-mgzip={use_mgzip} --regex \\\n",
    " --input-file {wikidata_parts_path}/descriptions.{kgtk_extension} \\\n",
    " -p ';; ^.*@en$' -o {wikidata_parts_path}/descriptions.en.{kgtk_extension}"
   ]
  },
  {
   "cell_type": "code",
   "execution_count": 36,
   "metadata": {},
   "outputs": [
    {
     "name": "stdout",
     "output_type": "stream",
     "text": [
      "Starting 'filter' on pid 10169.\n",
      "kgtk filter version: 2022-08-31T20:44:35.211458+00:00#u+yUIrg4l2PTfg7u5ta1F9DHS32Qw5fIK6T2ZNJeI1C6kONkQGC7Vt+IsnxLD5qyyfkHq/yW99VcJ08Nhs8wjQ==\n",
      "Opening the input file: /mnt/data01/gleb/venice-kgtk-browser/venice/temp/labels.tsv.gz\n",
      "input format: kgtk\n",
      "KgtkReader: OK to use the fast read path.\n",
      "KgtkReader: File_path.suffix: .gz\n",
      "KgtkReader: reading mgzip with 3 threads: /mnt/data01/gleb/venice-kgtk-browser/venice/temp/labels.tsv.gz\n",
      "header: node1\tlabel\tnode2\tid\n",
      "column names: ['node1', 'label', 'node2', 'id']\n",
      "node1 column found, this is a KGTK edge file\n",
      "KgtkReader: is_edge_file=True is_node_file=False\n",
      "KgtkReader: Special columns: node1=0 label=1 node2=2 id=3\n",
      "KgtkReader: Reading a kgtk file using the fast path.\n",
      "Opening the output file: /mnt/data01/gleb/venice-kgtk-browser/venice/temp/labels.en.tsv.gz\n",
      "File_path.suffix: .gz\n",
      "KgtkWriter: writing mgzip with 3 threads: /mnt/data01/gleb/venice-kgtk-browser/venice/temp/labels.en.tsv.gz\n",
      "header: node1\tlabel\tnode2\tid\n",
      "Applying a multiple-output general regex match filter\n",
      "Read 154763 rows, rejected 0 rows, wrote 154763 rows.\n",
      "Keep counts: subject=0, predicate=0, object=154763.\n",
      "Reject counts: subject=0, predicate=0, object=0.\n",
      "Closing output files.\n",
      "KgtkWriter: closing the output file\n",
      "All output files have been closed.\n",
      "Timing: elapsed=0:00:02.714527 CPU=0:00:10.969652 (404.1%): filter --verbose=True --use-mgzip=True --regex --input-file /mnt/data01/gleb/venice-kgtk-browser/venice/temp/labels.tsv.gz -p ;; ^.*@en$ -o /mnt/data01/gleb/venice-kgtk-browser/venice/temp/labels.en.tsv.gz\n",
      "\n",
      "real\t0m2.879s\n",
      "user\t0m3.801s\n",
      "sys\t0m7.306s\n"
     ]
    }
   ],
   "source": [
    "!{kgtk_command} {kgtk_options} filter --verbose={verbose} --use-mgzip={use_mgzip} --regex \\\n",
    " --input-file {wikidata_parts_path}/labels.{kgtk_extension} \\\n",
    " -p ';; ^.*@en$' -o {wikidata_parts_path}/labels.en.{kgtk_extension}"
   ]
  },
  {
   "cell_type": "code",
   "execution_count": 37,
   "metadata": {},
   "outputs": [
    {
     "name": "stdout",
     "output_type": "stream",
     "text": [
      "Starting 'filter' on pid 10264.\n",
      "kgtk filter version: 2022-08-31T20:44:35.211458+00:00#u+yUIrg4l2PTfg7u5ta1F9DHS32Qw5fIK6T2ZNJeI1C6kONkQGC7Vt+IsnxLD5qyyfkHq/yW99VcJ08Nhs8wjQ==\n",
      "Opening the input file: /mnt/data01/gleb/venice-kgtk-browser/venice/temp/sitelinks.qualifiers.tsv.gz\n",
      "input format: kgtk\n",
      "KgtkReader: OK to use the fast read path.\n",
      "KgtkReader: File_path.suffix: .gz\n",
      "KgtkReader: reading mgzip with 3 threads: /mnt/data01/gleb/venice-kgtk-browser/venice/temp/sitelinks.qualifiers.tsv.gz\n",
      "header: node1\tlabel\tnode2\tid\n",
      "column names: ['node1', 'label', 'node2', 'id']\n",
      "node1 column found, this is a KGTK edge file\n",
      "KgtkReader: is_edge_file=True is_node_file=False\n",
      "KgtkReader: Special columns: node1=0 label=1 node2=2 id=3\n",
      "KgtkReader: Reading a kgtk file using the fast path.\n",
      "Opening the output file: /mnt/data01/gleb/venice-kgtk-browser/venice/temp/sitelinks.language.en.tsv.gz\n",
      "File_path.suffix: .gz\n",
      "KgtkWriter: writing mgzip with 3 threads: /mnt/data01/gleb/venice-kgtk-browser/venice/temp/sitelinks.language.en.tsv.gz\n",
      "header: node1\tlabel\tnode2\tid\n",
      "Applying a single general filter\n",
      "Read 0 rows, rejected 0 rows, wrote 0 rows.\n",
      "Keep counts: subject=0, predicate=0, object=0.\n",
      "Reject counts: subject=0, predicate=0, object=0.\n",
      "Closing output files.\n",
      "KgtkWriter: closing the output file\n",
      "All output files have been closed.\n",
      "Timing: elapsed=0:00:01.004245 CPU=0:00:09.269810 (923.1%): filter --verbose=True --use-mgzip=True --input-file /mnt/data01/gleb/venice-kgtk-browser/venice/temp/sitelinks.qualifiers.tsv.gz -p ; sitelink-language ; en -o /mnt/data01/gleb/venice-kgtk-browser/venice/temp/sitelinks.language.en.tsv.gz\n",
      "\n",
      "real\t0m1.150s\n",
      "user\t0m2.015s\n",
      "sys\t0m7.373s\n"
     ]
    }
   ],
   "source": [
    "!{kgtk_command} {kgtk_options} filter --verbose={verbose} --use-mgzip={use_mgzip} \\\n",
    " --input-file {wikidata_parts_path}/sitelinks.qualifiers.{kgtk_extension} \\\n",
    " -p '; sitelink-language ; en' -o {temp_folder_path}/sitelinks.language.en.{kgtk_extension}"
   ]
  },
  {
   "cell_type": "code",
   "execution_count": 38,
   "metadata": {},
   "outputs": [
    {
     "name": "stdout",
     "output_type": "stream",
     "text": [
      "Starting 'ifexists' on pid 10349.\n",
      "KgtkIfEfexists version: 2020-12-03T17:23:24.872146+00:00#U5P2iPrj3w+Az10+UMbGGMcK/SHBl0wuwe3R1sFky9gXILt9e5oSjHFhPMQEWYVnQtoPd7FUqsZZqR3PfFWaAg==\n",
      "Opening the input file: /mnt/data01/gleb/venice-kgtk-browser/venice/temp/sitelinks.tsv.gz\n",
      "input format: kgtk\n",
      "KgtkReader: OK to use the fast read path.\n",
      "KgtkReader: File_path.suffix: .gz\n",
      "KgtkReader: reading mgzip with 3 threads: /mnt/data01/gleb/venice-kgtk-browser/venice/temp/sitelinks.tsv.gz\n",
      "header: node1\tlabel\tnode2\tid\n",
      "column names: ['node1', 'label', 'node2', 'id']\n",
      "node1 column found, this is a KGTK edge file\n",
      "KgtkReader: is_edge_file=True is_node_file=False\n",
      "KgtkReader: Special columns: node1=0 label=1 node2=2 id=3\n",
      "KgtkReader: Reading a kgtk file using the fast path.\n",
      "Opening the filter input file: /mnt/data01/gleb/venice-kgtk-browser/venice/temp/sitelinks.language.en.tsv.gz\n",
      "input format: kgtk\n",
      "KgtkReader: OK to use the fast read path.\n",
      "KgtkReader: File_path.suffix: .gz\n",
      "KgtkReader: reading mgzip with 3 threads: /mnt/data01/gleb/venice-kgtk-browser/venice/temp/sitelinks.language.en.tsv.gz\n",
      "header: node1\tlabel\tnode2\tid\n",
      "column names: ['node1', 'label', 'node2', 'id']\n",
      "node1 column found, this is a KGTK edge file\n",
      "KgtkReader: is_edge_file=True is_node_file=False\n",
      "KgtkReader: Special columns: node1=0 label=1 node2=2 id=3\n",
      "KgtkReader: Reading a kgtk file using the fast path.\n",
      "Input  key columns: id\n",
      "Filter key columns: node1\n",
      "Opening the output file: /mnt/data01/gleb/venice-kgtk-browser/venice/temp/sitelinks.en.tsv.gz\n",
      "File_path.suffix: .gz\n",
      "KgtkWriter: writing mgzip with 3 threads: /mnt/data01/gleb/venice-kgtk-browser/venice/temp/sitelinks.en.tsv.gz\n",
      "header: node1\tlabel\tnode2\tid\n",
      "Processing presorted files.\n",
      "Read 0 input records, accepted 0 records, rejected 0 records.\n",
      "Read 0 filter records, 0 found matching input records, 0 did not find matches.\n",
      "KgtkWriter: closing the output file\n",
      "Timing: elapsed=0:00:00.938014 CPU=0:00:09.201337 (980.9%): ifexists --verbose=True --use-mgzip=True --presorted --input-file /mnt/data01/gleb/venice-kgtk-browser/venice/temp/sitelinks.tsv.gz --filter-on /mnt/data01/gleb/venice-kgtk-browser/venice/temp/sitelinks.language.en.tsv.gz --output-file /mnt/data01/gleb/venice-kgtk-browser/venice/temp/sitelinks.en.tsv.gz --input-keys id --filter-keys node1\n",
      "\n",
      "real\t0m1.082s\n",
      "user\t0m2.030s\n",
      "sys\t0m7.286s\n"
     ]
    }
   ],
   "source": [
    "!{kgtk_command} {kgtk_options} ifexists --verbose={verbose} --use-mgzip={use_mgzip} --presorted \\\n",
    " --input-file {wikidata_parts_path}/sitelinks.{kgtk_extension} \\\n",
    " --filter-on {temp_folder_path}/sitelinks.language.en.{kgtk_extension} \\\n",
    " --output-file {wikidata_parts_path}/sitelinks.en.{kgtk_extension} \\\n",
    " --input-keys  id \\\n",
    " --filter-keys node1"
   ]
  },
  {
   "cell_type": "code",
   "execution_count": 39,
   "metadata": {},
   "outputs": [
    {
     "name": "stdout",
     "output_type": "stream",
     "text": [
      "Starting 'ifexists' on pid 10440.\n",
      "KgtkIfEfexists version: 2020-12-03T17:23:24.872146+00:00#U5P2iPrj3w+Az10+UMbGGMcK/SHBl0wuwe3R1sFky9gXILt9e5oSjHFhPMQEWYVnQtoPd7FUqsZZqR3PfFWaAg==\n",
      "Opening the input file: /mnt/data01/gleb/venice-kgtk-browser/venice/temp/sitelinks.qualifiers.tsv.gz\n",
      "input format: kgtk\n",
      "KgtkReader: OK to use the fast read path.\n",
      "KgtkReader: File_path.suffix: .gz\n",
      "KgtkReader: reading mgzip with 3 threads: /mnt/data01/gleb/venice-kgtk-browser/venice/temp/sitelinks.qualifiers.tsv.gz\n",
      "header: node1\tlabel\tnode2\tid\n",
      "column names: ['node1', 'label', 'node2', 'id']\n",
      "node1 column found, this is a KGTK edge file\n",
      "KgtkReader: is_edge_file=True is_node_file=False\n",
      "KgtkReader: Special columns: node1=0 label=1 node2=2 id=3\n",
      "KgtkReader: Reading a kgtk file using the fast path.\n",
      "Opening the filter input file: /mnt/data01/gleb/venice-kgtk-browser/venice/temp/sitelinks.language.en.tsv.gz\n",
      "input format: kgtk\n",
      "KgtkReader: OK to use the fast read path.\n",
      "KgtkReader: File_path.suffix: .gz\n",
      "KgtkReader: reading mgzip with 3 threads: /mnt/data01/gleb/venice-kgtk-browser/venice/temp/sitelinks.language.en.tsv.gz\n",
      "header: node1\tlabel\tnode2\tid\n",
      "column names: ['node1', 'label', 'node2', 'id']\n",
      "node1 column found, this is a KGTK edge file\n",
      "KgtkReader: is_edge_file=True is_node_file=False\n",
      "KgtkReader: Special columns: node1=0 label=1 node2=2 id=3\n",
      "KgtkReader: Reading a kgtk file using the fast path.\n",
      "Input  key columns: node1\n",
      "Filter key columns: node1\n",
      "Opening the output file: /mnt/data01/gleb/venice-kgtk-browser/venice/temp/sitelinks.qualifiers.en.tsv.gz\n",
      "File_path.suffix: .gz\n",
      "KgtkWriter: writing mgzip with 3 threads: /mnt/data01/gleb/venice-kgtk-browser/venice/temp/sitelinks.qualifiers.en.tsv.gz\n",
      "header: node1\tlabel\tnode2\tid\n",
      "Processing presorted files.\n",
      "Read 0 input records, accepted 0 records, rejected 0 records.\n",
      "Read 0 filter records, 0 found matching input records, 0 did not find matches.\n",
      "KgtkWriter: closing the output file\n",
      "Timing: elapsed=0:00:00.934705 CPU=0:00:09.202376 (984.5%): ifexists --verbose=True --use-mgzip=True --presorted --input-file /mnt/data01/gleb/venice-kgtk-browser/venice/temp/sitelinks.qualifiers.tsv.gz --filter-on /mnt/data01/gleb/venice-kgtk-browser/venice/temp/sitelinks.language.en.tsv.gz --output-file /mnt/data01/gleb/venice-kgtk-browser/venice/temp/sitelinks.qualifiers.en.tsv.gz --input-keys node1 --filter-keys node1\n",
      "\n",
      "real\t0m1.092s\n",
      "user\t0m2.053s\n",
      "sys\t0m7.278s\n"
     ]
    }
   ],
   "source": [
    "!{kgtk_command} {kgtk_options} ifexists --verbose={verbose} --use-mgzip={use_mgzip} --presorted \\\n",
    " --input-file {wikidata_parts_path}/sitelinks.qualifiers.{kgtk_extension} \\\n",
    " --filter-on {temp_folder_path}/sitelinks.language.en.{kgtk_extension} \\\n",
    " --output-file {wikidata_parts_path}/sitelinks.qualifiers.en.{kgtk_extension} \\\n",
    " --input-keys  node1 \\\n",
    " --filter-keys node1"
   ]
  },
  {
   "cell_type": "markdown",
   "metadata": {},
   "source": [
    "### Partition the claims by Wikidata Property Datatype\n",
    "Wikidata has two names for each Wikidata property datatype: the name that appears in the JSON dump file, and the name that appears in the TTL dump file. `kgtk import-wikidata` currently imports rows from Wikikdata JSON dump files, and these are the names that appear below.\n",
    "\n",
    "The `part.other` file catches any records that have an unknown Wikidata property datatype. Additional Wikidata property datatypes may occur when processing from certain Wikidata extensions."
   ]
  },
  {
   "cell_type": "code",
   "execution_count": null,
   "metadata": {},
   "outputs": [
    {
     "name": "stdout",
     "output_type": "stream",
     "text": [
      "Starting 'filter' on pid 10531.\n",
      "kgtk filter version: 2022-08-31T20:44:35.211458+00:00#u+yUIrg4l2PTfg7u5ta1F9DHS32Qw5fIK6T2ZNJeI1C6kONkQGC7Vt+IsnxLD5qyyfkHq/yW99VcJ08Nhs8wjQ==\n",
      "Opening the input file: /mnt/data01/gleb/venice-kgtk-browser/venice/temp/claims.tsv.gz\n",
      "input format: kgtk\n",
      "KgtkReader: OK to use the fast read path.\n",
      "KgtkReader: File_path.suffix: .gz\n",
      "KgtkReader: reading mgzip with 3 threads: /mnt/data01/gleb/venice-kgtk-browser/venice/temp/claims.tsv.gz\n",
      "header: node1\tlabel\tnode2\tid\tnode2;wikidatatype\n",
      "column names: ['node1', 'label', 'node2', 'id', 'node2;wikidatatype']\n",
      "node1 column found, this is a KGTK edge file\n",
      "KgtkReader: is_edge_file=True is_node_file=False\n",
      "KgtkReader: Special columns: node1=0 label=1 node2=2 id=3\n",
      "KgtkReader: Reading a kgtk file using the fast path.\n",
      "Opening the output file: /mnt/data01/gleb/venice-kgtk-browser/venice/temp/claims.commonsMedia.tsv.gz\n",
      "File_path.suffix: .gz\n",
      "KgtkWriter: writing mgzip with 3 threads: /mnt/data01/gleb/venice-kgtk-browser/venice/temp/claims.commonsMedia.tsv.gz\n",
      "header: node1\tlabel\tnode2\tid\tnode2;wikidatatype\n",
      "Opening the output file: /mnt/data01/gleb/venice-kgtk-browser/venice/temp/claims.external-id.tsv.gz\n",
      "File_path.suffix: .gz\n",
      "KgtkWriter: writing mgzip with 3 threads: /mnt/data01/gleb/venice-kgtk-browser/venice/temp/claims.external-id.tsv.gz\n",
      "header: node1\tlabel\tnode2\tid\tnode2;wikidatatype\n",
      "Opening the output file: /mnt/data01/gleb/venice-kgtk-browser/venice/temp/claims.geo-shape.tsv.gz\n",
      "File_path.suffix: .gz\n",
      "KgtkWriter: writing mgzip with 3 threads: /mnt/data01/gleb/venice-kgtk-browser/venice/temp/claims.geo-shape.tsv.gz\n",
      "header: node1\tlabel\tnode2\tid\tnode2;wikidatatype\n",
      "Opening the output file: /mnt/data01/gleb/venice-kgtk-browser/venice/temp/claims.globe-coordinate.tsv.gz\n",
      "File_path.suffix: .gz\n",
      "KgtkWriter: writing mgzip with 3 threads: /mnt/data01/gleb/venice-kgtk-browser/venice/temp/claims.globe-coordinate.tsv.gz\n",
      "header: node1\tlabel\tnode2\tid\tnode2;wikidatatype\n",
      "Opening the output file: /mnt/data01/gleb/venice-kgtk-browser/venice/temp/claims.math.tsv.gz\n",
      "File_path.suffix: .gz\n",
      "KgtkWriter: writing mgzip with 3 threads: /mnt/data01/gleb/venice-kgtk-browser/venice/temp/claims.math.tsv.gz\n",
      "header: node1\tlabel\tnode2\tid\tnode2;wikidatatype\n",
      "Opening the output file: /mnt/data01/gleb/venice-kgtk-browser/venice/temp/claims.monolingualtext.tsv.gz\n",
      "File_path.suffix: .gz\n",
      "KgtkWriter: writing mgzip with 3 threads: /mnt/data01/gleb/venice-kgtk-browser/venice/temp/claims.monolingualtext.tsv.gz\n",
      "header: node1\tlabel\tnode2\tid\tnode2;wikidatatype\n",
      "Opening the output file: /mnt/data01/gleb/venice-kgtk-browser/venice/temp/claims.musical-notation.tsv.gz\n",
      "File_path.suffix: .gz\n",
      "KgtkWriter: writing mgzip with 3 threads: /mnt/data01/gleb/venice-kgtk-browser/venice/temp/claims.musical-notation.tsv.gz\n",
      "header: node1\tlabel\tnode2\tid\tnode2;wikidatatype\n",
      "Opening the output file: /mnt/data01/gleb/venice-kgtk-browser/venice/temp/claims.quantity.tsv.gz\n",
      "File_path.suffix: .gz\n",
      "KgtkWriter: writing mgzip with 3 threads: /mnt/data01/gleb/venice-kgtk-browser/venice/temp/claims.quantity.tsv.gz\n",
      "header: node1\tlabel\tnode2\tid\tnode2;wikidatatype\n",
      "Opening the output file: /mnt/data01/gleb/venice-kgtk-browser/venice/temp/claims.string.tsv.gz\n",
      "File_path.suffix: .gz\n",
      "KgtkWriter: writing mgzip with 3 threads: /mnt/data01/gleb/venice-kgtk-browser/venice/temp/claims.string.tsv.gz\n",
      "header: node1\tlabel\tnode2\tid\tnode2;wikidatatype\n",
      "Opening the output file: /mnt/data01/gleb/venice-kgtk-browser/venice/temp/claims.tabular-data.tsv.gz\n",
      "File_path.suffix: .gz\n",
      "KgtkWriter: writing mgzip with 3 threads: /mnt/data01/gleb/venice-kgtk-browser/venice/temp/claims.tabular-data.tsv.gz\n",
      "header: node1\tlabel\tnode2\tid\tnode2;wikidatatype\n",
      "Opening the output file: /mnt/data01/gleb/venice-kgtk-browser/venice/temp/claims.time.tsv.gz\n",
      "File_path.suffix: .gz\n",
      "KgtkWriter: writing mgzip with 3 threads: /mnt/data01/gleb/venice-kgtk-browser/venice/temp/claims.time.tsv.gz\n",
      "header: node1\tlabel\tnode2\tid\tnode2;wikidatatype\n",
      "Opening the output file: /mnt/data01/gleb/venice-kgtk-browser/venice/temp/claims.url.tsv.gz\n",
      "File_path.suffix: .gz\n",
      "KgtkWriter: writing mgzip with 3 threads: /mnt/data01/gleb/venice-kgtk-browser/venice/temp/claims.url.tsv.gz\n",
      "header: node1\tlabel\tnode2\tid\tnode2;wikidatatype\n",
      "Opening the output file: /mnt/data01/gleb/venice-kgtk-browser/venice/temp/claims.wikibase-form.tsv.gz\n",
      "File_path.suffix: .gz\n",
      "KgtkWriter: writing mgzip with 3 threads: /mnt/data01/gleb/venice-kgtk-browser/venice/temp/claims.wikibase-form.tsv.gz\n",
      "header: node1\tlabel\tnode2\tid\tnode2;wikidatatype\n",
      "Opening the output file: /mnt/data01/gleb/venice-kgtk-browser/venice/temp/claims.wikibase-item.tsv.gz\n",
      "File_path.suffix: .gz\n",
      "KgtkWriter: writing mgzip with 3 threads: /mnt/data01/gleb/venice-kgtk-browser/venice/temp/claims.wikibase-item.tsv.gz\n",
      "header: node1\tlabel\tnode2\tid\tnode2;wikidatatype\n",
      "Opening the output file: /mnt/data01/gleb/venice-kgtk-browser/venice/temp/claims.wikibase-lexeme.tsv.gz\n",
      "File_path.suffix: .gz\n",
      "KgtkWriter: writing mgzip with 3 threads: /mnt/data01/gleb/venice-kgtk-browser/venice/temp/claims.wikibase-lexeme.tsv.gz\n",
      "header: node1\tlabel\tnode2\tid\tnode2;wikidatatype\n",
      "Opening the output file: /mnt/data01/gleb/venice-kgtk-browser/venice/temp/claims.wikibase-property.tsv.gz\n",
      "File_path.suffix: .gz\n",
      "KgtkWriter: writing mgzip with 3 threads: /mnt/data01/gleb/venice-kgtk-browser/venice/temp/claims.wikibase-property.tsv.gz\n",
      "header: node1\tlabel\tnode2\tid\tnode2;wikidatatype\n",
      "Opening the output file: /mnt/data01/gleb/venice-kgtk-browser/venice/temp/claims.wikibase-sense.tsv.gz\n",
      "File_path.suffix: .gz\n",
      "KgtkWriter: writing mgzip with 3 threads: /mnt/data01/gleb/venice-kgtk-browser/venice/temp/claims.wikibase-sense.tsv.gz\n",
      "header: node1\tlabel\tnode2\tid\tnode2;wikidatatype\n",
      "Opening the reject file: /mnt/data01/gleb/venice-kgtk-browser/venice/temp/claims.other.tsv.gz\n",
      "File_path.suffix: .gz\n",
      "KgtkWriter: writing mgzip with 3 threads: /mnt/data01/gleb/venice-kgtk-browser/venice/temp/claims.other.tsv.gz\n",
      "header: node1\tlabel\tnode2\tid\tnode2;wikidatatype\n",
      "Applying a dispatched multiple-output object filter\n",
      "Read 1881835 rows, rejected 1533022 rows, wrote 348813 rows.\n",
      "Closing output files.\n",
      "KgtkWriter: closing the output file\n",
      "KgtkWriter: closing the output file\n",
      "KgtkWriter: closing the output file\n",
      "KgtkWriter: closing the output file\n",
      "KgtkWriter: closing the output file\n",
      "KgtkWriter: closing the output file\n",
      "KgtkWriter: closing the output file\n",
      "KgtkWriter: closing the output file\n",
      "KgtkWriter: closing the output file\n",
      "KgtkWriter: closing the output file\n",
      "KgtkWriter: closing the output file\n",
      "KgtkWriter: closing the output file\n",
      "KgtkWriter: closing the output file\n",
      "KgtkWriter: closing the output file\n",
      "KgtkWriter: closing the output file\n",
      "KgtkWriter: closing the output file\n",
      "KgtkWriter: closing the output file\n",
      "KgtkWriter: closing the output file\n"
     ]
    }
   ],
   "source": [
    "!{kgtk_command} {kgtk_options} filter --verbose={verbose} --use-mgzip={use_mgzip} --first-match-only \\\n",
    " --input-file {wikidata_parts_path}/claims.{kgtk_extension} \\\n",
    " --obj 'node2;wikidatatype' \\\n",
    " -p ';; commonsMedia'      -o {wikidata_parts_path}/claims.commonsMedia.{kgtk_extension} \\\n",
    " -p ';; external-id'       -o {wikidata_parts_path}/claims.external-id.{kgtk_extension} \\\n",
    " -p ';; geo-shape'         -o {wikidata_parts_path}/claims.geo-shape.{kgtk_extension} \\\n",
    " -p ';; globe-coordinate'  -o {wikidata_parts_path}/claims.globe-coordinate.{kgtk_extension} \\\n",
    " -p ';; math'              -o {wikidata_parts_path}/claims.math.{kgtk_extension} \\\n",
    " -p ';; monolingualtext'   -o {wikidata_parts_path}/claims.monolingualtext.{kgtk_extension} \\\n",
    " -p ';; musical-notation'  -o {wikidata_parts_path}/claims.musical-notation.{kgtk_extension} \\\n",
    " -p ';; quantity'          -o {wikidata_parts_path}/claims.quantity.{kgtk_extension} \\\n",
    " -p ';; string'            -o {wikidata_parts_path}/claims.string.{kgtk_extension} \\\n",
    " -p ';; tabular-data'      -o {wikidata_parts_path}/claims.tabular-data.{kgtk_extension} \\\n",
    " -p ';; time'              -o {wikidata_parts_path}/claims.time.{kgtk_extension} \\\n",
    " -p ';; url'               -o {wikidata_parts_path}/claims.url.{kgtk_extension} \\\n",
    " -p ';; wikibase-form'     -o {wikidata_parts_path}/claims.wikibase-form.{kgtk_extension} \\\n",
    " -p ';; wikibase-item'     -o {wikidata_parts_path}/claims.wikibase-item.{kgtk_extension} \\\n",
    " -p ';; wikibase-lexeme'   -o {wikidata_parts_path}/claims.wikibase-lexeme.{kgtk_extension} \\\n",
    " -p ';; wikibase-property' -o {wikidata_parts_path}/claims.wikibase-property.{kgtk_extension} \\\n",
    " -p ';; wikibase-sense'    -o {wikidata_parts_path}/claims.wikibase-sense.{kgtk_extension} \\\n",
    " --reject-file {wikidata_parts_path}/claims.other.{kgtk_extension}"
   ]
  },
  {
   "cell_type": "markdown",
   "metadata": {},
   "source": [
    "### Partition the qualifiers\n",
    "Extract the qualifier records for each of the Wikidata property datatype partition files."
   ]
  },
  {
   "cell_type": "code",
   "execution_count": 2,
   "metadata": {},
   "outputs": [
    {
     "name": "stdout",
     "output_type": "stream",
     "text": [
      "/bin/bash: line 1: {kgtk_command}: command not found\n"
     ]
    }
   ],
   "source": [
    "# !{kgtk_command} {kgtk_options} ifexists --verbose={verbose} --use-mgzip={use_mgzip} --presorted \\\n",
    "#  --input-file  {wikidata_parts_path}/qualifiers.{kgtk_extension} \\\n",
    "#  --filter-on   {wikidata_parts_path}/claims.commonsMedia.{kgtk_extension} \\\n",
    "#  --output-file {wikidata_parts_path}/qualifiers.commonsMedia.{kgtk_extension} \\\n",
    "#  --input-keys  node1 \\\n",
    "#  --filter-keys id"
   ]
  },
  {
   "cell_type": "code",
   "execution_count": 3,
   "metadata": {},
   "outputs": [
    {
     "name": "stdout",
     "output_type": "stream",
     "text": [
      "/bin/bash: line 1: {kgtk_command}: command not found\n"
     ]
    }
   ],
   "source": [
    "# !{kgtk_command} {kgtk_options} ifexists --verbose={verbose} --use-mgzip={use_mgzip} --presorted \\\n",
    "#  --input-file  {wikidata_parts_path}/qualifiers.{kgtk_extension} \\\n",
    "#  --filter-on   {wikidata_parts_path}/claims.external-id.{kgtk_extension} \\\n",
    "#  --output-file {wikidata_parts_path}/qualifiers.external-id.{kgtk_extension} \\\n",
    "#  --input-keys  node1 \\\n",
    "#  --filter-keys id"
   ]
  },
  {
   "cell_type": "code",
   "execution_count": 4,
   "metadata": {},
   "outputs": [
    {
     "name": "stdout",
     "output_type": "stream",
     "text": [
      "/bin/bash: line 1: {kgtk_command}: command not found\n"
     ]
    }
   ],
   "source": [
    "# !{kgtk_command} {kgtk_options} ifexists --verbose={verbose} --use-mgzip={use_mgzip} --presorted \\\n",
    "#  --input-file  {wikidata_parts_path}/qualifiers.{kgtk_extension} \\\n",
    "#  --filter-on   {wikidata_parts_path}/claims.geo-shape.{kgtk_extension} \\\n",
    "#  --output-file {wikidata_parts_path}/qualifiers.geo-shape.{kgtk_extension} \\\n",
    "#  --input-keys  node1 \\\n",
    "#  --filter-keys id"
   ]
  },
  {
   "cell_type": "code",
   "execution_count": 5,
   "metadata": {},
   "outputs": [
    {
     "name": "stdout",
     "output_type": "stream",
     "text": [
      "/bin/bash: line 1: {kgtk_command}: command not found\n"
     ]
    }
   ],
   "source": [
    "# !{kgtk_command} {kgtk_options} ifexists --verbose={verbose} --use-mgzip={use_mgzip} --presorted \\\n",
    "#  --input-file  {wikidata_parts_path}/qualifiers.{kgtk_extension} \\\n",
    "#  --filter-on   {wikidata_parts_path}/claims.globe-coordinate.{kgtk_extension} \\\n",
    "#  --output-file {wikidata_parts_path}/qualifiers.globe-coordinate.{kgtk_extension} \\\n",
    "#  --input-keys  node1 \\\n",
    "#  --filter-keys id"
   ]
  },
  {
   "cell_type": "code",
   "execution_count": 6,
   "metadata": {},
   "outputs": [
    {
     "name": "stdout",
     "output_type": "stream",
     "text": [
      "/bin/bash: line 1: {kgtk_command}: command not found\n"
     ]
    }
   ],
   "source": [
    "# !{kgtk_command} {kgtk_options} ifexists --verbose={verbose} --use-mgzip={use_mgzip} --presorted \\\n",
    "#  --input-file  {wikidata_parts_path}/qualifiers.{kgtk_extension} \\\n",
    "#  --filter-on   {wikidata_parts_path}/claims.math.{kgtk_extension} \\\n",
    "#  --output-file {wikidata_parts_path}/qualifiers.math.{kgtk_extension} \\\n",
    "#  --input-keys  node1 \\\n",
    "#  --filter-keys id"
   ]
  },
  {
   "cell_type": "code",
   "execution_count": 7,
   "metadata": {},
   "outputs": [
    {
     "name": "stdout",
     "output_type": "stream",
     "text": [
      "/bin/bash: line 1: {kgtk_command}: command not found\n"
     ]
    }
   ],
   "source": [
    "# !{kgtk_command} {kgtk_options} ifexists --verbose={verbose} --use-mgzip={use_mgzip} --presorted \\\n",
    "#  --input-file  {wikidata_parts_path}/qualifiers.{kgtk_extension} \\\n",
    "#  --filter-on   {wikidata_parts_path}/claims.monolingualtext.{kgtk_extension} \\\n",
    "#  --output-file {wikidata_parts_path}/qualifiers.monolingualtext.{kgtk_extension} \\\n",
    "#  --input-keys  node1 \\\n",
    "#  --filter-keys id"
   ]
  },
  {
   "cell_type": "code",
   "execution_count": 8,
   "metadata": {},
   "outputs": [
    {
     "name": "stdout",
     "output_type": "stream",
     "text": [
      "/bin/bash: line 1: {kgtk_command}: command not found\n"
     ]
    }
   ],
   "source": [
    "# !{kgtk_command} {kgtk_options} ifexists --verbose={verbose} --use-mgzip={use_mgzip} --presorted \\\n",
    "#  --input-file  {wikidata_parts_path}/qualifiers.{kgtk_extension} \\\n",
    "#  --filter-on   {wikidata_parts_path}/claims.musical-notation.{kgtk_extension} \\\n",
    "#  --output-file {wikidata_parts_path}/qualifiers.musical-notation.{kgtk_extension} \\\n",
    "#  --input-keys  node1 \\\n",
    "#  --filter-keys id"
   ]
  },
  {
   "cell_type": "code",
   "execution_count": 9,
   "metadata": {},
   "outputs": [
    {
     "name": "stdout",
     "output_type": "stream",
     "text": [
      "/bin/bash: line 1: {kgtk_command}: command not found\n"
     ]
    }
   ],
   "source": [
    "# !{kgtk_command} {kgtk_options} ifexists --verbose={verbose} --use-mgzip={use_mgzip} --presorted \\\n",
    "#  --input-file  {wikidata_parts_path}/qualifiers.{kgtk_extension} \\\n",
    "#  --filter-on   {wikidata_parts_path}/claims.quantity.{kgtk_extension} \\\n",
    "#  --output-file {wikidata_parts_path}/qualifiers.quantity.{kgtk_extension} \\\n",
    "#  --input-keys  node1 \\\n",
    "#  --filter-keys id"
   ]
  },
  {
   "cell_type": "code",
   "execution_count": 10,
   "metadata": {},
   "outputs": [
    {
     "name": "stdout",
     "output_type": "stream",
     "text": [
      "/bin/bash: line 1: {kgtk_command}: command not found\n"
     ]
    }
   ],
   "source": [
    "# !{kgtk_command} {kgtk_options} ifexists --verbose={verbose} --use-mgzip={use_mgzip} --presorted \\\n",
    "#  --input-file  {wikidata_parts_path}/qualifiers.{kgtk_extension} \\\n",
    "#  --filter-on   {wikidata_parts_path}/claims.string.{kgtk_extension} \\\n",
    "#  --output-file {wikidata_parts_path}/qualifiers.string.{kgtk_extension} \\\n",
    "#  --input-keys  node1 \\\n",
    "#  --filter-keys id"
   ]
  },
  {
   "cell_type": "code",
   "execution_count": 11,
   "metadata": {},
   "outputs": [
    {
     "name": "stdout",
     "output_type": "stream",
     "text": [
      "/bin/bash: line 1: {kgtk_command}: command not found\n"
     ]
    }
   ],
   "source": [
    "# !{kgtk_command} {kgtk_options} ifexists --verbose={verbose} --use-mgzip={use_mgzip} --presorted \\\n",
    "#  --input-file  {wikidata_parts_path}/qualifiers.{kgtk_extension} \\\n",
    "#  --filter-on   {wikidata_parts_path}/claims.tabular-data.{kgtk_extension} \\\n",
    "#  --output-file {wikidata_parts_path}/qualifiers.tabular-data.{kgtk_extension} \\\n",
    "#  --input-keys  node1 \\\n",
    "#  --filter-keys id"
   ]
  },
  {
   "cell_type": "code",
   "execution_count": 12,
   "metadata": {},
   "outputs": [
    {
     "name": "stdout",
     "output_type": "stream",
     "text": [
      "/bin/bash: line 1: {kgtk_command}: command not found\n"
     ]
    }
   ],
   "source": [
    "# !{kgtk_command} {kgtk_options} ifexists --verbose={verbose} --use-mgzip={use_mgzip} --presorted \\\n",
    "#  --input-file  {wikidata_parts_path}/qualifiers.{kgtk_extension} \\\n",
    "#  --filter-on   {wikidata_parts_path}/claims.time.{kgtk_extension} \\\n",
    "#  --output-file {wikidata_parts_path}/qualifiers.time.{kgtk_extension} \\\n",
    "#  --input-keys  node1 \\\n",
    "#  --filter-keys id"
   ]
  },
  {
   "cell_type": "code",
   "execution_count": 13,
   "metadata": {},
   "outputs": [
    {
     "name": "stdout",
     "output_type": "stream",
     "text": [
      "/bin/bash: line 1: {kgtk_command}: command not found\n"
     ]
    }
   ],
   "source": [
    "# !{kgtk_command} {kgtk_options} ifexists --verbose={verbose} --use-mgzip={use_mgzip} --presorted \\\n",
    "#  --input-file  {wikidata_parts_path}/qualifiers.{kgtk_extension} \\\n",
    "#  --filter-on   {wikidata_parts_path}/claims.url.{kgtk_extension} \\\n",
    "#  --output-file {wikidata_parts_path}/qualifiers.url.{kgtk_extension} \\\n",
    "#  --input-keys  node1 \\\n",
    "#  --filter-keys id"
   ]
  },
  {
   "cell_type": "code",
   "execution_count": 14,
   "metadata": {},
   "outputs": [
    {
     "name": "stdout",
     "output_type": "stream",
     "text": [
      "/bin/bash: line 1: {kgtk_command}: command not found\n"
     ]
    }
   ],
   "source": [
    "# !{kgtk_command} {kgtk_options} ifexists --verbose={verbose} --use-mgzip={use_mgzip} --presorted \\\n",
    "#  --input-file  {wikidata_parts_path}/qualifiers.{kgtk_extension} \\\n",
    "#  --filter-on   {wikidata_parts_path}/claims.wikibase-form.{kgtk_extension} \\\n",
    "#  --output-file {wikidata_parts_path}/qualifiers.wikibase-form.{kgtk_extension} \\\n",
    "#  --input-keys  node1 \\\n",
    "#  --filter-keys id"
   ]
  },
  {
   "cell_type": "code",
   "execution_count": 15,
   "metadata": {},
   "outputs": [
    {
     "name": "stdout",
     "output_type": "stream",
     "text": [
      "/bin/bash: line 1: {kgtk_command}: command not found\n"
     ]
    }
   ],
   "source": [
    "# !{kgtk_command} {kgtk_options} ifexists --verbose={verbose} --use-mgzip={use_mgzip} --presorted \\\n",
    "#  --input-file  {wikidata_parts_path}/qualifiers.{kgtk_extension} \\\n",
    "#  --filter-on   {wikidata_parts_path}/claims.wikibase-item.{kgtk_extension} \\\n",
    "#  --output-file {wikidata_parts_path}/qualifiers.wikibase-item.{kgtk_extension} \\\n",
    "#  --input-keys  node1 \\\n",
    "#  --filter-keys id"
   ]
  },
  {
   "cell_type": "code",
   "execution_count": 16,
   "metadata": {},
   "outputs": [
    {
     "name": "stdout",
     "output_type": "stream",
     "text": [
      "/bin/bash: line 1: {kgtk_command}: command not found\n"
     ]
    }
   ],
   "source": [
    "# !{kgtk_command} {kgtk_options} ifexists --verbose={verbose} --use-mgzip={use_mgzip} --presorted \\\n",
    "#  --input-file  {wikidata_parts_path}/qualifiers.{kgtk_extension} \\\n",
    "#  --filter-on   {wikidata_parts_path}/claims.wikibase-lexeme.{kgtk_extension} \\\n",
    "#  --output-file {wikidata_parts_path}/qualifiers.wikibase-lexeme.{kgtk_extension} \\\n",
    "#  --input-keys  node1 \\\n",
    "#  --filter-keys id"
   ]
  },
  {
   "cell_type": "code",
   "execution_count": 17,
   "metadata": {},
   "outputs": [
    {
     "name": "stdout",
     "output_type": "stream",
     "text": [
      "/bin/bash: line 1: {kgtk_command}: command not found\n"
     ]
    }
   ],
   "source": [
    "# !{kgtk_command} {kgtk_options} ifexists --verbose={verbose} --use-mgzip={use_mgzip} --presorted \\\n",
    "#  --input-file  {wikidata_parts_path}/qualifiers.{kgtk_extension} \\\n",
    "#  --filter-on   {wikidata_parts_path}/claims.wikibase-property.{kgtk_extension} \\\n",
    "#  --output-file {wikidata_parts_path}/qualifiers.wikibase-property.{kgtk_extension} \\\n",
    "#  --input-keys  node1 \\\n",
    "#  --filter-keys id"
   ]
  },
  {
   "cell_type": "code",
   "execution_count": 18,
   "metadata": {},
   "outputs": [
    {
     "name": "stdout",
     "output_type": "stream",
     "text": [
      "/bin/bash: line 1: {kgtk_command}: command not found\n"
     ]
    }
   ],
   "source": [
    "# !{kgtk_command} {kgtk_options} ifexists --verbose={verbose} --use-mgzip={use_mgzip} --presorted \\\n",
    "#  --input-file  {wikidata_parts_path}/qualifiers.{kgtk_extension} \\\n",
    "#  --filter-on   {wikidata_parts_path}/claims.wikibase-sense.{kgtk_extension} \\\n",
    "#  --output-file {wikidata_parts_path}/qualifiers.wikibase-sense.{kgtk_extension} \\\n",
    "#  --input-keys  node1 \\\n",
    "#  --filter-keys id"
   ]
  }
 ],
 "metadata": {
  "kernelspec": {
   "display_name": "Python 3 (ipykernel)",
   "language": "python",
   "name": "python3"
  },
  "language_info": {
   "codemirror_mode": {
    "name": "ipython",
    "version": 3
   },
   "file_extension": ".py",
   "mimetype": "text/x-python",
   "name": "python",
   "nbconvert_exporter": "python",
   "pygments_lexer": "ipython3",
   "version": "3.9.7"
  }
 },
 "nbformat": 4,
 "nbformat_minor": 4
}
